{
 "cells": [
  {
   "cell_type": "code",
   "execution_count": 1,
   "metadata": {},
   "outputs": [],
   "source": [
    "import pandas as pd\n",
    "import numpy as np\n",
    "import matplotlib.pyplot as plt\n",
    "import os\n",
    "from collections import Counter, OrderedDict\n",
    "import networkx as nx\n",
    "\n",
    "import utils\n",
    "\n",
    "%matplotlib inline"
   ]
  },
  {
   "cell_type": "markdown",
   "metadata": {},
   "source": [
    "## Load + Assess"
   ]
  },
  {
   "cell_type": "code",
   "execution_count": 2,
   "metadata": {},
   "outputs": [],
   "source": [
    "#location of raw data\n",
    "user_dir = 'data/user.json'\n",
    "\n",
    "user_df = utils.chunk_loader(user_dir, read_limit=-1)"
   ]
  },
  {
   "cell_type": "code",
   "execution_count": 3,
   "metadata": {},
   "outputs": [
    {
     "data": {
      "text/html": [
       "<div>\n",
       "<style scoped>\n",
       "    .dataframe tbody tr th:only-of-type {\n",
       "        vertical-align: middle;\n",
       "    }\n",
       "\n",
       "    .dataframe tbody tr th {\n",
       "        vertical-align: top;\n",
       "    }\n",
       "\n",
       "    .dataframe thead th {\n",
       "        text-align: right;\n",
       "    }\n",
       "</style>\n",
       "<table border=\"1\" class=\"dataframe\">\n",
       "  <thead>\n",
       "    <tr style=\"text-align: right;\">\n",
       "      <th></th>\n",
       "      <th>average_stars</th>\n",
       "      <th>compliment_cool</th>\n",
       "      <th>compliment_cute</th>\n",
       "      <th>compliment_funny</th>\n",
       "      <th>compliment_hot</th>\n",
       "      <th>compliment_list</th>\n",
       "      <th>compliment_more</th>\n",
       "      <th>compliment_note</th>\n",
       "      <th>compliment_photos</th>\n",
       "      <th>compliment_plain</th>\n",
       "      <th>...</th>\n",
       "      <th>cool</th>\n",
       "      <th>elite</th>\n",
       "      <th>fans</th>\n",
       "      <th>friends</th>\n",
       "      <th>funny</th>\n",
       "      <th>name</th>\n",
       "      <th>review_count</th>\n",
       "      <th>useful</th>\n",
       "      <th>user_id</th>\n",
       "      <th>yelping_since</th>\n",
       "    </tr>\n",
       "  </thead>\n",
       "  <tbody>\n",
       "    <tr>\n",
       "      <th>0</th>\n",
       "      <td>4.03</td>\n",
       "      <td>1</td>\n",
       "      <td>0</td>\n",
       "      <td>1</td>\n",
       "      <td>2</td>\n",
       "      <td>0</td>\n",
       "      <td>0</td>\n",
       "      <td>1</td>\n",
       "      <td>0</td>\n",
       "      <td>1</td>\n",
       "      <td>...</td>\n",
       "      <td>25</td>\n",
       "      <td>2015,2016,2017</td>\n",
       "      <td>5</td>\n",
       "      <td>c78V-rj8NQcQjOI8KP3UEA, alRMgPcngYSCJ5naFRBz5g...</td>\n",
       "      <td>17</td>\n",
       "      <td>Rashmi</td>\n",
       "      <td>95</td>\n",
       "      <td>84</td>\n",
       "      <td>l6BmjZMeQD3rDxWUbiAiow</td>\n",
       "      <td>2013-10-08 23:11:33</td>\n",
       "    </tr>\n",
       "    <tr>\n",
       "      <th>1</th>\n",
       "      <td>3.63</td>\n",
       "      <td>1</td>\n",
       "      <td>0</td>\n",
       "      <td>1</td>\n",
       "      <td>1</td>\n",
       "      <td>0</td>\n",
       "      <td>0</td>\n",
       "      <td>0</td>\n",
       "      <td>0</td>\n",
       "      <td>0</td>\n",
       "      <td>...</td>\n",
       "      <td>16</td>\n",
       "      <td></td>\n",
       "      <td>4</td>\n",
       "      <td>kEBTgDvFX754S68FllfCaA, aB2DynOxNOJK9st2ZeGTPg...</td>\n",
       "      <td>22</td>\n",
       "      <td>Jenna</td>\n",
       "      <td>33</td>\n",
       "      <td>48</td>\n",
       "      <td>4XChL029mKr5hydo79Ljxg</td>\n",
       "      <td>2013-02-21 22:29:06</td>\n",
       "    </tr>\n",
       "    <tr>\n",
       "      <th>2</th>\n",
       "      <td>3.71</td>\n",
       "      <td>0</td>\n",
       "      <td>0</td>\n",
       "      <td>0</td>\n",
       "      <td>0</td>\n",
       "      <td>0</td>\n",
       "      <td>0</td>\n",
       "      <td>1</td>\n",
       "      <td>0</td>\n",
       "      <td>0</td>\n",
       "      <td>...</td>\n",
       "      <td>10</td>\n",
       "      <td></td>\n",
       "      <td>0</td>\n",
       "      <td>4N-HU_T32hLENLntsNKNBg, pSY2vwWLgWfGVAAiKQzMng...</td>\n",
       "      <td>8</td>\n",
       "      <td>David</td>\n",
       "      <td>16</td>\n",
       "      <td>28</td>\n",
       "      <td>bc8C_eETBWL0olvFSJJd0w</td>\n",
       "      <td>2013-10-04 00:16:10</td>\n",
       "    </tr>\n",
       "    <tr>\n",
       "      <th>3</th>\n",
       "      <td>4.85</td>\n",
       "      <td>0</td>\n",
       "      <td>0</td>\n",
       "      <td>0</td>\n",
       "      <td>1</td>\n",
       "      <td>0</td>\n",
       "      <td>0</td>\n",
       "      <td>0</td>\n",
       "      <td>0</td>\n",
       "      <td>2</td>\n",
       "      <td>...</td>\n",
       "      <td>14</td>\n",
       "      <td></td>\n",
       "      <td>5</td>\n",
       "      <td>RZ6wS38wnlXyj-OOdTzBxA, l5jxZh1KsgI8rMunm-GN6A...</td>\n",
       "      <td>4</td>\n",
       "      <td>Angela</td>\n",
       "      <td>17</td>\n",
       "      <td>30</td>\n",
       "      <td>dD0gZpBctWGdWo9WlGuhlA</td>\n",
       "      <td>2014-05-22 15:57:30</td>\n",
       "    </tr>\n",
       "    <tr>\n",
       "      <th>4</th>\n",
       "      <td>4.08</td>\n",
       "      <td>80</td>\n",
       "      <td>0</td>\n",
       "      <td>80</td>\n",
       "      <td>28</td>\n",
       "      <td>1</td>\n",
       "      <td>1</td>\n",
       "      <td>16</td>\n",
       "      <td>5</td>\n",
       "      <td>57</td>\n",
       "      <td>...</td>\n",
       "      <td>665</td>\n",
       "      <td>2015,2016,2017,2018</td>\n",
       "      <td>39</td>\n",
       "      <td>mbwrZ-RS76V1HoJ0bF_Geg, g64lOV39xSLRZO0aQQ6DeQ...</td>\n",
       "      <td>279</td>\n",
       "      <td>Nancy</td>\n",
       "      <td>361</td>\n",
       "      <td>1114</td>\n",
       "      <td>MM4RJAeH6yuaN8oZDSt0RA</td>\n",
       "      <td>2013-10-23 07:02:50</td>\n",
       "    </tr>\n",
       "  </tbody>\n",
       "</table>\n",
       "<p>5 rows × 22 columns</p>\n",
       "</div>"
      ],
      "text/plain": [
       "   average_stars  compliment_cool  compliment_cute  compliment_funny  \\\n",
       "0           4.03                1                0                 1   \n",
       "1           3.63                1                0                 1   \n",
       "2           3.71                0                0                 0   \n",
       "3           4.85                0                0                 0   \n",
       "4           4.08               80                0                80   \n",
       "\n",
       "   compliment_hot  compliment_list  compliment_more  compliment_note  \\\n",
       "0               2                0                0                1   \n",
       "1               1                0                0                0   \n",
       "2               0                0                0                1   \n",
       "3               1                0                0                0   \n",
       "4              28                1                1               16   \n",
       "\n",
       "   compliment_photos  compliment_plain         ...           cool  \\\n",
       "0                  0                 1         ...             25   \n",
       "1                  0                 0         ...             16   \n",
       "2                  0                 0         ...             10   \n",
       "3                  0                 2         ...             14   \n",
       "4                  5                57         ...            665   \n",
       "\n",
       "                 elite  fans  \\\n",
       "0       2015,2016,2017     5   \n",
       "1                          4   \n",
       "2                          0   \n",
       "3                          5   \n",
       "4  2015,2016,2017,2018    39   \n",
       "\n",
       "                                             friends  funny    name  \\\n",
       "0  c78V-rj8NQcQjOI8KP3UEA, alRMgPcngYSCJ5naFRBz5g...     17  Rashmi   \n",
       "1  kEBTgDvFX754S68FllfCaA, aB2DynOxNOJK9st2ZeGTPg...     22   Jenna   \n",
       "2  4N-HU_T32hLENLntsNKNBg, pSY2vwWLgWfGVAAiKQzMng...      8   David   \n",
       "3  RZ6wS38wnlXyj-OOdTzBxA, l5jxZh1KsgI8rMunm-GN6A...      4  Angela   \n",
       "4  mbwrZ-RS76V1HoJ0bF_Geg, g64lOV39xSLRZO0aQQ6DeQ...    279   Nancy   \n",
       "\n",
       "   review_count useful                 user_id        yelping_since  \n",
       "0            95     84  l6BmjZMeQD3rDxWUbiAiow  2013-10-08 23:11:33  \n",
       "1            33     48  4XChL029mKr5hydo79Ljxg  2013-02-21 22:29:06  \n",
       "2            16     28  bc8C_eETBWL0olvFSJJd0w  2013-10-04 00:16:10  \n",
       "3            17     30  dD0gZpBctWGdWo9WlGuhlA  2014-05-22 15:57:30  \n",
       "4           361   1114  MM4RJAeH6yuaN8oZDSt0RA  2013-10-23 07:02:50  \n",
       "\n",
       "[5 rows x 22 columns]"
      ]
     },
     "execution_count": 3,
     "metadata": {},
     "output_type": "execute_result"
    }
   ],
   "source": [
    "user_df.head()"
   ]
  },
  {
   "cell_type": "code",
   "execution_count": 4,
   "metadata": {},
   "outputs": [
    {
     "data": {
      "text/html": [
       "<div>\n",
       "<style scoped>\n",
       "    .dataframe tbody tr th:only-of-type {\n",
       "        vertical-align: middle;\n",
       "    }\n",
       "\n",
       "    .dataframe tbody tr th {\n",
       "        vertical-align: top;\n",
       "    }\n",
       "\n",
       "    .dataframe thead th {\n",
       "        text-align: right;\n",
       "    }\n",
       "</style>\n",
       "<table border=\"1\" class=\"dataframe\">\n",
       "  <thead>\n",
       "    <tr style=\"text-align: right;\">\n",
       "      <th></th>\n",
       "      <th>average_stars</th>\n",
       "      <th>compliment_cool</th>\n",
       "      <th>compliment_cute</th>\n",
       "      <th>compliment_funny</th>\n",
       "      <th>compliment_hot</th>\n",
       "      <th>compliment_list</th>\n",
       "      <th>compliment_more</th>\n",
       "      <th>compliment_note</th>\n",
       "      <th>compliment_photos</th>\n",
       "      <th>compliment_plain</th>\n",
       "      <th>...</th>\n",
       "      <th>cool</th>\n",
       "      <th>elite</th>\n",
       "      <th>fans</th>\n",
       "      <th>friends</th>\n",
       "      <th>funny</th>\n",
       "      <th>name</th>\n",
       "      <th>review_count</th>\n",
       "      <th>useful</th>\n",
       "      <th>user_id</th>\n",
       "      <th>yelping_since</th>\n",
       "    </tr>\n",
       "  </thead>\n",
       "  <tbody>\n",
       "    <tr>\n",
       "      <th>1637133</th>\n",
       "      <td>4.5</td>\n",
       "      <td>0</td>\n",
       "      <td>0</td>\n",
       "      <td>0</td>\n",
       "      <td>0</td>\n",
       "      <td>0</td>\n",
       "      <td>0</td>\n",
       "      <td>0</td>\n",
       "      <td>0</td>\n",
       "      <td>0</td>\n",
       "      <td>...</td>\n",
       "      <td>0</td>\n",
       "      <td></td>\n",
       "      <td>0</td>\n",
       "      <td>None</td>\n",
       "      <td>0</td>\n",
       "      <td>Jiaxin</td>\n",
       "      <td>2</td>\n",
       "      <td>0</td>\n",
       "      <td>oC4BjbB4I-wx5KBAO1k2Gg</td>\n",
       "      <td>2016-02-24 19:28:47</td>\n",
       "    </tr>\n",
       "    <tr>\n",
       "      <th>1637134</th>\n",
       "      <td>4.0</td>\n",
       "      <td>0</td>\n",
       "      <td>0</td>\n",
       "      <td>0</td>\n",
       "      <td>0</td>\n",
       "      <td>0</td>\n",
       "      <td>0</td>\n",
       "      <td>0</td>\n",
       "      <td>0</td>\n",
       "      <td>0</td>\n",
       "      <td>...</td>\n",
       "      <td>0</td>\n",
       "      <td></td>\n",
       "      <td>0</td>\n",
       "      <td>None</td>\n",
       "      <td>0</td>\n",
       "      <td>Wes</td>\n",
       "      <td>8</td>\n",
       "      <td>0</td>\n",
       "      <td>LKd_-BT2GMWp8_1ho18kOg</td>\n",
       "      <td>2017-02-25 23:34:05</td>\n",
       "    </tr>\n",
       "    <tr>\n",
       "      <th>1637135</th>\n",
       "      <td>3.4</td>\n",
       "      <td>0</td>\n",
       "      <td>0</td>\n",
       "      <td>0</td>\n",
       "      <td>0</td>\n",
       "      <td>0</td>\n",
       "      <td>0</td>\n",
       "      <td>0</td>\n",
       "      <td>0</td>\n",
       "      <td>0</td>\n",
       "      <td>...</td>\n",
       "      <td>0</td>\n",
       "      <td></td>\n",
       "      <td>0</td>\n",
       "      <td>None</td>\n",
       "      <td>0</td>\n",
       "      <td>Lee</td>\n",
       "      <td>4</td>\n",
       "      <td>8</td>\n",
       "      <td>ib_elCBhGOamS0AALkh4Og</td>\n",
       "      <td>2009-08-19 22:08:16</td>\n",
       "    </tr>\n",
       "    <tr>\n",
       "      <th>1637136</th>\n",
       "      <td>3.0</td>\n",
       "      <td>0</td>\n",
       "      <td>0</td>\n",
       "      <td>0</td>\n",
       "      <td>0</td>\n",
       "      <td>0</td>\n",
       "      <td>0</td>\n",
       "      <td>0</td>\n",
       "      <td>0</td>\n",
       "      <td>0</td>\n",
       "      <td>...</td>\n",
       "      <td>0</td>\n",
       "      <td></td>\n",
       "      <td>0</td>\n",
       "      <td>None</td>\n",
       "      <td>0</td>\n",
       "      <td>Melissa</td>\n",
       "      <td>1</td>\n",
       "      <td>1</td>\n",
       "      <td>WV27LoSFDG_YmiDKTLKKLA</td>\n",
       "      <td>2018-10-15 17:07:43</td>\n",
       "    </tr>\n",
       "    <tr>\n",
       "      <th>1637137</th>\n",
       "      <td>5.0</td>\n",
       "      <td>0</td>\n",
       "      <td>0</td>\n",
       "      <td>0</td>\n",
       "      <td>0</td>\n",
       "      <td>0</td>\n",
       "      <td>0</td>\n",
       "      <td>0</td>\n",
       "      <td>0</td>\n",
       "      <td>0</td>\n",
       "      <td>...</td>\n",
       "      <td>0</td>\n",
       "      <td></td>\n",
       "      <td>0</td>\n",
       "      <td>None</td>\n",
       "      <td>0</td>\n",
       "      <td>Erin</td>\n",
       "      <td>1</td>\n",
       "      <td>0</td>\n",
       "      <td>agVqH9xDhNw8n7ve66H1Uw</td>\n",
       "      <td>2016-03-03 21:56:06</td>\n",
       "    </tr>\n",
       "  </tbody>\n",
       "</table>\n",
       "<p>5 rows × 22 columns</p>\n",
       "</div>"
      ],
      "text/plain": [
       "         average_stars  compliment_cool  compliment_cute  compliment_funny  \\\n",
       "1637133            4.5                0                0                 0   \n",
       "1637134            4.0                0                0                 0   \n",
       "1637135            3.4                0                0                 0   \n",
       "1637136            3.0                0                0                 0   \n",
       "1637137            5.0                0                0                 0   \n",
       "\n",
       "         compliment_hot  compliment_list  compliment_more  compliment_note  \\\n",
       "1637133               0                0                0                0   \n",
       "1637134               0                0                0                0   \n",
       "1637135               0                0                0                0   \n",
       "1637136               0                0                0                0   \n",
       "1637137               0                0                0                0   \n",
       "\n",
       "         compliment_photos  compliment_plain         ...           cool  \\\n",
       "1637133                  0                 0         ...              0   \n",
       "1637134                  0                 0         ...              0   \n",
       "1637135                  0                 0         ...              0   \n",
       "1637136                  0                 0         ...              0   \n",
       "1637137                  0                 0         ...              0   \n",
       "\n",
       "         elite  fans friends  funny     name  review_count useful  \\\n",
       "1637133            0    None      0   Jiaxin             2      0   \n",
       "1637134            0    None      0      Wes             8      0   \n",
       "1637135            0    None      0      Lee             4      8   \n",
       "1637136            0    None      0  Melissa             1      1   \n",
       "1637137            0    None      0     Erin             1      0   \n",
       "\n",
       "                        user_id        yelping_since  \n",
       "1637133  oC4BjbB4I-wx5KBAO1k2Gg  2016-02-24 19:28:47  \n",
       "1637134  LKd_-BT2GMWp8_1ho18kOg  2017-02-25 23:34:05  \n",
       "1637135  ib_elCBhGOamS0AALkh4Og  2009-08-19 22:08:16  \n",
       "1637136  WV27LoSFDG_YmiDKTLKKLA  2018-10-15 17:07:43  \n",
       "1637137  agVqH9xDhNw8n7ve66H1Uw  2016-03-03 21:56:06  \n",
       "\n",
       "[5 rows x 22 columns]"
      ]
     },
     "execution_count": 4,
     "metadata": {},
     "output_type": "execute_result"
    }
   ],
   "source": [
    "user_df.tail()"
   ]
  },
  {
   "cell_type": "code",
   "execution_count": 5,
   "metadata": {},
   "outputs": [
    {
     "data": {
      "text/plain": [
       "(1637138, 22)"
      ]
     },
     "execution_count": 5,
     "metadata": {},
     "output_type": "execute_result"
    }
   ],
   "source": [
    "#large dataset\n",
    "user_df.shape"
   ]
  },
  {
   "cell_type": "code",
   "execution_count": 6,
   "metadata": {},
   "outputs": [
    {
     "data": {
      "text/plain": [
       "average_stars         float64\n",
       "compliment_cool         int64\n",
       "compliment_cute         int64\n",
       "compliment_funny        int64\n",
       "compliment_hot          int64\n",
       "compliment_list         int64\n",
       "compliment_more         int64\n",
       "compliment_note         int64\n",
       "compliment_photos       int64\n",
       "compliment_plain        int64\n",
       "compliment_profile      int64\n",
       "compliment_writer       int64\n",
       "cool                    int64\n",
       "elite                  object\n",
       "fans                    int64\n",
       "friends                object\n",
       "funny                   int64\n",
       "name                   object\n",
       "review_count            int64\n",
       "useful                  int64\n",
       "user_id                object\n",
       "yelping_since          object\n",
       "dtype: object"
      ]
     },
     "execution_count": 6,
     "metadata": {},
     "output_type": "execute_result"
    }
   ],
   "source": [
    "user_df.dtypes"
   ]
  },
  {
   "cell_type": "code",
   "execution_count": 7,
   "metadata": {},
   "outputs": [
    {
     "data": {
      "text/plain": [
       "average_stars         0.0\n",
       "compliment_cool       0.0\n",
       "compliment_cute       0.0\n",
       "compliment_funny      0.0\n",
       "compliment_hot        0.0\n",
       "compliment_list       0.0\n",
       "compliment_more       0.0\n",
       "compliment_note       0.0\n",
       "compliment_photos     0.0\n",
       "compliment_plain      0.0\n",
       "compliment_profile    0.0\n",
       "compliment_writer     0.0\n",
       "cool                  0.0\n",
       "elite                 0.0\n",
       "fans                  0.0\n",
       "friends               0.0\n",
       "funny                 0.0\n",
       "name                  0.0\n",
       "review_count          0.0\n",
       "useful                0.0\n",
       "user_id               0.0\n",
       "yelping_since         0.0\n",
       "dtype: float64"
      ]
     },
     "execution_count": 7,
     "metadata": {},
     "output_type": "execute_result"
    }
   ],
   "source": [
    "#check for missing values\n",
    "user_df.isna().mean()"
   ]
  },
  {
   "cell_type": "code",
   "execution_count": 8,
   "metadata": {},
   "outputs": [
    {
     "data": {
      "text/html": [
       "<div>\n",
       "<style scoped>\n",
       "    .dataframe tbody tr th:only-of-type {\n",
       "        vertical-align: middle;\n",
       "    }\n",
       "\n",
       "    .dataframe tbody tr th {\n",
       "        vertical-align: top;\n",
       "    }\n",
       "\n",
       "    .dataframe thead th {\n",
       "        text-align: right;\n",
       "    }\n",
       "</style>\n",
       "<table border=\"1\" class=\"dataframe\">\n",
       "  <thead>\n",
       "    <tr style=\"text-align: right;\">\n",
       "      <th></th>\n",
       "      <th>average_stars</th>\n",
       "      <th>compliment_cool</th>\n",
       "      <th>compliment_cute</th>\n",
       "      <th>compliment_funny</th>\n",
       "      <th>compliment_hot</th>\n",
       "      <th>compliment_list</th>\n",
       "      <th>compliment_more</th>\n",
       "      <th>compliment_note</th>\n",
       "      <th>compliment_photos</th>\n",
       "      <th>compliment_plain</th>\n",
       "      <th>compliment_profile</th>\n",
       "      <th>compliment_writer</th>\n",
       "      <th>cool</th>\n",
       "      <th>fans</th>\n",
       "      <th>funny</th>\n",
       "      <th>review_count</th>\n",
       "      <th>useful</th>\n",
       "    </tr>\n",
       "  </thead>\n",
       "  <tbody>\n",
       "    <tr>\n",
       "      <th>count</th>\n",
       "      <td>1.637138e+06</td>\n",
       "      <td>1.637138e+06</td>\n",
       "      <td>1.637138e+06</td>\n",
       "      <td>1.637138e+06</td>\n",
       "      <td>1.637138e+06</td>\n",
       "      <td>1.637138e+06</td>\n",
       "      <td>1.637138e+06</td>\n",
       "      <td>1.637138e+06</td>\n",
       "      <td>1.637138e+06</td>\n",
       "      <td>1.637138e+06</td>\n",
       "      <td>1.637138e+06</td>\n",
       "      <td>1.637138e+06</td>\n",
       "      <td>1.637138e+06</td>\n",
       "      <td>1.637138e+06</td>\n",
       "      <td>1.637138e+06</td>\n",
       "      <td>1.637138e+06</td>\n",
       "      <td>1.637138e+06</td>\n",
       "    </tr>\n",
       "    <tr>\n",
       "      <th>mean</th>\n",
       "      <td>3.681462e+00</td>\n",
       "      <td>3.106818e+00</td>\n",
       "      <td>1.902082e-01</td>\n",
       "      <td>3.106818e+00</td>\n",
       "      <td>2.242225e+00</td>\n",
       "      <td>8.358489e-02</td>\n",
       "      <td>3.325951e-01</td>\n",
       "      <td>1.503944e+00</td>\n",
       "      <td>1.138432e+00</td>\n",
       "      <td>3.090273e+00</td>\n",
       "      <td>2.135135e-01</td>\n",
       "      <td>1.165329e+00</td>\n",
       "      <td>2.188046e+01</td>\n",
       "      <td>1.465646e+00</td>\n",
       "      <td>1.791785e+01</td>\n",
       "      <td>2.228770e+01</td>\n",
       "      <td>4.052770e+01</td>\n",
       "    </tr>\n",
       "    <tr>\n",
       "      <th>std</th>\n",
       "      <td>1.151040e+00</td>\n",
       "      <td>8.823263e+01</td>\n",
       "      <td>1.269798e+01</td>\n",
       "      <td>8.823263e+01</td>\n",
       "      <td>8.021821e+01</td>\n",
       "      <td>1.089557e+01</td>\n",
       "      <td>1.367850e+01</td>\n",
       "      <td>6.327596e+01</td>\n",
       "      <td>9.549144e+01</td>\n",
       "      <td>9.211418e+01</td>\n",
       "      <td>1.626675e+01</td>\n",
       "      <td>3.268262e+01</td>\n",
       "      <td>4.019675e+02</td>\n",
       "      <td>1.568317e+01</td>\n",
       "      <td>3.303504e+02</td>\n",
       "      <td>7.692236e+01</td>\n",
       "      <td>4.702421e+02</td>\n",
       "    </tr>\n",
       "    <tr>\n",
       "      <th>min</th>\n",
       "      <td>1.000000e+00</td>\n",
       "      <td>0.000000e+00</td>\n",
       "      <td>0.000000e+00</td>\n",
       "      <td>0.000000e+00</td>\n",
       "      <td>0.000000e+00</td>\n",
       "      <td>0.000000e+00</td>\n",
       "      <td>0.000000e+00</td>\n",
       "      <td>0.000000e+00</td>\n",
       "      <td>0.000000e+00</td>\n",
       "      <td>0.000000e+00</td>\n",
       "      <td>0.000000e+00</td>\n",
       "      <td>0.000000e+00</td>\n",
       "      <td>0.000000e+00</td>\n",
       "      <td>0.000000e+00</td>\n",
       "      <td>0.000000e+00</td>\n",
       "      <td>0.000000e+00</td>\n",
       "      <td>0.000000e+00</td>\n",
       "    </tr>\n",
       "    <tr>\n",
       "      <th>25%</th>\n",
       "      <td>3.000000e+00</td>\n",
       "      <td>0.000000e+00</td>\n",
       "      <td>0.000000e+00</td>\n",
       "      <td>0.000000e+00</td>\n",
       "      <td>0.000000e+00</td>\n",
       "      <td>0.000000e+00</td>\n",
       "      <td>0.000000e+00</td>\n",
       "      <td>0.000000e+00</td>\n",
       "      <td>0.000000e+00</td>\n",
       "      <td>0.000000e+00</td>\n",
       "      <td>0.000000e+00</td>\n",
       "      <td>0.000000e+00</td>\n",
       "      <td>0.000000e+00</td>\n",
       "      <td>0.000000e+00</td>\n",
       "      <td>0.000000e+00</td>\n",
       "      <td>2.000000e+00</td>\n",
       "      <td>0.000000e+00</td>\n",
       "    </tr>\n",
       "    <tr>\n",
       "      <th>50%</th>\n",
       "      <td>3.890000e+00</td>\n",
       "      <td>0.000000e+00</td>\n",
       "      <td>0.000000e+00</td>\n",
       "      <td>0.000000e+00</td>\n",
       "      <td>0.000000e+00</td>\n",
       "      <td>0.000000e+00</td>\n",
       "      <td>0.000000e+00</td>\n",
       "      <td>0.000000e+00</td>\n",
       "      <td>0.000000e+00</td>\n",
       "      <td>0.000000e+00</td>\n",
       "      <td>0.000000e+00</td>\n",
       "      <td>0.000000e+00</td>\n",
       "      <td>0.000000e+00</td>\n",
       "      <td>0.000000e+00</td>\n",
       "      <td>0.000000e+00</td>\n",
       "      <td>5.000000e+00</td>\n",
       "      <td>3.000000e+00</td>\n",
       "    </tr>\n",
       "    <tr>\n",
       "      <th>75%</th>\n",
       "      <td>4.600000e+00</td>\n",
       "      <td>0.000000e+00</td>\n",
       "      <td>0.000000e+00</td>\n",
       "      <td>0.000000e+00</td>\n",
       "      <td>0.000000e+00</td>\n",
       "      <td>0.000000e+00</td>\n",
       "      <td>0.000000e+00</td>\n",
       "      <td>0.000000e+00</td>\n",
       "      <td>0.000000e+00</td>\n",
       "      <td>0.000000e+00</td>\n",
       "      <td>0.000000e+00</td>\n",
       "      <td>0.000000e+00</td>\n",
       "      <td>3.000000e+00</td>\n",
       "      <td>0.000000e+00</td>\n",
       "      <td>3.000000e+00</td>\n",
       "      <td>1.500000e+01</td>\n",
       "      <td>1.300000e+01</td>\n",
       "    </tr>\n",
       "    <tr>\n",
       "      <th>max</th>\n",
       "      <td>5.000000e+00</td>\n",
       "      <td>3.226600e+04</td>\n",
       "      <td>1.365400e+04</td>\n",
       "      <td>3.226600e+04</td>\n",
       "      <td>3.416700e+04</td>\n",
       "      <td>1.266900e+04</td>\n",
       "      <td>1.350000e+04</td>\n",
       "      <td>5.783300e+04</td>\n",
       "      <td>8.260200e+04</td>\n",
       "      <td>5.210300e+04</td>\n",
       "      <td>1.417300e+04</td>\n",
       "      <td>1.544200e+04</td>\n",
       "      <td>1.486580e+05</td>\n",
       "      <td>9.538000e+03</td>\n",
       "      <td>1.302070e+05</td>\n",
       "      <td>1.327800e+04</td>\n",
       "      <td>1.542020e+05</td>\n",
       "    </tr>\n",
       "  </tbody>\n",
       "</table>\n",
       "</div>"
      ],
      "text/plain": [
       "       average_stars  compliment_cool  compliment_cute  compliment_funny  \\\n",
       "count   1.637138e+06     1.637138e+06     1.637138e+06      1.637138e+06   \n",
       "mean    3.681462e+00     3.106818e+00     1.902082e-01      3.106818e+00   \n",
       "std     1.151040e+00     8.823263e+01     1.269798e+01      8.823263e+01   \n",
       "min     1.000000e+00     0.000000e+00     0.000000e+00      0.000000e+00   \n",
       "25%     3.000000e+00     0.000000e+00     0.000000e+00      0.000000e+00   \n",
       "50%     3.890000e+00     0.000000e+00     0.000000e+00      0.000000e+00   \n",
       "75%     4.600000e+00     0.000000e+00     0.000000e+00      0.000000e+00   \n",
       "max     5.000000e+00     3.226600e+04     1.365400e+04      3.226600e+04   \n",
       "\n",
       "       compliment_hot  compliment_list  compliment_more  compliment_note  \\\n",
       "count    1.637138e+06     1.637138e+06     1.637138e+06     1.637138e+06   \n",
       "mean     2.242225e+00     8.358489e-02     3.325951e-01     1.503944e+00   \n",
       "std      8.021821e+01     1.089557e+01     1.367850e+01     6.327596e+01   \n",
       "min      0.000000e+00     0.000000e+00     0.000000e+00     0.000000e+00   \n",
       "25%      0.000000e+00     0.000000e+00     0.000000e+00     0.000000e+00   \n",
       "50%      0.000000e+00     0.000000e+00     0.000000e+00     0.000000e+00   \n",
       "75%      0.000000e+00     0.000000e+00     0.000000e+00     0.000000e+00   \n",
       "max      3.416700e+04     1.266900e+04     1.350000e+04     5.783300e+04   \n",
       "\n",
       "       compliment_photos  compliment_plain  compliment_profile  \\\n",
       "count       1.637138e+06      1.637138e+06        1.637138e+06   \n",
       "mean        1.138432e+00      3.090273e+00        2.135135e-01   \n",
       "std         9.549144e+01      9.211418e+01        1.626675e+01   \n",
       "min         0.000000e+00      0.000000e+00        0.000000e+00   \n",
       "25%         0.000000e+00      0.000000e+00        0.000000e+00   \n",
       "50%         0.000000e+00      0.000000e+00        0.000000e+00   \n",
       "75%         0.000000e+00      0.000000e+00        0.000000e+00   \n",
       "max         8.260200e+04      5.210300e+04        1.417300e+04   \n",
       "\n",
       "       compliment_writer          cool          fans         funny  \\\n",
       "count       1.637138e+06  1.637138e+06  1.637138e+06  1.637138e+06   \n",
       "mean        1.165329e+00  2.188046e+01  1.465646e+00  1.791785e+01   \n",
       "std         3.268262e+01  4.019675e+02  1.568317e+01  3.303504e+02   \n",
       "min         0.000000e+00  0.000000e+00  0.000000e+00  0.000000e+00   \n",
       "25%         0.000000e+00  0.000000e+00  0.000000e+00  0.000000e+00   \n",
       "50%         0.000000e+00  0.000000e+00  0.000000e+00  0.000000e+00   \n",
       "75%         0.000000e+00  3.000000e+00  0.000000e+00  3.000000e+00   \n",
       "max         1.544200e+04  1.486580e+05  9.538000e+03  1.302070e+05   \n",
       "\n",
       "       review_count        useful  \n",
       "count  1.637138e+06  1.637138e+06  \n",
       "mean   2.228770e+01  4.052770e+01  \n",
       "std    7.692236e+01  4.702421e+02  \n",
       "min    0.000000e+00  0.000000e+00  \n",
       "25%    2.000000e+00  0.000000e+00  \n",
       "50%    5.000000e+00  3.000000e+00  \n",
       "75%    1.500000e+01  1.300000e+01  \n",
       "max    1.327800e+04  1.542020e+05  "
      ]
     },
     "execution_count": 8,
     "metadata": {},
     "output_type": "execute_result"
    }
   ],
   "source": [
    "user_df.describe()"
   ]
  },
  {
   "cell_type": "markdown",
   "metadata": {},
   "source": [
    "## To do List"
   ]
  },
  {
   "cell_type": "markdown",
   "metadata": {},
   "source": [
    "Conveniently there are no missing values in this dataframe. The concern with the users dataframe is sorting out the ordinary users, from platform rockstars, to spam accounts.\n",
    "\n",
    "Below is a to-do list for each feature, taking into account data types, values, and how it agrees with the documentation.\n",
    "- average_stars:\n",
    "    - no changes\n",
    "- compliment_XXXX:\n",
    "    - number compliments seem very high, distribution needs to be checked in EDA\n",
    "- cool:\n",
    "    - check for spammers in EDA\n",
    "- elite:\n",
    "    - create dummy cols for years was elite\n",
    "- fans\n",
    "    - no changes\n",
    "- friends:\n",
    "    - break up to create social network\n",
    "- funny:\n",
    "    - no changes\n",
    "- name:\n",
    "    - Not sure if a relevant feature\n",
    "- review_count:\n",
    "    - might have to corroborate with review content and remove outliers\n",
    "- useful:\n",
    "    - no changes\n",
    "- user_id:\n",
    "    - no changes\n",
    "- yelping since:\n",
    "    - make datetime object"
   ]
  },
  {
   "cell_type": "code",
   "execution_count": 9,
   "metadata": {},
   "outputs": [],
   "source": [
    "def plot_hist(series, start=0, end=6, step=0.5, xlabel='xlabel', ylabel='count', feature='title', saveloc=None):\n",
    "    \"\"\"\n",
    "    helper function for plotting histogram\n",
    "    series = pandas serries\n",
    "    start = bin start position\n",
    "    end = bin end\n",
    "    step = step size between bins\n",
    "    xlabel = x label title\n",
    "    ylabel = y label title\n",
    "    feature = name of feature \n",
    "    saveloc = location to save to\n",
    "    \n",
    "    \"\"\"\n",
    "    plt.hist(series, bins=np.arange(start, end, step))\n",
    "    plt.xlabel(xlabel)\n",
    "    plt.ylabel(ylabel)\n",
    "    \n",
    "    #stats\n",
    "    plt.axvline(series.median(), color='red',linestyle='solid', linewidth=1, label='median')\n",
    "    plt.axvline(series.mean(), color='green',linestyle='solid', linewidth=1, label='mean')\n",
    "    plt.axvline(series.describe()['25%'], color='orange',linestyle='dashed', linewidth=1, label='Q1')\n",
    "    plt.axvline(series.describe()['75%'], color='orange',linestyle='dashed', linewidth=1, label='Q3')\n",
    "    \n",
    "    \n",
    "    plt.legend()\n",
    "    plt.title(\"Yelp {} Distribution\".format(feature))\n",
    "    plt.tight_layout()\n",
    "    \n",
    "    if saveloc:\n",
    "        plt.savefig(saveloc)\n",
    "    plt.show()\n",
    "    "
   ]
  },
  {
   "cell_type": "markdown",
   "metadata": {},
   "source": [
    "## average_stars"
   ]
  },
  {
   "cell_type": "code",
   "execution_count": 10,
   "metadata": {},
   "outputs": [
    {
     "data": {
      "image/png": "[encoded data removed]",
      "text/plain": [
       "<Figure size 432x288 with 1 Axes>"
      ]
     },
     "metadata": {
      "needs_background": "light"
     },
     "output_type": "display_data"
    }
   ],
   "source": [
    "plot_hist(user_df['average_stars'],0,5,0.1,\n",
    "          'average rating', feature='User Average Start',\n",
    "          saveloc='plots/user_avg_star.png')"
   ]
  },
  {
   "cell_type": "markdown",
   "metadata": {},
   "source": [
    "## compliment_cool"
   ]
  },
  {
   "cell_type": "code",
   "execution_count": 11,
   "metadata": {},
   "outputs": [
    {
     "data": {
      "image/png": "[encoded data removed]",
      "text/plain": [
       "<Figure size 432x288 with 1 Axes>"
      ]
     },
     "metadata": {
      "needs_background": "light"
     },
     "output_type": "display_data"
    }
   ],
   "source": [
    "plot_hist(user_df['compliment_cool'],0,20,1,\n",
    "          'average rating', feature='User Number of Cool Compliments Received',\n",
    "          saveloc='plots/user_cool.png')"
   ]
  },
  {
   "cell_type": "code",
   "execution_count": 12,
   "metadata": {},
   "outputs": [
    {
     "data": {
      "text/plain": [
       "(790, 22)"
      ]
     },
     "execution_count": 12,
     "metadata": {},
     "output_type": "execute_result"
    }
   ],
   "source": [
    "#check of users with more than 1k cool\n",
    "user_df[user_df['compliment_cool']>1000].shape"
   ]
  },
  {
   "cell_type": "markdown",
   "metadata": {},
   "source": [
    "## compliment_cute"
   ]
  },
  {
   "cell_type": "code",
   "execution_count": 13,
   "metadata": {},
   "outputs": [
    {
     "data": {
      "image/png": "[encoded data removed]",
      "text/plain": [
       "<Figure size 432x288 with 1 Axes>"
      ]
     },
     "metadata": {
      "needs_background": "light"
     },
     "output_type": "display_data"
    }
   ],
   "source": [
    "plot_hist(user_df['compliment_cute'],0,5,1,\n",
    "          '', feature='User Number of Cute Compliments Received',\n",
    "          saveloc='plots/user_cute.png')"
   ]
  },
  {
   "cell_type": "markdown",
   "metadata": {},
   "source": [
    "## compliment_funny"
   ]
  },
  {
   "cell_type": "code",
   "execution_count": 14,
   "metadata": {},
   "outputs": [
    {
     "data": {
      "image/png": "[encoded data removed]",
      "text/plain": [
       "<Figure size 432x288 with 1 Axes>"
      ]
     },
     "metadata": {
      "needs_background": "light"
     },
     "output_type": "display_data"
    }
   ],
   "source": [
    "plot_hist(user_df['compliment_funny'],0,10,1,\n",
    "          '', feature='User Number of Funny Compliments Received',\n",
    "          saveloc='plots/user_funny.png')"
   ]
  },
  {
   "cell_type": "markdown",
   "metadata": {},
   "source": [
    "## compliment_hot"
   ]
  },
  {
   "cell_type": "code",
   "execution_count": 15,
   "metadata": {},
   "outputs": [
    {
     "data": {
      "image/png": "[encoded data removed]",
      "text/plain": [
       "<Figure size 432x288 with 1 Axes>"
      ]
     },
     "metadata": {
      "needs_background": "light"
     },
     "output_type": "display_data"
    }
   ],
   "source": [
    "plot_hist(user_df['compliment_hot'],0,10,1,\n",
    "          '', feature='User Number of Hot Compliments Received',\n",
    "          saveloc='plots/user_hot.png')"
   ]
  },
  {
   "cell_type": "markdown",
   "metadata": {},
   "source": [
    "## compliment_list"
   ]
  },
  {
   "cell_type": "code",
   "execution_count": 16,
   "metadata": {},
   "outputs": [
    {
     "data": {
      "image/png": "[encoded data removed]",
      "text/plain": [
       "<Figure size 432x288 with 1 Axes>"
      ]
     },
     "metadata": {
      "needs_background": "light"
     },
     "output_type": "display_data"
    }
   ],
   "source": [
    "plot_hist(user_df['compliment_list'],0,10,1,\n",
    "          '', feature='User Number of List Compliments Received',\n",
    "          saveloc='plots/user_compliment_list.png')"
   ]
  },
  {
   "cell_type": "markdown",
   "metadata": {},
   "source": [
    "## compliment_more"
   ]
  },
  {
   "cell_type": "code",
   "execution_count": 17,
   "metadata": {},
   "outputs": [
    {
     "data": {
      "image/png": "[encoded data removed]",
      "text/plain": [
       "<Figure size 432x288 with 1 Axes>"
      ]
     },
     "metadata": {
      "needs_background": "light"
     },
     "output_type": "display_data"
    }
   ],
   "source": [
    "plot_hist(user_df['compliment_more'],0,10,1,\n",
    "          '', feature='User Number of More Compliments Received',\n",
    "          saveloc='plots/user_more.png')"
   ]
  },
  {
   "cell_type": "markdown",
   "metadata": {},
   "source": [
    "## compliment_note"
   ]
  },
  {
   "cell_type": "code",
   "execution_count": 18,
   "metadata": {},
   "outputs": [
    {
     "data": {
      "image/png": "[encoded data removed]",
      "text/plain": [
       "<Figure size 432x288 with 1 Axes>"
      ]
     },
     "metadata": {
      "needs_background": "light"
     },
     "output_type": "display_data"
    }
   ],
   "source": [
    "plot_hist(user_df['compliment_note'],0,10,1,\n",
    "          '', feature='User Number of Note Compliments Received',\n",
    "          saveloc='plots/user_note.png')"
   ]
  },
  {
   "cell_type": "markdown",
   "metadata": {},
   "source": [
    "## compliment_photos"
   ]
  },
  {
   "cell_type": "code",
   "execution_count": 19,
   "metadata": {},
   "outputs": [
    {
     "data": {
      "image/png": "[encoded data removed]",
      "text/plain": [
       "<Figure size 432x288 with 1 Axes>"
      ]
     },
     "metadata": {
      "needs_background": "light"
     },
     "output_type": "display_data"
    }
   ],
   "source": [
    "plot_hist(user_df['compliment_photos'],0,10,1,\n",
    "          '', feature='User Number of Photo Compliments Received',\n",
    "          saveloc='plots/user_photo.png')"
   ]
  },
  {
   "cell_type": "markdown",
   "metadata": {},
   "source": [
    "## compliment_plain"
   ]
  },
  {
   "cell_type": "code",
   "execution_count": 20,
   "metadata": {},
   "outputs": [
    {
     "data": {
      "image/png": "[encoded data removed]",
      "text/plain": [
       "<Figure size 432x288 with 1 Axes>"
      ]
     },
     "metadata": {
      "needs_background": "light"
     },
     "output_type": "display_data"
    }
   ],
   "source": [
    "plot_hist(user_df['compliment_plain'],0,10,1,\n",
    "          '', feature='User Number of List Compliments Received',\n",
    "          saveloc='plots/user_plain.png')"
   ]
  },
  {
   "cell_type": "markdown",
   "metadata": {},
   "source": [
    "## compliment_profile"
   ]
  },
  {
   "cell_type": "code",
   "execution_count": 21,
   "metadata": {},
   "outputs": [
    {
     "data": {
      "image/png": "[encoded data removed]",
      "text/plain": [
       "<Figure size 432x288 with 1 Axes>"
      ]
     },
     "metadata": {
      "needs_background": "light"
     },
     "output_type": "display_data"
    }
   ],
   "source": [
    "plot_hist(user_df['compliment_profile'],0,10,1,\n",
    "          '', feature='User Number of Profile Compliments Received',\n",
    "          saveloc='plots/user_profile.png')"
   ]
  },
  {
   "cell_type": "markdown",
   "metadata": {},
   "source": [
    "## compliment_writer"
   ]
  },
  {
   "cell_type": "code",
   "execution_count": 22,
   "metadata": {},
   "outputs": [
    {
     "data": {
      "image/png": "[encoded data removed]",
      "text/plain": [
       "<Figure size 432x288 with 1 Axes>"
      ]
     },
     "metadata": {
      "needs_background": "light"
     },
     "output_type": "display_data"
    }
   ],
   "source": [
    "plot_hist(user_df['compliment_writer'],0,10,1,\n",
    "          '', feature='User Number of Writer Compliments Received',\n",
    "          saveloc='plots/user_writer.png')"
   ]
  },
  {
   "cell_type": "markdown",
   "metadata": {},
   "source": [
    "## elite"
   ]
  },
  {
   "cell_type": "code",
   "execution_count": 23,
   "metadata": {},
   "outputs": [],
   "source": [
    "#split the strings\n",
    "split_elite = user_df.elite.str.split(',')"
   ]
  },
  {
   "cell_type": "code",
   "execution_count": 24,
   "metadata": {},
   "outputs": [
    {
     "data": {
      "text/plain": [
       "0                                  [2015, 2016, 2017]\n",
       "1                                                  []\n",
       "2                                                  []\n",
       "3                                                  []\n",
       "4                            [2015, 2016, 2017, 2018]\n",
       "5                            [2015, 2016, 2017, 2018]\n",
       "6    [2006, 2007, 2008, 2009, 2010, 2011, 2012, 2013]\n",
       "7                                                  []\n",
       "8          [2006, 2007, 2008, 2009, 2010, 2011, 2012]\n",
       "9                                                  []\n",
       "Name: elite, dtype: object"
      ]
     },
     "execution_count": 24,
     "metadata": {},
     "output_type": "execute_result"
    }
   ],
   "source": [
    "#see sample\n",
    "split_elite[0:10]"
   ]
  },
  {
   "cell_type": "code",
   "execution_count": 25,
   "metadata": {},
   "outputs": [
    {
     "name": "stdout",
     "output_type": "stream",
     "text": [
      "['2006', '2007', '2008', '2009', '2010', '2011', '2012', '2013', '2014', '2015', '2016', '2017', '2018']\n"
     ]
    }
   ],
   "source": [
    "#list of all possible dates\n",
    "date_list = []\n",
    "#for each list in series\n",
    "for split in split_elite:\n",
    "    #if series not None\n",
    "    if len(split)>0:\n",
    "        #extend list with content\n",
    "        date_list.extend(split)\n",
    "    \n",
    "#get unique entires\n",
    "unique_dates = list(set(date_list))\n",
    "#sort for presentation\n",
    "unique_dates.sort()\n",
    "#drop empty values\n",
    "unique_dates = [x for x in unique_dates if x]\n",
    "print(unique_dates)"
   ]
  },
  {
   "cell_type": "code",
   "execution_count": 26,
   "metadata": {},
   "outputs": [
    {
     "data": {
      "text/html": [
       "<div>\n",
       "<style scoped>\n",
       "    .dataframe tbody tr th:only-of-type {\n",
       "        vertical-align: middle;\n",
       "    }\n",
       "\n",
       "    .dataframe tbody tr th {\n",
       "        vertical-align: top;\n",
       "    }\n",
       "\n",
       "    .dataframe thead th {\n",
       "        text-align: right;\n",
       "    }\n",
       "</style>\n",
       "<table border=\"1\" class=\"dataframe\">\n",
       "  <thead>\n",
       "    <tr style=\"text-align: right;\">\n",
       "      <th></th>\n",
       "      <th>0</th>\n",
       "      <th>1</th>\n",
       "      <th>2</th>\n",
       "      <th>3</th>\n",
       "      <th>4</th>\n",
       "      <th>5</th>\n",
       "      <th>6</th>\n",
       "      <th>7</th>\n",
       "      <th>8</th>\n",
       "      <th>9</th>\n",
       "      <th>10</th>\n",
       "      <th>11</th>\n",
       "      <th>12</th>\n",
       "    </tr>\n",
       "  </thead>\n",
       "  <tbody>\n",
       "    <tr>\n",
       "      <th>0</th>\n",
       "      <td>2015</td>\n",
       "      <td>2016</td>\n",
       "      <td>2017</td>\n",
       "      <td>NaN</td>\n",
       "      <td>NaN</td>\n",
       "      <td>NaN</td>\n",
       "      <td>NaN</td>\n",
       "      <td>NaN</td>\n",
       "      <td>NaN</td>\n",
       "      <td>NaN</td>\n",
       "      <td>NaN</td>\n",
       "      <td>NaN</td>\n",
       "      <td>NaN</td>\n",
       "    </tr>\n",
       "    <tr>\n",
       "      <th>1</th>\n",
       "      <td></td>\n",
       "      <td>NaN</td>\n",
       "      <td>NaN</td>\n",
       "      <td>NaN</td>\n",
       "      <td>NaN</td>\n",
       "      <td>NaN</td>\n",
       "      <td>NaN</td>\n",
       "      <td>NaN</td>\n",
       "      <td>NaN</td>\n",
       "      <td>NaN</td>\n",
       "      <td>NaN</td>\n",
       "      <td>NaN</td>\n",
       "      <td>NaN</td>\n",
       "    </tr>\n",
       "    <tr>\n",
       "      <th>2</th>\n",
       "      <td></td>\n",
       "      <td>NaN</td>\n",
       "      <td>NaN</td>\n",
       "      <td>NaN</td>\n",
       "      <td>NaN</td>\n",
       "      <td>NaN</td>\n",
       "      <td>NaN</td>\n",
       "      <td>NaN</td>\n",
       "      <td>NaN</td>\n",
       "      <td>NaN</td>\n",
       "      <td>NaN</td>\n",
       "      <td>NaN</td>\n",
       "      <td>NaN</td>\n",
       "    </tr>\n",
       "    <tr>\n",
       "      <th>3</th>\n",
       "      <td></td>\n",
       "      <td>NaN</td>\n",
       "      <td>NaN</td>\n",
       "      <td>NaN</td>\n",
       "      <td>NaN</td>\n",
       "      <td>NaN</td>\n",
       "      <td>NaN</td>\n",
       "      <td>NaN</td>\n",
       "      <td>NaN</td>\n",
       "      <td>NaN</td>\n",
       "      <td>NaN</td>\n",
       "      <td>NaN</td>\n",
       "      <td>NaN</td>\n",
       "    </tr>\n",
       "    <tr>\n",
       "      <th>4</th>\n",
       "      <td>2015</td>\n",
       "      <td>2016</td>\n",
       "      <td>2017</td>\n",
       "      <td>2018</td>\n",
       "      <td>NaN</td>\n",
       "      <td>NaN</td>\n",
       "      <td>NaN</td>\n",
       "      <td>NaN</td>\n",
       "      <td>NaN</td>\n",
       "      <td>NaN</td>\n",
       "      <td>NaN</td>\n",
       "      <td>NaN</td>\n",
       "      <td>NaN</td>\n",
       "    </tr>\n",
       "  </tbody>\n",
       "</table>\n",
       "</div>"
      ],
      "text/plain": [
       "     0     1     2     3    4    5    6    7    8    9    10   11   12\n",
       "0  2015  2016  2017   NaN  NaN  NaN  NaN  NaN  NaN  NaN  NaN  NaN  NaN\n",
       "1         NaN   NaN   NaN  NaN  NaN  NaN  NaN  NaN  NaN  NaN  NaN  NaN\n",
       "2         NaN   NaN   NaN  NaN  NaN  NaN  NaN  NaN  NaN  NaN  NaN  NaN\n",
       "3         NaN   NaN   NaN  NaN  NaN  NaN  NaN  NaN  NaN  NaN  NaN  NaN\n",
       "4  2015  2016  2017  2018  NaN  NaN  NaN  NaN  NaN  NaN  NaN  NaN  NaN"
      ]
     },
     "execution_count": 26,
     "metadata": {},
     "output_type": "execute_result"
    }
   ],
   "source": [
    "#blow up columns\n",
    "split_elite_series = split_elite.apply(pd.Series)\n",
    "split_elite_series.head()"
   ]
  },
  {
   "cell_type": "code",
   "execution_count": 27,
   "metadata": {},
   "outputs": [
    {
     "data": {
      "text/html": [
       "<div>\n",
       "<style scoped>\n",
       "    .dataframe tbody tr th:only-of-type {\n",
       "        vertical-align: middle;\n",
       "    }\n",
       "\n",
       "    .dataframe tbody tr th {\n",
       "        vertical-align: top;\n",
       "    }\n",
       "\n",
       "    .dataframe thead th {\n",
       "        text-align: right;\n",
       "    }\n",
       "</style>\n",
       "<table border=\"1\" class=\"dataframe\">\n",
       "  <thead>\n",
       "    <tr style=\"text-align: right;\">\n",
       "      <th></th>\n",
       "      <th>0</th>\n",
       "      <th>1</th>\n",
       "      <th>2</th>\n",
       "      <th>3</th>\n",
       "      <th>4</th>\n",
       "      <th>5</th>\n",
       "      <th>6</th>\n",
       "      <th>7</th>\n",
       "      <th>8</th>\n",
       "      <th>9</th>\n",
       "      <th>10</th>\n",
       "      <th>11</th>\n",
       "      <th>12</th>\n",
       "    </tr>\n",
       "  </thead>\n",
       "  <tbody>\n",
       "    <tr>\n",
       "      <th>0</th>\n",
       "      <td>0</td>\n",
       "      <td>0</td>\n",
       "      <td>0</td>\n",
       "      <td>0</td>\n",
       "      <td>0</td>\n",
       "      <td>0</td>\n",
       "      <td>0</td>\n",
       "      <td>0</td>\n",
       "      <td>0</td>\n",
       "      <td>0</td>\n",
       "      <td>2015</td>\n",
       "      <td>2016</td>\n",
       "      <td>2017</td>\n",
       "    </tr>\n",
       "    <tr>\n",
       "      <th>1</th>\n",
       "      <td>0</td>\n",
       "      <td>0</td>\n",
       "      <td>0</td>\n",
       "      <td>0</td>\n",
       "      <td>0</td>\n",
       "      <td>0</td>\n",
       "      <td>0</td>\n",
       "      <td>0</td>\n",
       "      <td>0</td>\n",
       "      <td>0</td>\n",
       "      <td>0</td>\n",
       "      <td>0</td>\n",
       "      <td>0</td>\n",
       "    </tr>\n",
       "    <tr>\n",
       "      <th>2</th>\n",
       "      <td>0</td>\n",
       "      <td>0</td>\n",
       "      <td>0</td>\n",
       "      <td>0</td>\n",
       "      <td>0</td>\n",
       "      <td>0</td>\n",
       "      <td>0</td>\n",
       "      <td>0</td>\n",
       "      <td>0</td>\n",
       "      <td>0</td>\n",
       "      <td>0</td>\n",
       "      <td>0</td>\n",
       "      <td>0</td>\n",
       "    </tr>\n",
       "    <tr>\n",
       "      <th>3</th>\n",
       "      <td>0</td>\n",
       "      <td>0</td>\n",
       "      <td>0</td>\n",
       "      <td>0</td>\n",
       "      <td>0</td>\n",
       "      <td>0</td>\n",
       "      <td>0</td>\n",
       "      <td>0</td>\n",
       "      <td>0</td>\n",
       "      <td>0</td>\n",
       "      <td>0</td>\n",
       "      <td>0</td>\n",
       "      <td>0</td>\n",
       "    </tr>\n",
       "    <tr>\n",
       "      <th>4</th>\n",
       "      <td>0</td>\n",
       "      <td>0</td>\n",
       "      <td>0</td>\n",
       "      <td>0</td>\n",
       "      <td>0</td>\n",
       "      <td>0</td>\n",
       "      <td>0</td>\n",
       "      <td>0</td>\n",
       "      <td>0</td>\n",
       "      <td>2015</td>\n",
       "      <td>2016</td>\n",
       "      <td>2017</td>\n",
       "      <td>2018</td>\n",
       "    </tr>\n",
       "  </tbody>\n",
       "</table>\n",
       "</div>"
      ],
      "text/plain": [
       "   0   1   2   3   4   5   6   7   8     9     10    11    12\n",
       "0   0   0   0   0   0   0   0   0   0     0  2015  2016  2017\n",
       "1   0   0   0   0   0   0   0   0   0     0     0     0     0\n",
       "2   0   0   0   0   0   0   0   0   0     0     0     0     0\n",
       "3   0   0   0   0   0   0   0   0   0     0     0     0     0\n",
       "4   0   0   0   0   0   0   0   0   0  2015  2016  2017  2018"
      ]
     },
     "execution_count": 27,
     "metadata": {},
     "output_type": "execute_result"
    }
   ],
   "source": [
    "#replace empty spaces with NaN\n",
    "split_elite_series_fillnan = split_elite_series.replace('',np.nan)\n",
    "#fill nan with 0\n",
    "split_elite_series_fillnan = split_elite_series_fillnan.fillna(value=0)\n",
    "#make types int\n",
    "split_elite_series_fillnan = split_elite_series_fillnan.astype('int32')\n",
    "#sort values inplace\n",
    "split_elite_series_fillnan.values.sort()\n",
    "\n",
    "split_elite_series_fillnan.head()"
   ]
  },
  {
   "cell_type": "code",
   "execution_count": 28,
   "metadata": {},
   "outputs": [
    {
     "data": {
      "text/html": [
       "<div>\n",
       "<style scoped>\n",
       "    .dataframe tbody tr th:only-of-type {\n",
       "        vertical-align: middle;\n",
       "    }\n",
       "\n",
       "    .dataframe tbody tr th {\n",
       "        vertical-align: top;\n",
       "    }\n",
       "\n",
       "    .dataframe thead th {\n",
       "        text-align: right;\n",
       "    }\n",
       "</style>\n",
       "<table border=\"1\" class=\"dataframe\">\n",
       "  <thead>\n",
       "    <tr style=\"text-align: right;\">\n",
       "      <th></th>\n",
       "      <th>2006</th>\n",
       "      <th>2007</th>\n",
       "      <th>2008</th>\n",
       "      <th>2009</th>\n",
       "      <th>2010</th>\n",
       "      <th>2011</th>\n",
       "      <th>2012</th>\n",
       "      <th>2013</th>\n",
       "      <th>2014</th>\n",
       "      <th>2015</th>\n",
       "      <th>2016</th>\n",
       "      <th>2017</th>\n",
       "      <th>2018</th>\n",
       "    </tr>\n",
       "  </thead>\n",
       "  <tbody>\n",
       "    <tr>\n",
       "      <th>0</th>\n",
       "      <td>0</td>\n",
       "      <td>0</td>\n",
       "      <td>0</td>\n",
       "      <td>0</td>\n",
       "      <td>0</td>\n",
       "      <td>0</td>\n",
       "      <td>0</td>\n",
       "      <td>0</td>\n",
       "      <td>0</td>\n",
       "      <td>0</td>\n",
       "      <td>1</td>\n",
       "      <td>1</td>\n",
       "      <td>1</td>\n",
       "    </tr>\n",
       "    <tr>\n",
       "      <th>1</th>\n",
       "      <td>0</td>\n",
       "      <td>0</td>\n",
       "      <td>0</td>\n",
       "      <td>0</td>\n",
       "      <td>0</td>\n",
       "      <td>0</td>\n",
       "      <td>0</td>\n",
       "      <td>0</td>\n",
       "      <td>0</td>\n",
       "      <td>0</td>\n",
       "      <td>0</td>\n",
       "      <td>0</td>\n",
       "      <td>0</td>\n",
       "    </tr>\n",
       "    <tr>\n",
       "      <th>2</th>\n",
       "      <td>0</td>\n",
       "      <td>0</td>\n",
       "      <td>0</td>\n",
       "      <td>0</td>\n",
       "      <td>0</td>\n",
       "      <td>0</td>\n",
       "      <td>0</td>\n",
       "      <td>0</td>\n",
       "      <td>0</td>\n",
       "      <td>0</td>\n",
       "      <td>0</td>\n",
       "      <td>0</td>\n",
       "      <td>0</td>\n",
       "    </tr>\n",
       "    <tr>\n",
       "      <th>3</th>\n",
       "      <td>0</td>\n",
       "      <td>0</td>\n",
       "      <td>0</td>\n",
       "      <td>0</td>\n",
       "      <td>0</td>\n",
       "      <td>0</td>\n",
       "      <td>0</td>\n",
       "      <td>0</td>\n",
       "      <td>0</td>\n",
       "      <td>0</td>\n",
       "      <td>0</td>\n",
       "      <td>0</td>\n",
       "      <td>0</td>\n",
       "    </tr>\n",
       "    <tr>\n",
       "      <th>4</th>\n",
       "      <td>0</td>\n",
       "      <td>0</td>\n",
       "      <td>0</td>\n",
       "      <td>0</td>\n",
       "      <td>0</td>\n",
       "      <td>0</td>\n",
       "      <td>0</td>\n",
       "      <td>0</td>\n",
       "      <td>0</td>\n",
       "      <td>1</td>\n",
       "      <td>1</td>\n",
       "      <td>1</td>\n",
       "      <td>1</td>\n",
       "    </tr>\n",
       "  </tbody>\n",
       "</table>\n",
       "</div>"
      ],
      "text/plain": [
       "   2006  2007  2008  2009  2010  2011  2012  2013  2014  2015  2016  2017  \\\n",
       "0     0     0     0     0     0     0     0     0     0     0     1     1   \n",
       "1     0     0     0     0     0     0     0     0     0     0     0     0   \n",
       "2     0     0     0     0     0     0     0     0     0     0     0     0   \n",
       "3     0     0     0     0     0     0     0     0     0     0     0     0   \n",
       "4     0     0     0     0     0     0     0     0     0     1     1     1   \n",
       "\n",
       "   2018  \n",
       "0     1  \n",
       "1     0  \n",
       "2     0  \n",
       "3     0  \n",
       "4     1  "
      ]
     },
     "execution_count": 28,
     "metadata": {},
     "output_type": "execute_result"
    }
   ],
   "source": [
    "#make a copy of previous dataframe\n",
    "df_elite = split_elite_series_fillnan.copy()\n",
    "#rename columns\n",
    "df_elite.columns = unique_dates\n",
    "#replace non zero with 1\n",
    "df_elite[df_elite != 0] = 1\n",
    "\n",
    "df_elite.head()"
   ]
  },
  {
   "cell_type": "code",
   "execution_count": 29,
   "metadata": {},
   "outputs": [
    {
     "data": {
      "text/plain": [
       "(1637138, 13)"
      ]
     },
     "execution_count": 29,
     "metadata": {},
     "output_type": "execute_result"
    }
   ],
   "source": [
    "df_elite.shape"
   ]
  },
  {
   "cell_type": "code",
   "execution_count": 30,
   "metadata": {},
   "outputs": [],
   "source": [
    "#save the work\n",
    "df_elite.to_csv(\"data/cleaned/user_elite.csv\")"
   ]
  },
  {
   "cell_type": "code",
   "execution_count": 31,
   "metadata": {},
   "outputs": [
    {
     "data": {
      "image/png": "[encoded data removed]",
      "text/plain": [
       "<Figure size 720x360 with 1 Axes>"
      ]
     },
     "metadata": {
      "needs_background": "light"
     },
     "output_type": "display_data"
    }
   ],
   "source": [
    "plt.figure(figsize=(10,5))\n",
    "plt.title(\"Elite Users by Year\")\n",
    "plt.xlabel(\"Year\")\n",
    "plt.ylabel(\"Count\")\n",
    "plt.plot(unique_dates, df_elite.sum(axis=0 ))\n",
    "plt.tight_layout()\n",
    "plt.savefig(\"plots/users_elite.png\")\n",
    "plt.show()"
   ]
  },
  {
   "cell_type": "markdown",
   "metadata": {},
   "source": [
    "## fans"
   ]
  },
  {
   "cell_type": "code",
   "execution_count": 32,
   "metadata": {},
   "outputs": [
    {
     "data": {
      "image/png": "[encoded data removed]",
      "text/plain": [
       "<Figure size 432x288 with 1 Axes>"
      ]
     },
     "metadata": {
      "needs_background": "light"
     },
     "output_type": "display_data"
    }
   ],
   "source": [
    "plot_hist(user_df['fans'],0,20,1,\n",
    "          '', feature='User Number of fans',\n",
    "          saveloc='plots/user_fans.png')"
   ]
  },
  {
   "cell_type": "markdown",
   "metadata": {},
   "source": [
    "## funny"
   ]
  },
  {
   "cell_type": "code",
   "execution_count": 33,
   "metadata": {},
   "outputs": [
    {
     "data": {
      "image/png": "[encoded data removed]",
      "text/plain": [
       "<Figure size 432x288 with 1 Axes>"
      ]
     },
     "metadata": {
      "needs_background": "light"
     },
     "output_type": "display_data"
    }
   ],
   "source": [
    "plot_hist(user_df['funny'],0,40,1,\n",
    "          '', feature='User Number of Funny Votes Sent',\n",
    "          saveloc='plots/user_funny.png')"
   ]
  },
  {
   "cell_type": "markdown",
   "metadata": {},
   "source": [
    "## review_count"
   ]
  },
  {
   "cell_type": "code",
   "execution_count": 34,
   "metadata": {},
   "outputs": [
    {
     "data": {
      "image/png": "[encoded data removed]",
      "text/plain": [
       "<Figure size 432x288 with 1 Axes>"
      ]
     },
     "metadata": {
      "needs_background": "light"
     },
     "output_type": "display_data"
    }
   ],
   "source": [
    "plot_hist(user_df['review_count'],0,80,1,\n",
    "          '', feature='User Number of Reviews Written',\n",
    "          saveloc='plots/user_review_count.png')"
   ]
  },
  {
   "cell_type": "code",
   "execution_count": 35,
   "metadata": {},
   "outputs": [
    {
     "data": {
      "image/png": "[encoded data removed]",
      "text/plain": [
       "<Figure size 432x288 with 1 Axes>"
      ]
     },
     "metadata": {
      "needs_background": "light"
     },
     "output_type": "display_data"
    }
   ],
   "source": [
    "plot_hist(user_df['useful'],0,80,1,\n",
    "          '', feature='Useful Votes Sent by Users',\n",
    "          saveloc='plots/user_useful.png')"
   ]
  },
  {
   "cell_type": "markdown",
   "metadata": {},
   "source": [
    "## yelpding_since"
   ]
  },
  {
   "cell_type": "code",
   "execution_count": 36,
   "metadata": {},
   "outputs": [
    {
     "data": {
      "text/plain": [
       "0    2013-10-08 23:11:33\n",
       "1    2013-02-21 22:29:06\n",
       "2    2013-10-04 00:16:10\n",
       "3    2014-05-22 15:57:30\n",
       "4    2013-10-23 07:02:50\n",
       "5    2011-06-23 08:05:13\n",
       "6    2006-02-15 18:29:35\n",
       "7    2014-06-07 01:50:09\n",
       "8    2005-07-20 22:38:17\n",
       "9    2008-12-10 22:59:45\n",
       "Name: yelping_since, dtype: object"
      ]
     },
     "execution_count": 36,
     "metadata": {},
     "output_type": "execute_result"
    }
   ],
   "source": [
    "user_df['yelping_since'][0:10]"
   ]
  },
  {
   "cell_type": "code",
   "execution_count": 37,
   "metadata": {},
   "outputs": [],
   "source": [
    "user_df['yelping_since'] = pd.to_datetime(user_df['yelping_since'], format='%Y-%m-%d %H:%M:%S')"
   ]
  },
  {
   "cell_type": "markdown",
   "metadata": {},
   "source": [
    "### Save the work"
   ]
  },
  {
   "cell_type": "code",
   "execution_count": 38,
   "metadata": {},
   "outputs": [],
   "source": [
    "df_list = [user_df.drop(columns=['elite']), df_elite]\n",
    "\n",
    "df_user_conc = pd.concat(df_list, axis=1)\n",
    "df_user_conc.to_csv(\"data/cleaned/user_df_conc.csv\")"
   ]
  },
  {
   "cell_type": "code",
   "execution_count": null,
   "metadata": {},
   "outputs": [],
   "source": []
  },
  {
   "cell_type": "markdown",
   "metadata": {},
   "source": [
    "## users friends TBD\n",
    "\n",
    "\n",
    "source:\n",
    "https://networkx.github.io/documentation/latest/reference/generated/networkx.convert_matrix.from_pandas_edgelist.html"
   ]
  },
  {
   "cell_type": "code",
   "execution_count": null,
   "metadata": {},
   "outputs": [],
   "source": []
  },
  {
   "cell_type": "code",
   "execution_count": null,
   "metadata": {},
   "outputs": [],
   "source": []
  },
  {
   "cell_type": "code",
   "execution_count": null,
   "metadata": {},
   "outputs": [],
   "source": []
  },
  {
   "cell_type": "code",
   "execution_count": null,
   "metadata": {},
   "outputs": [],
   "source": []
  },
  {
   "cell_type": "code",
   "execution_count": null,
   "metadata": {},
   "outputs": [],
   "source": []
  },
  {
   "cell_type": "code",
   "execution_count": null,
   "metadata": {},
   "outputs": [],
   "source": []
  },
  {
   "cell_type": "code",
   "execution_count": null,
   "metadata": {},
   "outputs": [],
   "source": []
  },
  {
   "cell_type": "code",
   "execution_count": null,
   "metadata": {},
   "outputs": [],
   "source": []
  }
 ],
 "metadata": {
  "kernelspec": {
   "display_name": "Python 3",
   "language": "python",
   "name": "python3"
  },
  "language_info": {
   "codemirror_mode": {
    "name": "ipython",
    "version": 3
   },
   "file_extension": ".py",
   "mimetype": "text/x-python",
   "name": "python",
   "nbconvert_exporter": "python",
   "pygments_lexer": "ipython3",
   "version": "3.7.3"
  }
 },
 "nbformat": 4,
 "nbformat_minor": 2
}
