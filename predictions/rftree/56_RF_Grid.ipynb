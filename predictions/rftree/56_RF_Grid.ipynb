{
 "cells": [
  {
   "cell_type": "code",
   "execution_count": 1,
   "metadata": {},
   "outputs": [],
   "source": [
    "import pandas as pd\n",
    "import numpy as np\n",
    "import matplotlib.pyplot as plt\n",
    "import utils, plot_help\n",
    "\n",
    "\n",
    "from sklearn.preprocessing import MinMaxScaler\n",
    "from sklearn.model_selection import GridSearchCV, train_test_split\n",
    "from sklearn.ensemble import RandomForestClassifier\n",
    "from sklearn.metrics import classification_report, confusion_matrix, \\\n",
    "                            roc_curve, roc_auc_score, precision_recall_curve\n",
    "\n",
    "from joblib import dump, load\n",
    "\n",
    "%matplotlib inline"
   ]
  },
  {
   "cell_type": "code",
   "execution_count": 2,
   "metadata": {},
   "outputs": [],
   "source": [
    "#change read limit to -1 to load entire dataframe\n",
    "df = utils.chunk_loader('data/cleaned/business_merge_feats.csv', read_limit=-1)\n",
    "\n",
    "df_num = utils.make_num_df(df)\n",
    "\n",
    "#drop columns from feature importance permutation\n",
    "drop_col = ['gluten_free', 'dairy_free', 'Spas', 'Hair', 'road_type', 'asian',\n",
    "            'perms', 'vegan', 'Health', 'kosher', 'halal', 'soy_free', 'vegetarian',\n",
    "            'AgesAllowed', 'Beauty', 'curly', 'kids', 'thursday', 'africanamerican',\n",
    "            'dessert', 'intimate', 'romantic', 'valet', 'validated', 'HasTV',\n",
    "            'brunch', 'RestaurantsCounterService', 'hipster', 'Open24Hours', 'BYOB',\n",
    "            'Corkage', 'DogsAllowed', 'BusinessAcceptsBitcoin', 'CoatCheck',\n",
    "            'classy', 'divey', 'extensions', 'monday', 'coloring', 'straightperms',\n",
    "            'sunday', 'GoodForDancing', 'wednesday', 'tuesday', 'karaoke',\n",
    "            'touristy', 'video', 'jukebox', 'background_music', 'dj', 'upscale',\n",
    "            'trendy', 'no_music']\n",
    "#drop cols\n",
    "df_num = df_num.drop(labels=drop_col, axis=1)"
   ]
  },
  {
   "cell_type": "code",
   "execution_count": 3,
   "metadata": {},
   "outputs": [
    {
     "data": {
      "text/plain": [
       "(161160, 49)"
      ]
     },
     "execution_count": 3,
     "metadata": {},
     "output_type": "execute_result"
    }
   ],
   "source": [
    "df_num.shape"
   ]
  },
  {
   "cell_type": "code",
   "execution_count": 4,
   "metadata": {},
   "outputs": [
    {
     "data": {
      "text/html": [
       "<div>\n",
       "<style scoped>\n",
       "    .dataframe tbody tr th:only-of-type {\n",
       "        vertical-align: middle;\n",
       "    }\n",
       "\n",
       "    .dataframe tbody tr th {\n",
       "        vertical-align: top;\n",
       "    }\n",
       "\n",
       "    .dataframe thead th {\n",
       "        text-align: right;\n",
       "    }\n",
       "</style>\n",
       "<table border=\"1\" class=\"dataframe\">\n",
       "  <thead>\n",
       "    <tr style=\"text-align: right;\">\n",
       "      <th></th>\n",
       "      <th>review_count</th>\n",
       "      <th>stars</th>\n",
       "      <th>GoodForKids</th>\n",
       "      <th>RestaurantsReservations</th>\n",
       "      <th>Caters</th>\n",
       "      <th>RestaurantsTableService</th>\n",
       "      <th>RestaurantsTakeOut</th>\n",
       "      <th>RestaurantsPriceRange2</th>\n",
       "      <th>OutdoorSeating</th>\n",
       "      <th>BikeParking</th>\n",
       "      <th>...</th>\n",
       "      <th>Bars</th>\n",
       "      <th>Medical</th>\n",
       "      <th>cool_change</th>\n",
       "      <th>funny_change</th>\n",
       "      <th>stars_change</th>\n",
       "      <th>useful</th>\n",
       "      <th>avg_month_checkin</th>\n",
       "      <th>span_checkin</th>\n",
       "      <th>median_income</th>\n",
       "      <th>is_open</th>\n",
       "    </tr>\n",
       "  </thead>\n",
       "  <tbody>\n",
       "    <tr>\n",
       "      <th>0</th>\n",
       "      <td>5</td>\n",
       "      <td>3.0</td>\n",
       "      <td>0</td>\n",
       "      <td>0</td>\n",
       "      <td>0</td>\n",
       "      <td>0</td>\n",
       "      <td>0</td>\n",
       "      <td>0</td>\n",
       "      <td>0</td>\n",
       "      <td>0</td>\n",
       "      <td>...</td>\n",
       "      <td>0</td>\n",
       "      <td>0</td>\n",
       "      <td>0.000000</td>\n",
       "      <td>0.00000</td>\n",
       "      <td>0.000000</td>\n",
       "      <td>0.000000</td>\n",
       "      <td>1.777778</td>\n",
       "      <td>5323</td>\n",
       "      <td>3.5</td>\n",
       "      <td>0</td>\n",
       "    </tr>\n",
       "    <tr>\n",
       "      <th>1</th>\n",
       "      <td>128</td>\n",
       "      <td>2.5</td>\n",
       "      <td>1</td>\n",
       "      <td>1</td>\n",
       "      <td>1</td>\n",
       "      <td>1</td>\n",
       "      <td>1</td>\n",
       "      <td>2</td>\n",
       "      <td>0</td>\n",
       "      <td>0</td>\n",
       "      <td>...</td>\n",
       "      <td>0</td>\n",
       "      <td>0</td>\n",
       "      <td>-0.042484</td>\n",
       "      <td>-0.04902</td>\n",
       "      <td>-0.075163</td>\n",
       "      <td>-0.156863</td>\n",
       "      <td>36.083333</td>\n",
       "      <td>15143</td>\n",
       "      <td>3.0</td>\n",
       "      <td>1</td>\n",
       "    </tr>\n",
       "    <tr>\n",
       "      <th>2</th>\n",
       "      <td>170</td>\n",
       "      <td>4.0</td>\n",
       "      <td>1</td>\n",
       "      <td>1</td>\n",
       "      <td>0</td>\n",
       "      <td>1</td>\n",
       "      <td>1</td>\n",
       "      <td>2</td>\n",
       "      <td>0</td>\n",
       "      <td>1</td>\n",
       "      <td>...</td>\n",
       "      <td>1</td>\n",
       "      <td>0</td>\n",
       "      <td>-0.110000</td>\n",
       "      <td>-0.19000</td>\n",
       "      <td>0.055000</td>\n",
       "      <td>-0.215000</td>\n",
       "      <td>57.083333</td>\n",
       "      <td>58518</td>\n",
       "      <td>3.5</td>\n",
       "      <td>1</td>\n",
       "    </tr>\n",
       "    <tr>\n",
       "      <th>3</th>\n",
       "      <td>3</td>\n",
       "      <td>5.0</td>\n",
       "      <td>0</td>\n",
       "      <td>0</td>\n",
       "      <td>0</td>\n",
       "      <td>0</td>\n",
       "      <td>0</td>\n",
       "      <td>0</td>\n",
       "      <td>0</td>\n",
       "      <td>0</td>\n",
       "      <td>...</td>\n",
       "      <td>0</td>\n",
       "      <td>0</td>\n",
       "      <td>0.000000</td>\n",
       "      <td>0.00000</td>\n",
       "      <td>0.000000</td>\n",
       "      <td>-0.500000</td>\n",
       "      <td>1.222222</td>\n",
       "      <td>8464</td>\n",
       "      <td>3.5</td>\n",
       "      <td>1</td>\n",
       "    </tr>\n",
       "    <tr>\n",
       "      <th>4</th>\n",
       "      <td>3</td>\n",
       "      <td>2.5</td>\n",
       "      <td>0</td>\n",
       "      <td>0</td>\n",
       "      <td>0</td>\n",
       "      <td>0</td>\n",
       "      <td>0</td>\n",
       "      <td>2</td>\n",
       "      <td>0</td>\n",
       "      <td>0</td>\n",
       "      <td>...</td>\n",
       "      <td>0</td>\n",
       "      <td>0</td>\n",
       "      <td>0.000000</td>\n",
       "      <td>0.00000</td>\n",
       "      <td>0.000000</td>\n",
       "      <td>0.000000</td>\n",
       "      <td>1.000000</td>\n",
       "      <td>2971</td>\n",
       "      <td>3.0</td>\n",
       "      <td>1</td>\n",
       "    </tr>\n",
       "  </tbody>\n",
       "</table>\n",
       "<p>5 rows × 49 columns</p>\n",
       "</div>"
      ],
      "text/plain": [
       "   review_count  stars  GoodForKids  RestaurantsReservations  Caters  \\\n",
       "0             5    3.0            0                        0       0   \n",
       "1           128    2.5            1                        1       1   \n",
       "2           170    4.0            1                        1       0   \n",
       "3             3    5.0            0                        0       0   \n",
       "4             3    2.5            0                        0       0   \n",
       "\n",
       "   RestaurantsTableService  RestaurantsTakeOut  RestaurantsPriceRange2  \\\n",
       "0                        0                   0                       0   \n",
       "1                        1                   1                       2   \n",
       "2                        1                   1                       2   \n",
       "3                        0                   0                       0   \n",
       "4                        0                   0                       2   \n",
       "\n",
       "   OutdoorSeating  BikeParking   ...     Bars  Medical  cool_change  \\\n",
       "0               0            0   ...        0        0     0.000000   \n",
       "1               0            0   ...        0        0    -0.042484   \n",
       "2               0            1   ...        1        0    -0.110000   \n",
       "3               0            0   ...        0        0     0.000000   \n",
       "4               0            0   ...        0        0     0.000000   \n",
       "\n",
       "   funny_change  stars_change    useful  avg_month_checkin  span_checkin  \\\n",
       "0       0.00000      0.000000  0.000000           1.777778          5323   \n",
       "1      -0.04902     -0.075163 -0.156863          36.083333         15143   \n",
       "2      -0.19000      0.055000 -0.215000          57.083333         58518   \n",
       "3       0.00000      0.000000 -0.500000           1.222222          8464   \n",
       "4       0.00000      0.000000  0.000000           1.000000          2971   \n",
       "\n",
       "   median_income  is_open  \n",
       "0            3.5        0  \n",
       "1            3.0        1  \n",
       "2            3.5        1  \n",
       "3            3.5        1  \n",
       "4            3.0        1  \n",
       "\n",
       "[5 rows x 49 columns]"
      ]
     },
     "execution_count": 4,
     "metadata": {},
     "output_type": "execute_result"
    }
   ],
   "source": [
    "df_num.head()"
   ]
  },
  {
   "cell_type": "code",
   "execution_count": 5,
   "metadata": {},
   "outputs": [],
   "source": [
    "X_train, X_test, y_train, y_test = utils.train_test_scale (df_num, \n",
    "                                                           'is_open', \n",
    "                                                           random_state=None)"
   ]
  },
  {
   "cell_type": "code",
   "execution_count": 6,
   "metadata": {},
   "outputs": [
    {
     "name": "stdout",
     "output_type": "stream",
     "text": [
      "Fitting 4 folds for each of 27 candidates, totalling 108 fits\n"
     ]
    },
    {
     "name": "stderr",
     "output_type": "stream",
     "text": [
      "[Parallel(n_jobs=-1)]: Using backend LokyBackend with 4 concurrent workers.\n",
      "[Parallel(n_jobs=-1)]: Done   5 tasks      | elapsed:  1.2min\n",
      "[Parallel(n_jobs=-1)]: Done  10 tasks      | elapsed:  2.0min\n",
      "[Parallel(n_jobs=-1)]: Done  17 tasks      | elapsed:  3.3min\n",
      "[Parallel(n_jobs=-1)]: Done  24 tasks      | elapsed:  4.0min\n",
      "[Parallel(n_jobs=-1)]: Done  33 tasks      | elapsed:  6.0min\n",
      "[Parallel(n_jobs=-1)]: Done  42 tasks      | elapsed:  9.0min\n",
      "[Parallel(n_jobs=-1)]: Done  53 tasks      | elapsed: 13.3min\n",
      "[Parallel(n_jobs=-1)]: Done  64 tasks      | elapsed: 15.9min\n",
      "[Parallel(n_jobs=-1)]: Done  77 tasks      | elapsed: 22.6min\n",
      "[Parallel(n_jobs=-1)]: Done  90 tasks      | elapsed: 28.5min\n",
      "[Parallel(n_jobs=-1)]: Done 108 out of 108 | elapsed: 34.3min finished\n"
     ]
    },
    {
     "data": {
      "text/plain": [
       "GridSearchCV(cv=4, error_score='raise-deprecating',\n",
       "             estimator=RandomForestClassifier(bootstrap=True, class_weight=None,\n",
       "                                              criterion='gini', max_depth=None,\n",
       "                                              max_features='auto',\n",
       "                                              max_leaf_nodes=None,\n",
       "                                              min_impurity_decrease=0.0,\n",
       "                                              min_impurity_split=None,\n",
       "                                              min_samples_leaf=1,\n",
       "                                              min_samples_split=2,\n",
       "                                              min_weight_fraction_leaf=0.0,\n",
       "                                              n_estimators='warn', n_jobs=None,\n",
       "                                              oob_score=False,\n",
       "                                              random_state=None, verbose=0,\n",
       "                                              warm_start=False),\n",
       "             iid='warn', n_jobs=-1,\n",
       "             param_grid={'criterion': ['gini'], 'max_depth': [3, 9, 15],\n",
       "                         'min_samples_leaf': [1, 5, 15],\n",
       "                         'min_samples_split': [2, 4, 8], 'n_estimators': [300],\n",
       "                         'n_jobs': [-1]},\n",
       "             pre_dispatch='2*n_jobs', refit=True, return_train_score=False,\n",
       "             scoring='roc_auc', verbose=10)"
      ]
     },
     "execution_count": 6,
     "metadata": {},
     "output_type": "execute_result"
    }
   ],
   "source": [
    "param_grid = {'criterion': ['gini'], \n",
    "              'n_estimators': [300], \n",
    "              'n_jobs': [-1],\n",
    "              'max_depth':[3, 9, 15],\n",
    "              'min_samples_split': [2, 4, 8],\n",
    "              'min_samples_leaf': [1, 5, 15],\n",
    "             }\n",
    "\n",
    "#instantiate logistic regression\n",
    "rf = RandomForestClassifier()\n",
    "\n",
    "#instantite grid search\n",
    "rf_cv = GridSearchCV(rf, param_grid, cv=4, n_jobs=-1, scoring='roc_auc', verbose=10)\n",
    "#fit to training data\n",
    "rf_cv.fit(X_train, y_train)"
   ]
  },
  {
   "cell_type": "code",
   "execution_count": 7,
   "metadata": {},
   "outputs": [
    {
     "name": "stdout",
     "output_type": "stream",
     "text": [
      "{'criterion': 'gini', 'max_depth': 15, 'min_samples_leaf': 1, 'min_samples_split': 4, 'n_estimators': 300, 'n_jobs': -1}\n",
      "0.794403204587721\n"
     ]
    }
   ],
   "source": [
    "#see best combo\n",
    "print(rf_cv.best_params_ )\n",
    "\n",
    "print(rf_cv.best_score_)"
   ]
  },
  {
   "cell_type": "code",
   "execution_count": 8,
   "metadata": {},
   "outputs": [
    {
     "name": "stdout",
     "output_type": "stream",
     "text": [
      "              precision    recall  f1-score   support\n",
      "\n",
      "           0       0.80      0.22      0.35      6072\n",
      "           1       0.85      0.99      0.91     26160\n",
      "\n",
      "    accuracy                           0.84     32232\n",
      "   macro avg       0.82      0.60      0.63     32232\n",
      "weighted avg       0.84      0.84      0.80     32232\n",
      "\n",
      "--------------------------------------------------\n",
      "Normalized confusion matrix\n"
     ]
    },
    {
     "name": "stderr",
     "output_type": "stream",
     "text": [
      "/Users/nadimkawwa/anaconda3/lib/python3.7/site-packages/matplotlib/figure.py:445: UserWarning: Matplotlib is currently using module://ipykernel.pylab.backend_inline, which is a non-GUI backend, so cannot show the figure.\n",
      "  % get_backend())\n"
     ]
    },
    {
     "data": {
      "image/png": "[encoded data removed]",
      "text/plain": [
       "<Figure size 432x288 with 2 Axes>"
      ]
     },
     "metadata": {
      "needs_background": "light"
     },
     "output_type": "display_data"
    },
    {
     "name": "stdout",
     "output_type": "stream",
     "text": [
      "--------------------------------------------------\n"
     ]
    },
    {
     "data": {
      "image/png": "[encoded data removed]",
      "text/plain": [
       "<Figure size 432x288 with 1 Axes>"
      ]
     },
     "metadata": {
      "needs_background": "light"
     },
     "output_type": "display_data"
    },
    {
     "name": "stdout",
     "output_type": "stream",
     "text": [
      "Area Under Curve = 0.6038\n",
      "--------------------------------------------------\n"
     ]
    },
    {
     "data": {
      "image/png": "[encoded data removed]",
      "text/plain": [
       "<Figure size 432x288 with 1 Axes>"
      ]
     },
     "metadata": {
      "needs_background": "light"
     },
     "output_type": "display_data"
    }
   ],
   "source": [
    "#make pred\n",
    "y_pred = rf_cv.predict(X_test)\n",
    "\n",
    "print(classification_report(y_test, y_pred))\n",
    "print(50*'-')\n",
    "plot_help.plot_confusion_matrix(y_test, y_pred, ['closed', 'open'], normalize=True,\n",
    "                                title='RF Tree GridCV')\n",
    "print(50*'-')\n",
    "plot_help.plot_roc_curve(y_test, y_pred, 'RF Tree GridCV')\n",
    "print(50*'-')\n",
    "plot_help.plot_prc_curve(y_test, rf_cv.predict_proba(X_test)[:, 1], 'RF Tree GridCV')"
   ]
  }
 ],
 "metadata": {
  "kernelspec": {
   "display_name": "Python 3",
   "language": "python",
   "name": "python3"
  },
  "language_info": {
   "codemirror_mode": {
    "name": "ipython",
    "version": 3
   },
   "file_extension": ".py",
   "mimetype": "text/x-python",
   "name": "python",
   "nbconvert_exporter": "python",
   "pygments_lexer": "ipython3",
   "version": "3.7.3"
  }
 },
 "nbformat": 4,
 "nbformat_minor": 2
}
