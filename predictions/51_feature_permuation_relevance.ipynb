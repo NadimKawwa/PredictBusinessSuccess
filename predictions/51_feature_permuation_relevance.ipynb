{
 "cells": [
  {
   "cell_type": "code",
   "execution_count": 1,
   "metadata": {},
   "outputs": [],
   "source": [
    "import pandas as pd\n",
    "import numpy as np\n",
    "import utils, plot_help\n",
    "import matplotlib.pyplot as plt\n",
    "from collections import OrderedDict\n",
    "\n",
    "from sklearn.ensemble import GradientBoostingClassifier\n",
    "from sklearn.metrics import f1_score, precision_score\n"
   ]
  },
  {
   "cell_type": "code",
   "execution_count": 2,
   "metadata": {},
   "outputs": [
    {
     "data": {
      "text/html": [
       "<div>\n",
       "<style scoped>\n",
       "    .dataframe tbody tr th:only-of-type {\n",
       "        vertical-align: middle;\n",
       "    }\n",
       "\n",
       "    .dataframe tbody tr th {\n",
       "        vertical-align: top;\n",
       "    }\n",
       "\n",
       "    .dataframe thead th {\n",
       "        text-align: right;\n",
       "    }\n",
       "</style>\n",
       "<table border=\"1\" class=\"dataframe\">\n",
       "  <thead>\n",
       "    <tr style=\"text-align: right;\">\n",
       "      <th></th>\n",
       "      <th>review_count</th>\n",
       "      <th>stars</th>\n",
       "      <th>road_type</th>\n",
       "      <th>GoodForKids</th>\n",
       "      <th>RestaurantsReservations</th>\n",
       "      <th>Caters</th>\n",
       "      <th>RestaurantsTableService</th>\n",
       "      <th>RestaurantsTakeOut</th>\n",
       "      <th>RestaurantsPriceRange2</th>\n",
       "      <th>OutdoorSeating</th>\n",
       "      <th>...</th>\n",
       "      <th>Health</th>\n",
       "      <th>Hair</th>\n",
       "      <th>cool_change</th>\n",
       "      <th>funny_change</th>\n",
       "      <th>stars_change</th>\n",
       "      <th>useful</th>\n",
       "      <th>avg_month_checkin</th>\n",
       "      <th>span_checkin</th>\n",
       "      <th>median_income</th>\n",
       "      <th>is_open</th>\n",
       "    </tr>\n",
       "  </thead>\n",
       "  <tbody>\n",
       "    <tr>\n",
       "      <th>0</th>\n",
       "      <td>5</td>\n",
       "      <td>3.0</td>\n",
       "      <td>1.0</td>\n",
       "      <td>0</td>\n",
       "      <td>0</td>\n",
       "      <td>0</td>\n",
       "      <td>0</td>\n",
       "      <td>0</td>\n",
       "      <td>0</td>\n",
       "      <td>0</td>\n",
       "      <td>...</td>\n",
       "      <td>0</td>\n",
       "      <td>0</td>\n",
       "      <td>0.000000</td>\n",
       "      <td>0.00000</td>\n",
       "      <td>0.000000</td>\n",
       "      <td>0.000000</td>\n",
       "      <td>1.777778</td>\n",
       "      <td>5323</td>\n",
       "      <td>3.5</td>\n",
       "      <td>0</td>\n",
       "    </tr>\n",
       "    <tr>\n",
       "      <th>1</th>\n",
       "      <td>128</td>\n",
       "      <td>2.5</td>\n",
       "      <td>8.0</td>\n",
       "      <td>1</td>\n",
       "      <td>1</td>\n",
       "      <td>1</td>\n",
       "      <td>1</td>\n",
       "      <td>1</td>\n",
       "      <td>2</td>\n",
       "      <td>0</td>\n",
       "      <td>...</td>\n",
       "      <td>0</td>\n",
       "      <td>0</td>\n",
       "      <td>-0.042484</td>\n",
       "      <td>-0.04902</td>\n",
       "      <td>-0.075163</td>\n",
       "      <td>-0.156863</td>\n",
       "      <td>36.083333</td>\n",
       "      <td>15143</td>\n",
       "      <td>3.0</td>\n",
       "      <td>1</td>\n",
       "    </tr>\n",
       "    <tr>\n",
       "      <th>2</th>\n",
       "      <td>170</td>\n",
       "      <td>4.0</td>\n",
       "      <td>6.0</td>\n",
       "      <td>1</td>\n",
       "      <td>1</td>\n",
       "      <td>0</td>\n",
       "      <td>1</td>\n",
       "      <td>1</td>\n",
       "      <td>2</td>\n",
       "      <td>0</td>\n",
       "      <td>...</td>\n",
       "      <td>0</td>\n",
       "      <td>0</td>\n",
       "      <td>-0.110000</td>\n",
       "      <td>-0.19000</td>\n",
       "      <td>0.055000</td>\n",
       "      <td>-0.215000</td>\n",
       "      <td>57.083333</td>\n",
       "      <td>58518</td>\n",
       "      <td>3.5</td>\n",
       "      <td>1</td>\n",
       "    </tr>\n",
       "    <tr>\n",
       "      <th>3</th>\n",
       "      <td>3</td>\n",
       "      <td>5.0</td>\n",
       "      <td>1.0</td>\n",
       "      <td>0</td>\n",
       "      <td>0</td>\n",
       "      <td>0</td>\n",
       "      <td>0</td>\n",
       "      <td>0</td>\n",
       "      <td>0</td>\n",
       "      <td>0</td>\n",
       "      <td>...</td>\n",
       "      <td>0</td>\n",
       "      <td>0</td>\n",
       "      <td>0.000000</td>\n",
       "      <td>0.00000</td>\n",
       "      <td>0.000000</td>\n",
       "      <td>-0.500000</td>\n",
       "      <td>1.222222</td>\n",
       "      <td>8464</td>\n",
       "      <td>3.5</td>\n",
       "      <td>1</td>\n",
       "    </tr>\n",
       "    <tr>\n",
       "      <th>4</th>\n",
       "      <td>3</td>\n",
       "      <td>2.5</td>\n",
       "      <td>6.0</td>\n",
       "      <td>0</td>\n",
       "      <td>0</td>\n",
       "      <td>0</td>\n",
       "      <td>0</td>\n",
       "      <td>0</td>\n",
       "      <td>2</td>\n",
       "      <td>0</td>\n",
       "      <td>...</td>\n",
       "      <td>0</td>\n",
       "      <td>0</td>\n",
       "      <td>0.000000</td>\n",
       "      <td>0.00000</td>\n",
       "      <td>0.000000</td>\n",
       "      <td>0.000000</td>\n",
       "      <td>1.000000</td>\n",
       "      <td>2971</td>\n",
       "      <td>3.0</td>\n",
       "      <td>1</td>\n",
       "    </tr>\n",
       "  </tbody>\n",
       "</table>\n",
       "<p>5 rows × 102 columns</p>\n",
       "</div>"
      ],
      "text/plain": [
       "   review_count  stars  road_type  GoodForKids  RestaurantsReservations  \\\n",
       "0             5    3.0        1.0            0                        0   \n",
       "1           128    2.5        8.0            1                        1   \n",
       "2           170    4.0        6.0            1                        1   \n",
       "3             3    5.0        1.0            0                        0   \n",
       "4             3    2.5        6.0            0                        0   \n",
       "\n",
       "   Caters  RestaurantsTableService  RestaurantsTakeOut  \\\n",
       "0       0                        0                   0   \n",
       "1       1                        1                   1   \n",
       "2       0                        1                   1   \n",
       "3       0                        0                   0   \n",
       "4       0                        0                   0   \n",
       "\n",
       "   RestaurantsPriceRange2  OutdoorSeating   ...     Health  Hair  cool_change  \\\n",
       "0                       0               0   ...          0     0     0.000000   \n",
       "1                       2               0   ...          0     0    -0.042484   \n",
       "2                       2               0   ...          0     0    -0.110000   \n",
       "3                       0               0   ...          0     0     0.000000   \n",
       "4                       2               0   ...          0     0     0.000000   \n",
       "\n",
       "   funny_change  stars_change    useful  avg_month_checkin  span_checkin  \\\n",
       "0       0.00000      0.000000  0.000000           1.777778          5323   \n",
       "1      -0.04902     -0.075163 -0.156863          36.083333         15143   \n",
       "2      -0.19000      0.055000 -0.215000          57.083333         58518   \n",
       "3       0.00000      0.000000 -0.500000           1.222222          8464   \n",
       "4       0.00000      0.000000  0.000000           1.000000          2971   \n",
       "\n",
       "   median_income  is_open  \n",
       "0            3.5        0  \n",
       "1            3.0        1  \n",
       "2            3.5        1  \n",
       "3            3.5        1  \n",
       "4            3.0        1  \n",
       "\n",
       "[5 rows x 102 columns]"
      ]
     },
     "execution_count": 2,
     "metadata": {},
     "output_type": "execute_result"
    }
   ],
   "source": [
    "df = utils.chunk_loader('data/cleaned/business_merge_feats.csv', read_limit=-1)\n",
    "\n",
    "df_num = utils.make_num_df(df)\n",
    "df_num.head()"
   ]
  },
  {
   "cell_type": "code",
   "execution_count": 3,
   "metadata": {},
   "outputs": [],
   "source": [
    "X_train, X_test, y_train, y_test = utils.train_test_scale(df_num, \n",
    "                                                           'is_open', \n",
    "                                                           random_state=None)"
   ]
  },
  {
   "cell_type": "code",
   "execution_count": 4,
   "metadata": {},
   "outputs": [
    {
     "data": {
      "text/plain": [
       "0.8116033755274261"
      ]
     },
     "execution_count": 4,
     "metadata": {},
     "output_type": "execute_result"
    }
   ],
   "source": [
    "df_num['is_open'].mean()"
   ]
  },
  {
   "cell_type": "code",
   "execution_count": 5,
   "metadata": {
    "scrolled": false
   },
   "outputs": [],
   "source": [
    "def shuffle_col (X, loc):\n",
    "    #create a copy of original array to break referencing\n",
    "    X_shuffle = np.copy(X)\n",
    "    #shuffle in place\n",
    "    np.random.shuffle(X_shuffle[:,loc])\n",
    "    return X_shuffle\n"
   ]
  },
  {
   "cell_type": "code",
   "execution_count": 6,
   "metadata": {},
   "outputs": [
    {
     "data": {
      "text/plain": [
       "GradientBoostingClassifier(criterion='friedman_mse', init=None,\n",
       "                           learning_rate=0.1, loss='deviance', max_depth=3,\n",
       "                           max_features=None, max_leaf_nodes=None,\n",
       "                           min_impurity_decrease=0.0, min_impurity_split=None,\n",
       "                           min_samples_leaf=1, min_samples_split=2,\n",
       "                           min_weight_fraction_leaf=0.0, n_estimators=100,\n",
       "                           n_iter_no_change=None, presort='auto',\n",
       "                           random_state=None, subsample=1.0, tol=0.0001,\n",
       "                           validation_fraction=0.1, verbose=0,\n",
       "                           warm_start=False)"
      ]
     },
     "execution_count": 6,
     "metadata": {},
     "output_type": "execute_result"
    }
   ],
   "source": [
    "gbt = GradientBoostingClassifier()\n",
    "gbt.fit(X_train, y_train)"
   ]
  },
  {
   "cell_type": "code",
   "execution_count": 7,
   "metadata": {},
   "outputs": [],
   "source": [
    "y_pred =gbt.predict(X_test)"
   ]
  },
  {
   "cell_type": "code",
   "execution_count": 8,
   "metadata": {},
   "outputs": [
    {
     "data": {
      "text/plain": [
       "array([0.76437848, 0.84203822])"
      ]
     },
     "execution_count": 8,
     "metadata": {},
     "output_type": "execute_result"
    }
   ],
   "source": [
    "precision_score(y_test, y_pred, average=None, labels=[0, 1])\n"
   ]
  },
  {
   "cell_type": "code",
   "execution_count": 9,
   "metadata": {},
   "outputs": [
    {
     "data": {
      "text/plain": [
       "0.3214982442450254"
      ]
     },
     "execution_count": 9,
     "metadata": {},
     "output_type": "execute_result"
    }
   ],
   "source": [
    "f1_base = f1_score(y_test, y_pred, average=None)[0]\n",
    "f1_base"
   ]
  },
  {
   "cell_type": "code",
   "execution_count": 10,
   "metadata": {},
   "outputs": [
    {
     "data": {
      "text/html": [
       "<div>\n",
       "<style scoped>\n",
       "    .dataframe tbody tr th:only-of-type {\n",
       "        vertical-align: middle;\n",
       "    }\n",
       "\n",
       "    .dataframe tbody tr th {\n",
       "        vertical-align: top;\n",
       "    }\n",
       "\n",
       "    .dataframe thead th {\n",
       "        text-align: right;\n",
       "    }\n",
       "</style>\n",
       "<table border=\"1\" class=\"dataframe\">\n",
       "  <thead>\n",
       "    <tr style=\"text-align: right;\">\n",
       "      <th></th>\n",
       "      <th>0</th>\n",
       "    </tr>\n",
       "  </thead>\n",
       "  <tbody>\n",
       "    <tr>\n",
       "      <th>0</th>\n",
       "      <td>5.212823e-05</td>\n",
       "    </tr>\n",
       "    <tr>\n",
       "      <th>1</th>\n",
       "      <td>2.152227e-06</td>\n",
       "    </tr>\n",
       "    <tr>\n",
       "      <th>2</th>\n",
       "      <td>0.000000e+00</td>\n",
       "    </tr>\n",
       "    <tr>\n",
       "      <th>3</th>\n",
       "      <td>1.905189e-07</td>\n",
       "    </tr>\n",
       "    <tr>\n",
       "      <th>4</th>\n",
       "      <td>4.161827e-05</td>\n",
       "    </tr>\n",
       "  </tbody>\n",
       "</table>\n",
       "</div>"
      ],
      "text/plain": [
       "              0\n",
       "0  5.212823e-05\n",
       "1  2.152227e-06\n",
       "2  0.000000e+00\n",
       "3  1.905189e-07\n",
       "4  4.161827e-05"
      ]
     },
     "execution_count": 10,
     "metadata": {},
     "output_type": "execute_result"
    }
   ],
   "source": [
    "shuff_dict = OrderedDict()\n",
    "\n",
    "for i in range(X_train.shape[1]):\n",
    "    #shuffle at locaiton i\n",
    "    X_shuff = shuffle_col(X_train, i)\n",
    "    #instantiate new classifier\n",
    "    gbt_shuff = GradientBoostingClassifier().fit(X_shuff, y_train)\n",
    "    #make prediction\n",
    "    y_shuff =gbt_shuff.predict(X_test)\n",
    "    #get f1 score\n",
    "    f1_shuff = f1_score(y_test, y_shuff, average=None)[0]\n",
    "    #compre MSE\n",
    "    mse = (f1_shuff - f1_base)**2\n",
    "    #make sure to delete\n",
    "    del gbt_shuff\n",
    "    \n",
    "    #add to dict\n",
    "    shuff_dict[i] = mse\n",
    "    \n",
    "df_shuff = pd.DataFrame.from_dict(shuff_dict, orient='index')\n",
    "\n",
    "df_shuff.head()"
   ]
  },
  {
   "cell_type": "code",
   "execution_count": 12,
   "metadata": {},
   "outputs": [
    {
     "data": {
      "text/html": [
       "<div>\n",
       "<style scoped>\n",
       "    .dataframe tbody tr th:only-of-type {\n",
       "        vertical-align: middle;\n",
       "    }\n",
       "\n",
       "    .dataframe tbody tr th {\n",
       "        vertical-align: top;\n",
       "    }\n",
       "\n",
       "    .dataframe thead th {\n",
       "        text-align: right;\n",
       "    }\n",
       "</style>\n",
       "<table border=\"1\" class=\"dataframe\">\n",
       "  <thead>\n",
       "    <tr style=\"text-align: right;\">\n",
       "      <th></th>\n",
       "      <th>index</th>\n",
       "      <th>mse</th>\n",
       "    </tr>\n",
       "  </thead>\n",
       "  <tbody>\n",
       "    <tr>\n",
       "      <th>10</th>\n",
       "      <td>10</td>\n",
       "      <td>0.000436</td>\n",
       "    </tr>\n",
       "    <tr>\n",
       "      <th>31</th>\n",
       "      <td>31</td>\n",
       "      <td>0.000191</td>\n",
       "    </tr>\n",
       "    <tr>\n",
       "      <th>77</th>\n",
       "      <td>77</td>\n",
       "      <td>0.000179</td>\n",
       "    </tr>\n",
       "    <tr>\n",
       "      <th>30</th>\n",
       "      <td>30</td>\n",
       "      <td>0.000158</td>\n",
       "    </tr>\n",
       "    <tr>\n",
       "      <th>37</th>\n",
       "      <td>37</td>\n",
       "      <td>0.000091</td>\n",
       "    </tr>\n",
       "  </tbody>\n",
       "</table>\n",
       "</div>"
      ],
      "text/plain": [
       "    index       mse\n",
       "10     10  0.000436\n",
       "31     31  0.000191\n",
       "77     77  0.000179\n",
       "30     30  0.000158\n",
       "37     37  0.000091"
      ]
     },
     "execution_count": 12,
     "metadata": {},
     "output_type": "execute_result"
    }
   ],
   "source": [
    "df_shuff.columns = ['mse']\n",
    "df_shuff_order = df_shuff.reset_index(drop=False)\n",
    "df_shuff_order = df_shuff_order.sort_values(by='mse',ascending=False)\n",
    "df_shuff_order.head()"
   ]
  },
  {
   "cell_type": "code",
   "execution_count": 14,
   "metadata": {},
   "outputs": [],
   "source": [
    "df_shuff_order.to_csv('data/cleaned/bus_shuffle_imp.csv')"
   ]
  },
  {
   "cell_type": "code",
   "execution_count": 19,
   "metadata": {},
   "outputs": [],
   "source": [
    "no_imp = df_shuff_order[df_shuff_order['mse']==0]['index'].tolist()"
   ]
  },
  {
   "cell_type": "code",
   "execution_count": 23,
   "metadata": {},
   "outputs": [
    {
     "data": {
      "text/plain": [
       "Index(['gluten_free', 'dairy_free', 'Spas', 'Hair', 'road_type', 'asian',\n",
       "       'perms', 'vegan', 'Health', 'kosher', 'halal', 'soy_free', 'vegetarian',\n",
       "       'AgesAllowed', 'Beauty', 'curly', 'kids', 'thursday', 'africanamerican',\n",
       "       'dessert', 'intimate', 'romantic', 'valet', 'validated', 'HasTV',\n",
       "       'brunch', 'RestaurantsCounterService', 'hipster', 'Open24Hours', 'BYOB',\n",
       "       'Corkage', 'DogsAllowed', 'BusinessAcceptsBitcoin', 'CoatCheck',\n",
       "       'classy', 'divey', 'extensions', 'monday', 'coloring', 'straightperms',\n",
       "       'sunday', 'GoodForDancing', 'wednesday', 'tuesday', 'karaoke',\n",
       "       'touristy', 'video', 'jukebox', 'background_music', 'dj', 'upscale',\n",
       "       'trendy', 'no_music'],\n",
       "      dtype='object')"
      ]
     },
     "execution_count": 23,
     "metadata": {},
     "output_type": "execute_result"
    }
   ],
   "source": [
    "df_num.columns[no_imp]"
   ]
  },
  {
   "cell_type": "code",
   "execution_count": null,
   "metadata": {},
   "outputs": [],
   "source": []
  }
 ],
 "metadata": {
  "kernelspec": {
   "display_name": "Python 3",
   "language": "python",
   "name": "python3"
  },
  "language_info": {
   "codemirror_mode": {
    "name": "ipython",
    "version": 3
   },
   "file_extension": ".py",
   "mimetype": "text/x-python",
   "name": "python",
   "nbconvert_exporter": "python",
   "pygments_lexer": "ipython3",
   "version": "3.7.3"
  }
 },
 "nbformat": 4,
 "nbformat_minor": 2
}
