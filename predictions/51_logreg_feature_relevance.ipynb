{
 "cells": [
  {
   "cell_type": "code",
   "execution_count": 1,
   "metadata": {},
   "outputs": [],
   "source": [
    "import pandas as pd\n",
    "import numpy as np\n",
    "import utils, plot_help\n",
    "import matplotlib.pyplot as plt\n",
    "\n",
    "from sklearn.linear_model import LogisticRegression\n"
   ]
  },
  {
   "cell_type": "code",
   "execution_count": 2,
   "metadata": {},
   "outputs": [
    {
     "data": {
      "text/plain": [
       "(161160, 102)"
      ]
     },
     "execution_count": 2,
     "metadata": {},
     "output_type": "execute_result"
    }
   ],
   "source": [
    "df = utils.chunk_loader('data/cleaned/business_merge_feats.csv', read_limit=-1)\n",
    "\n",
    "\n",
    "df = df.drop(columns=['latitude', 'longitude', 'postal_code'])\n",
    "\n",
    "#select only numerical columns\n",
    "df_num = df.select_dtypes(include=['int', 'float64'])\n",
    "df_num.shape"
   ]
  },
  {
   "cell_type": "code",
   "execution_count": 3,
   "metadata": {},
   "outputs": [
    {
     "name": "stdout",
     "output_type": "stream",
     "text": [
      "review_count, stars, road_type, GoodForKids, RestaurantsReservations, Caters, RestaurantsTableService, RestaurantsTakeOut, RestaurantsPriceRange2, OutdoorSeating, BikeParking, HasTV, RestaurantsGoodForGroups, RestaurantsDelivery, BusinessAcceptsCreditCards, BusinessAcceptsBitcoin, ByAppointmentOnly, AcceptsInsurance, GoodForDancing, CoatCheck, HappyHour, WheelchairAccessible, DogsAllowed, DriveThru, Corkage, BYOB, Open24Hours, RestaurantsCounterService, dessert, latenight, lunch, dinner, brunch, breakfast, garage, street, validated, lot, valet, romantic, intimate, classy, hipster, divey, touristy, trendy, upscale, casual, dj, background_music, no_music, jukebox, live, video, karaoke, monday, tuesday, friday, wednesday, thursday, sunday, saturday, straightperms, coloring, extensions, africanamerican, curly, kids, perms, asian, dairy_free, gluten_free, vegan, kosher, halal, soy_free, vegetarian, NoiseLevel, WiFi, Alcohol, RestaurantsAttire, BYOBCorkage, Smoking, AgesAllowed, Restaurants, Food, Shopping, Home, Spas, Bars, Beauty, Medical, Health, Hair, cool_change, funny_change, stars_change, useful, avg_month_checkin, span_checkin, median_income, is_open\n"
     ]
    }
   ],
   "source": [
    "print(*df_num.columns, sep=', ')"
   ]
  },
  {
   "cell_type": "code",
   "execution_count": 4,
   "metadata": {},
   "outputs": [
    {
     "name": "stderr",
     "output_type": "stream",
     "text": [
      "/Users/nadimkawwa/anaconda3/lib/python3.7/site-packages/sklearn/preprocessing/data.py:334: DataConversionWarning: Data with input dtype int64, float64 were all converted to float64 by MinMaxScaler.\n",
      "  return self.partial_fit(X, y)\n"
     ]
    }
   ],
   "source": [
    "X_train, X_test, y_train, y_test = utils.train_test_scale(df_num, \n",
    "                                                           'is_open', \n",
    "                                                           random_state=None)"
   ]
  },
  {
   "cell_type": "code",
   "execution_count": 5,
   "metadata": {},
   "outputs": [
    {
     "data": {
      "text/plain": [
       "LogisticRegression(C=1.0, class_weight=None, dual=False, fit_intercept=True,\n",
       "          intercept_scaling=1, max_iter=100, multi_class='warn',\n",
       "          n_jobs=None, penalty='l1', random_state=None, solver='liblinear',\n",
       "          tol=0.0001, verbose=0, warm_start=False)"
      ]
     },
     "execution_count": 5,
     "metadata": {},
     "output_type": "execute_result"
    }
   ],
   "source": [
    "#instantiate with l1 penalty\n",
    "logreg = LogisticRegression(penalty='l1', solver='liblinear')\n",
    "\n",
    "logreg.fit(X_train, y_train)"
   ]
  },
  {
   "cell_type": "code",
   "execution_count": 6,
   "metadata": {},
   "outputs": [
    {
     "name": "stdout",
     "output_type": "stream",
     "text": [
      "[ 2.94257048e+01  8.16592441e-02 -6.32978041e-03 -5.52960766e-02\n",
      " -1.29164208e-01 -9.12696663e-02 -7.27747787e-02  3.85624970e-01\n",
      " -9.52923319e-01 -3.64044514e-01  7.63240165e-01 -6.44688340e-02\n",
      " -1.22144567e-01  8.41900317e-02 -1.81079149e-01 -1.59557259e-01\n",
      "  1.99522352e-01  1.84746187e+00  4.41655055e-02  3.74627735e-01\n",
      "  8.23477942e-01  3.31257016e-01  1.17917831e-01  1.79545223e+00\n",
      " -3.60895346e-01  0.00000000e+00  0.00000000e+00  0.00000000e+00\n",
      "  2.61882911e-01  5.51341345e-01  8.77810035e-01  1.29397247e+00\n",
      " -5.32569167e-02  1.03696452e+00 -3.45204103e-01 -5.68195851e-01\n",
      "  1.98869537e-01 -4.84561655e-01 -1.42818177e-01  3.34028488e-02\n",
      "  4.83418084e-02 -3.92891628e-02 -3.39091683e-01 -4.34810247e-01\n",
      "  7.19810490e-02 -3.70798559e-01  5.62373594e-01 -3.20399156e-01\n",
      " -9.26935759e-02 -3.50495743e-03  0.00000000e+00  6.16551147e-01\n",
      "  5.16258020e-01 -3.23451043e-01  0.00000000e+00  2.77193271e-02\n",
      "  1.79868537e-02  2.72352332e-01  2.96158480e-01  3.64196648e-01\n",
      "  4.01997405e-01 -4.88880617e-02  0.00000000e+00  4.69892247e-01\n",
      "  2.19852797e-01  3.29168212e-01 -1.75045610e-01  0.00000000e+00\n",
      " -1.83983760e-01  2.70784012e-01  0.00000000e+00  5.64641283e-01\n",
      "  0.00000000e+00  0.00000000e+00 -2.23906937e+00  0.00000000e+00\n",
      "  2.27104751e-01 -4.15260814e-02  2.64085436e-01 -3.73389394e-01\n",
      " -1.32877952e+00 -9.31804769e-01 -1.52810212e-01 -1.93470460e-01\n",
      " -6.56221111e-01 -4.23807635e-02  2.27690296e-02  5.66419497e-01\n",
      "  0.00000000e+00 -1.69133064e-01  2.88329102e-02  2.76045256e-01\n",
      "  0.00000000e+00  7.97754676e-02  8.97781233e+00 -1.39155118e+00\n",
      "  6.37930358e-01 -1.97351452e+00  0.00000000e+00  1.60244447e-02\n",
      " -9.71444527e-02]\n"
     ]
    }
   ],
   "source": [
    "logreg_coef = logreg.coef_\n",
    "print(*logreg_coef, sep='/n')"
   ]
  },
  {
   "cell_type": "code",
   "execution_count": 7,
   "metadata": {},
   "outputs": [
    {
     "name": "stdout",
     "output_type": "stream",
     "text": [
      "[ 4.26564711e-01  1.93802824e-02 -2.14970577e-03 -2.58566063e-02\n",
      " -4.24554926e-02 -3.04513976e-02 -1.81647852e-02  1.83350743e-01\n",
      " -2.43373297e-01 -1.23856636e-01  3.73604393e-01 -2.35352138e-02\n",
      " -5.54695730e-02  2.31701509e-02 -8.92696609e-02 -6.92048323e-03\n",
      "  5.96875469e-02  3.08527371e-01  3.29124165e-03  1.88429428e-02\n",
      "  1.27094829e-01  9.82162097e-02  1.38277368e-02  1.36631749e-01\n",
      " -1.00470640e-02  0.00000000e+00  0.00000000e+00  0.00000000e+00\n",
      "  2.96115197e-02  6.09619064e-02  2.64322403e-01  3.63393090e-01\n",
      " -7.89698467e-03  1.49981520e-01 -6.23848375e-02 -1.81592370e-01\n",
      "  1.19980414e-02 -2.09825691e-01 -1.53249911e-02  2.04905012e-03\n",
      "  3.21558026e-03 -3.26752989e-03 -2.81697610e-02 -3.61814983e-02\n",
      "  3.01769133e-03 -4.66273972e-02  3.28342095e-02 -1.11583054e-01\n",
      " -5.46061597e-03 -2.61732186e-04  0.00000000e+00  3.00501742e-02\n",
      "  3.51362901e-02 -5.01491483e-03  0.00000000e+00  1.36412264e-03\n",
      "  9.18392218e-04  3.28008506e-02  1.79053578e-02  3.15190958e-02\n",
      "  2.80542675e-02 -5.93046838e-03  0.00000000e+00  2.86177395e-02\n",
      "  1.17765903e-02  1.32739425e-02 -1.01737498e-02  0.00000000e+00\n",
      " -8.41070738e-03  1.27838019e-02  0.00000000e+00  6.85399530e-03\n",
      "  0.00000000e+00  0.00000000e+00 -8.81872002e-03  0.00000000e+00\n",
      "  2.19090229e-03 -9.75383402e-03  9.59520845e-02 -1.25575744e-01\n",
      " -2.14203935e-01 -5.66207495e-02 -1.24679408e-02 -4.22854764e-03\n",
      " -3.14278402e-01 -1.75071639e-02  8.54086605e-03  1.54854641e-01\n",
      "  0.00000000e+00 -4.92788878e-02  8.71367245e-03  7.76051777e-02\n",
      "  0.00000000e+00  1.75714601e-02  7.45751259e-02 -6.82664324e-03\n",
      "  7.47954271e-02 -2.69842086e-02  0.00000000e+00  5.95742387e-03\n",
      " -2.34921835e-02]\n"
     ]
    }
   ],
   "source": [
    "logreg_coef_std = np.ravel(np.std(X_train, 0)*logreg_coef)\n",
    "\n",
    "print(logreg_coef_std, sep='/n')"
   ]
  },
  {
   "cell_type": "code",
   "execution_count": 8,
   "metadata": {},
   "outputs": [
    {
     "name": "stdout",
     "output_type": "stream",
     "text": [
      "[25, 26, 27, 50, 54, 62, 67, 70, 72, 73, 75, 88, 92, 98]\n"
     ]
    }
   ],
   "source": [
    "#get feats with 0 importance\n",
    "coef_zero_arg = np.argwhere(logreg_coef_std==0)\n",
    "#flatten\n",
    "coef_zero_arg = np.ravel(coef_zero_arg)\n",
    "\n",
    "print(list(coef_zero_arg))"
   ]
  },
  {
   "cell_type": "code",
   "execution_count": 9,
   "metadata": {},
   "outputs": [
    {
     "data": {
      "text/plain": [
       "Index(['BYOB', 'Open24Hours', 'RestaurantsCounterService', 'no_music',\n",
       "       'karaoke', 'straightperms', 'kids', 'dairy_free', 'vegan', 'kosher',\n",
       "       'soy_free', 'Spas', 'Health', 'avg_month_checkin'],\n",
       "      dtype='object')"
      ]
     },
     "execution_count": 9,
     "metadata": {},
     "output_type": "execute_result"
    }
   ],
   "source": [
    "#features deemed unimportant\n",
    "df_num.columns[coef_zero_arg]"
   ]
  },
  {
   "cell_type": "code",
   "execution_count": 10,
   "metadata": {},
   "outputs": [],
   "source": [
    "#get descending order by absolute value\n",
    "feat_max_desc = np.argsort(np.abs(logreg_coef_std))[::-1]"
   ]
  },
  {
   "cell_type": "code",
   "execution_count": 11,
   "metadata": {},
   "outputs": [
    {
     "data": {
      "text/plain": [
       "Index(['review_count', 'BikeParking', 'dinner', 'Restaurants',\n",
       "       'AcceptsInsurance', 'lunch', 'RestaurantsPriceRange2',\n",
       "       'RestaurantsAttire', 'lot', 'RestaurantsTakeOut', 'street', 'Home',\n",
       "       'breakfast', 'DriveThru', 'HappyHour', 'Alcohol', 'OutdoorSeating',\n",
       "       'casual', 'WheelchairAccessible', 'WiFi', 'BusinessAcceptsCreditCards',\n",
       "       'Medical', 'stars_change', 'cool_change', 'garage', 'latenight',\n",
       "       'ByAppointmentOnly', 'BYOBCorkage', 'RestaurantsGoodForGroups', 'Bars'],\n",
       "      dtype='object')"
      ]
     },
     "execution_count": 11,
     "metadata": {},
     "output_type": "execute_result"
    }
   ],
   "source": [
    "#top k most important factors\n",
    "df_num.columns[feat_max_desc[:30]]"
   ]
  },
  {
   "cell_type": "code",
   "execution_count": null,
   "metadata": {},
   "outputs": [],
   "source": []
  },
  {
   "cell_type": "code",
   "execution_count": null,
   "metadata": {},
   "outputs": [],
   "source": []
  }
 ],
 "metadata": {
  "kernelspec": {
   "display_name": "Python 3",
   "language": "python",
   "name": "python3"
  },
  "language_info": {
   "codemirror_mode": {
    "name": "ipython",
    "version": 3
   },
   "file_extension": ".py",
   "mimetype": "text/x-python",
   "name": "python",
   "nbconvert_exporter": "python",
   "pygments_lexer": "ipython3",
   "version": "3.7.3"
  }
 },
 "nbformat": 4,
 "nbformat_minor": 2
}
