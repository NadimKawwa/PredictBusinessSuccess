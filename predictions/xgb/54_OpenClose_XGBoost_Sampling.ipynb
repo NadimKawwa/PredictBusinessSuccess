{
 "cells": [
  {
   "cell_type": "code",
   "execution_count": 37,
   "metadata": {},
   "outputs": [],
   "source": [
    "import pandas as pd\n",
    "import numpy as np\n",
    "import matplotlib.pyplot as plt\n",
    "import utils, plot_help, pickle\n",
    "\n",
    "from sklearn.preprocessing import MinMaxScaler\n",
    "from sklearn.model_selection import GridSearchCV, train_test_split\n",
    "from sklearn.metrics import classification_report, confusion_matrix, \\\n",
    "                            roc_curve, roc_auc_score, precision_recall_curve\n",
    "from joblib import dump, load\n",
    "\n",
    "import xgboost as xgb\n",
    "\n",
    "\n",
    "\n",
    "%matplotlib inline"
   ]
  },
  {
   "cell_type": "code",
   "execution_count": 2,
   "metadata": {},
   "outputs": [],
   "source": [
    "#change read limit to -1 to load entire dataframe\n",
    "df_bus = utils.chunk_loader('data/cleaned/business_merge_feats.csv', read_limit=-1)\n",
    "\n",
    "df_num = utils.make_num_df(df_bus)\n",
    "\n",
    "X_train, X_test, y_train, y_test = utils.train_test_scale (df_num, \n",
    "                                                           'is_open', \n",
    "                                                           random_state=None)"
   ]
  },
  {
   "cell_type": "markdown",
   "metadata": {},
   "source": [
    "## Params from Grid Search CV"
   ]
  },
  {
   "cell_type": "code",
   "execution_count": 3,
   "metadata": {},
   "outputs": [
    {
     "name": "stdout",
     "output_type": "stream",
     "text": [
      "{'colsample_bytree': 0.9, 'eta': 0.05, 'max_depth': 6, 'num_boost_round': 100, 'subsample': 0.9}\n"
     ]
    }
   ],
   "source": [
    "best_params = {'colsample_bytree': 0.9, \n",
    "               'eta': 0.05, \n",
    "               'max_depth': 6, \n",
    "               'num_boost_round': 100, \n",
    "               'subsample': 0.9}\n",
    "print(best_params)"
   ]
  },
  {
   "cell_type": "markdown",
   "metadata": {},
   "source": [
    "## Undersample"
   ]
  },
  {
   "cell_type": "code",
   "execution_count": 4,
   "metadata": {},
   "outputs": [
    {
     "data": {
      "text/plain": [
       "0.5"
      ]
     },
     "execution_count": 4,
     "metadata": {},
     "output_type": "execute_result"
    }
   ],
   "source": [
    "#apply undersampling\n",
    "X_under, y_under = utils.undersample(X_train, y_train)\n",
    "\n",
    "#check mean dist\n",
    "y_under.mean()"
   ]
  },
  {
   "cell_type": "code",
   "execution_count": 5,
   "metadata": {},
   "outputs": [
    {
     "data": {
      "text/plain": [
       "XGBClassifier(base_score=0.5, booster='gbtree', colsample_bylevel=1,\n",
       "              colsample_bynode=1, colsample_bytree=0.9, eta=0.9, gamma=0,\n",
       "              learning_rate=0.1, max_delta_step=0, max_depth=6,\n",
       "              min_child_weight=1, missing=None, n_estimators=300, n_jobs=-1,\n",
       "              nthread=None, num_boost_round=100, objective='binary:logistic',\n",
       "              random_state=0, reg_alpha=0, reg_lambda=1, scale_pos_weight=1,\n",
       "              seed=None, silent=None, subsample=0.9, verbosity=1)"
      ]
     },
     "execution_count": 5,
     "metadata": {},
     "output_type": "execute_result"
    }
   ],
   "source": [
    "xgb_under = xgb.XGBClassifier(n_estimators=300,\n",
    "                              colsample_bytree=0.9, \n",
    "                              eta=0.9, \n",
    "                              max_depth=6, \n",
    "                              num_boost_round=100,\n",
    "                              subsample=0.9, \n",
    "                              n_jobs=-1)\n",
    "\n",
    "xgb_under.fit(X_under, y_under)"
   ]
  },
  {
   "cell_type": "code",
   "execution_count": 6,
   "metadata": {},
   "outputs": [
    {
     "name": "stdout",
     "output_type": "stream",
     "text": [
      "              precision    recall  f1-score   support\n",
      "\n",
      "           0       0.39      0.71      0.51      6072\n",
      "           1       0.92      0.75      0.82     26160\n",
      "\n",
      "    accuracy                           0.74     32232\n",
      "   macro avg       0.66      0.73      0.66     32232\n",
      "weighted avg       0.82      0.74      0.76     32232\n",
      "\n",
      "----------\n",
      "Normalized confusion matrix\n"
     ]
    },
    {
     "name": "stderr",
     "output_type": "stream",
     "text": [
      "/Users/nadimkawwa/anaconda3/lib/python3.7/site-packages/matplotlib/figure.py:445: UserWarning: Matplotlib is currently using module://ipykernel.pylab.backend_inline, which is a non-GUI backend, so cannot show the figure.\n",
      "  % get_backend())\n"
     ]
    },
    {
     "data": {
      "image/png": "[encoded data removed]",
      "text/plain": [
       "<Figure size 432x288 with 2 Axes>"
      ]
     },
     "metadata": {
      "needs_background": "light"
     },
     "output_type": "display_data"
    },
    {
     "name": "stdout",
     "output_type": "stream",
     "text": [
      "----------\n"
     ]
    },
    {
     "data": {
      "image/png": "[encoded data removed]",
      "text/plain": [
       "<Figure size 432x288 with 1 Axes>"
      ]
     },
     "metadata": {
      "needs_background": "light"
     },
     "output_type": "display_data"
    },
    {
     "name": "stdout",
     "output_type": "stream",
     "text": [
      "Area Under Curve = 0.7270\n",
      "----------\n"
     ]
    },
    {
     "data": {
      "image/png": "[encoded data removed]",
      "text/plain": [
       "<Figure size 432x288 with 1 Axes>"
      ]
     },
     "metadata": {
      "needs_background": "light"
     },
     "output_type": "display_data"
    }
   ],
   "source": [
    "#make pred with undersampling\n",
    "y_pred_under = xgb_under.predict(X_test)\n",
    "\n",
    "print(classification_report(y_test, y_pred_under))\n",
    "print(10*'-')\n",
    "plot_help.plot_confusion_matrix(y_test, y_pred_under, ['closed', 'open'], normalize=True,\n",
    "                                title='XGB Undersampling')\n",
    "print(10*'-')\n",
    "plot_help.plot_roc_curve(y_test, y_pred_under, 'XGB Undersampling')\n",
    "print(10*'-')\n",
    "plot_help.plot_prc_curve(y_test, xgb_under.predict_proba(X_test)[:, 1], 'XGB Undersampling')"
   ]
  },
  {
   "cell_type": "code",
   "execution_count": 7,
   "metadata": {},
   "outputs": [
    {
     "data": {
      "text/html": [
       "<div>\n",
       "<style scoped>\n",
       "    .dataframe tbody tr th:only-of-type {\n",
       "        vertical-align: middle;\n",
       "    }\n",
       "\n",
       "    .dataframe tbody tr th {\n",
       "        vertical-align: top;\n",
       "    }\n",
       "\n",
       "    .dataframe thead th {\n",
       "        text-align: right;\n",
       "    }\n",
       "</style>\n",
       "<table border=\"1\" class=\"dataframe\">\n",
       "  <thead>\n",
       "    <tr style=\"text-align: right;\">\n",
       "      <th></th>\n",
       "      <th>xgb_undersample</th>\n",
       "    </tr>\n",
       "  </thead>\n",
       "  <tbody>\n",
       "    <tr>\n",
       "      <th>Restaurants</th>\n",
       "      <td>0.104320</td>\n",
       "    </tr>\n",
       "    <tr>\n",
       "      <th>lunch</th>\n",
       "      <td>0.101355</td>\n",
       "    </tr>\n",
       "    <tr>\n",
       "      <th>dinner</th>\n",
       "      <td>0.059586</td>\n",
       "    </tr>\n",
       "    <tr>\n",
       "      <th>AcceptsInsurance</th>\n",
       "      <td>0.043206</td>\n",
       "    </tr>\n",
       "    <tr>\n",
       "      <th>BikeParking</th>\n",
       "      <td>0.041057</td>\n",
       "    </tr>\n",
       "  </tbody>\n",
       "</table>\n",
       "</div>"
      ],
      "text/plain": [
       "                  xgb_undersample\n",
       "Restaurants              0.104320\n",
       "lunch                    0.101355\n",
       "dinner                   0.059586\n",
       "AcceptsInsurance         0.043206\n",
       "BikeParking              0.041057"
      ]
     },
     "execution_count": 7,
     "metadata": {},
     "output_type": "execute_result"
    }
   ],
   "source": [
    "feats_df_under = utils.get_top_feat_df(xgb_under.feature_importances_, \n",
    "                                       df_num, \n",
    "                                       'xgb_undersample')\n",
    "feats_df_under.head()"
   ]
  },
  {
   "cell_type": "markdown",
   "metadata": {},
   "source": [
    "## Oversample"
   ]
  },
  {
   "cell_type": "code",
   "execution_count": 8,
   "metadata": {},
   "outputs": [
    {
     "data": {
      "text/plain": [
       "0.44714800950378614"
      ]
     },
     "execution_count": 8,
     "metadata": {},
     "output_type": "execute_result"
    }
   ],
   "source": [
    "#apply undersampling\n",
    "X_over, y_over = utils.oversample(X_train, y_train)\n",
    "\n",
    "#check mean \n",
    "y_over.mean()"
   ]
  },
  {
   "cell_type": "code",
   "execution_count": 9,
   "metadata": {},
   "outputs": [
    {
     "data": {
      "text/plain": [
       "XGBClassifier(base_score=0.5, booster='gbtree', colsample_bylevel=1,\n",
       "              colsample_bynode=1, colsample_bytree=0.9, eta=0.9, gamma=0,\n",
       "              learning_rate=0.1, max_delta_step=0, max_depth=6,\n",
       "              min_child_weight=1, missing=None, n_estimators=300, n_jobs=-1,\n",
       "              nthread=None, num_boost_round=100, objective='binary:logistic',\n",
       "              random_state=0, reg_alpha=0, reg_lambda=1, scale_pos_weight=1,\n",
       "              seed=None, silent=None, subsample=0.9, verbosity=1)"
      ]
     },
     "execution_count": 9,
     "metadata": {},
     "output_type": "execute_result"
    }
   ],
   "source": [
    "xgb_over = xgb.XGBClassifier(n_estimators=300,\n",
    "                              colsample_bytree=0.9, \n",
    "                              eta=0.9, \n",
    "                              max_depth=6, \n",
    "                              num_boost_round=100,\n",
    "                              subsample=0.9, \n",
    "                              n_jobs=-1)\n",
    "\n",
    "xgb_over.fit(X_over, y_over )"
   ]
  },
  {
   "cell_type": "code",
   "execution_count": 10,
   "metadata": {},
   "outputs": [
    {
     "name": "stdout",
     "output_type": "stream",
     "text": [
      "              precision    recall  f1-score   support\n",
      "\n",
      "           0       0.38      0.74      0.50      6072\n",
      "           1       0.92      0.72      0.81     26160\n",
      "\n",
      "    accuracy                           0.72     32232\n",
      "   macro avg       0.65      0.73      0.66     32232\n",
      "weighted avg       0.82      0.72      0.75     32232\n",
      "\n",
      "----------\n",
      "Normalized confusion matrix\n"
     ]
    },
    {
     "name": "stderr",
     "output_type": "stream",
     "text": [
      "/Users/nadimkawwa/anaconda3/lib/python3.7/site-packages/matplotlib/figure.py:445: UserWarning: Matplotlib is currently using module://ipykernel.pylab.backend_inline, which is a non-GUI backend, so cannot show the figure.\n",
      "  % get_backend())\n"
     ]
    },
    {
     "data": {
      "image/png": "[encoded data removed]",
      "text/plain": [
       "<Figure size 432x288 with 2 Axes>"
      ]
     },
     "metadata": {
      "needs_background": "light"
     },
     "output_type": "display_data"
    },
    {
     "name": "stdout",
     "output_type": "stream",
     "text": [
      "----------\n"
     ]
    },
    {
     "data": {
      "image/png": "[encoded data removed]",
      "text/plain": [
       "<Figure size 432x288 with 1 Axes>"
      ]
     },
     "metadata": {
      "needs_background": "light"
     },
     "output_type": "display_data"
    },
    {
     "name": "stdout",
     "output_type": "stream",
     "text": [
      "Area Under Curve = 0.7294\n",
      "----------\n"
     ]
    },
    {
     "data": {
      "image/png": "[encoded data removed]",
      "text/plain": [
       "<Figure size 432x288 with 1 Axes>"
      ]
     },
     "metadata": {
      "needs_background": "light"
     },
     "output_type": "display_data"
    }
   ],
   "source": [
    "#make pred with undersampling\n",
    "y_pred_over = xgb_over.predict(X_test)\n",
    "\n",
    "print(classification_report(y_test, y_pred_over))\n",
    "print(10*'-')\n",
    "plot_help.plot_confusion_matrix(y_test, \n",
    "                                y_pred_over, \n",
    "                                ['closed', 'open'], normalize=True,\n",
    "                                title='XGB Oversampling')\n",
    "print(10*'-')\n",
    "plot_help.plot_roc_curve(y_test, \n",
    "                         y_pred_over, \n",
    "                         'XGB Oversampling')\n",
    "print(10*'-')\n",
    "plot_help.plot_prc_curve(y_test, \n",
    "                         xgb_over.predict_proba(X_test)[:, 1], \n",
    "                         'XGB Oversampling')"
   ]
  },
  {
   "cell_type": "code",
   "execution_count": 11,
   "metadata": {
    "scrolled": true
   },
   "outputs": [
    {
     "data": {
      "text/html": [
       "<div>\n",
       "<style scoped>\n",
       "    .dataframe tbody tr th:only-of-type {\n",
       "        vertical-align: middle;\n",
       "    }\n",
       "\n",
       "    .dataframe tbody tr th {\n",
       "        vertical-align: top;\n",
       "    }\n",
       "\n",
       "    .dataframe thead th {\n",
       "        text-align: right;\n",
       "    }\n",
       "</style>\n",
       "<table border=\"1\" class=\"dataframe\">\n",
       "  <thead>\n",
       "    <tr style=\"text-align: right;\">\n",
       "      <th></th>\n",
       "      <th>xgb_oversample</th>\n",
       "    </tr>\n",
       "  </thead>\n",
       "  <tbody>\n",
       "    <tr>\n",
       "      <th>Restaurants</th>\n",
       "      <td>0.125031</td>\n",
       "    </tr>\n",
       "    <tr>\n",
       "      <th>lunch</th>\n",
       "      <td>0.110489</td>\n",
       "    </tr>\n",
       "    <tr>\n",
       "      <th>dinner</th>\n",
       "      <td>0.051585</td>\n",
       "    </tr>\n",
       "    <tr>\n",
       "      <th>AcceptsInsurance</th>\n",
       "      <td>0.048000</td>\n",
       "    </tr>\n",
       "    <tr>\n",
       "      <th>BikeParking</th>\n",
       "      <td>0.038656</td>\n",
       "    </tr>\n",
       "  </tbody>\n",
       "</table>\n",
       "</div>"
      ],
      "text/plain": [
       "                  xgb_oversample\n",
       "Restaurants             0.125031\n",
       "lunch                   0.110489\n",
       "dinner                  0.051585\n",
       "AcceptsInsurance        0.048000\n",
       "BikeParking             0.038656"
      ]
     },
     "execution_count": 11,
     "metadata": {},
     "output_type": "execute_result"
    }
   ],
   "source": [
    "#get top coefficients\n",
    "feats_df_ovr = utils.get_top_feat_df(xgb_over.feature_importances_, \n",
    "                                     df_num, \n",
    "                                     'xgb_oversample')\n",
    "feats_df_ovr.head()"
   ]
  },
  {
   "cell_type": "code",
   "execution_count": 12,
   "metadata": {},
   "outputs": [
    {
     "data": {
      "text/html": [
       "<div>\n",
       "<style scoped>\n",
       "    .dataframe tbody tr th:only-of-type {\n",
       "        vertical-align: middle;\n",
       "    }\n",
       "\n",
       "    .dataframe tbody tr th {\n",
       "        vertical-align: top;\n",
       "    }\n",
       "\n",
       "    .dataframe thead th {\n",
       "        text-align: right;\n",
       "    }\n",
       "</style>\n",
       "<table border=\"1\" class=\"dataframe\">\n",
       "  <thead>\n",
       "    <tr style=\"text-align: right;\">\n",
       "      <th></th>\n",
       "      <th>xgb_oversample</th>\n",
       "    </tr>\n",
       "  </thead>\n",
       "  <tbody>\n",
       "    <tr>\n",
       "      <th>soy_free</th>\n",
       "      <td>0.0</td>\n",
       "    </tr>\n",
       "    <tr>\n",
       "      <th>kosher</th>\n",
       "      <td>0.0</td>\n",
       "    </tr>\n",
       "    <tr>\n",
       "      <th>curly</th>\n",
       "      <td>0.0</td>\n",
       "    </tr>\n",
       "    <tr>\n",
       "      <th>dairy_free</th>\n",
       "      <td>0.0</td>\n",
       "    </tr>\n",
       "    <tr>\n",
       "      <th>no_music</th>\n",
       "      <td>0.0</td>\n",
       "    </tr>\n",
       "  </tbody>\n",
       "</table>\n",
       "</div>"
      ],
      "text/plain": [
       "            xgb_oversample\n",
       "soy_free               0.0\n",
       "kosher                 0.0\n",
       "curly                  0.0\n",
       "dairy_free             0.0\n",
       "no_music               0.0"
      ]
     },
     "execution_count": 12,
     "metadata": {},
     "output_type": "execute_result"
    }
   ],
   "source": [
    "#note bottom coeffs have 0 weight\n",
    "feats_df_ovr.tail()"
   ]
  },
  {
   "cell_type": "code",
   "execution_count": 13,
   "metadata": {},
   "outputs": [
    {
     "data": {
      "text/plain": [
       "xgb_oversample    0.0\n",
       "dtype: float32"
      ]
     },
     "execution_count": 13,
     "metadata": {},
     "output_type": "execute_result"
    }
   ],
   "source": [
    "#confirm with minimum\n",
    "feats_df_ovr.min()"
   ]
  },
  {
   "cell_type": "code",
   "execution_count": 14,
   "metadata": {},
   "outputs": [
    {
     "data": {
      "text/plain": [
       "xgb_oversample    1.0\n",
       "dtype: float32"
      ]
     },
     "execution_count": 14,
     "metadata": {},
     "output_type": "execute_result"
    }
   ],
   "source": [
    "#sanity check adds up to 1.0\n",
    "feats_df_ovr.sum()"
   ]
  },
  {
   "cell_type": "markdown",
   "metadata": {},
   "source": [
    "## Oversampling With More Data"
   ]
  },
  {
   "cell_type": "code",
   "execution_count": 15,
   "metadata": {},
   "outputs": [],
   "source": [
    "#change read limit to -1 to load entire dataframe\n",
    "df_bus_dens = utils.chunk_loader('data/cleaned/business_merge_density_added.csv', read_limit=-1)\n",
    "\n",
    "df_bus_dens = utils.make_num_df(df_bus_dens)\n",
    "\n",
    "X_train_dens, X_test_dens, y_train, y_test = utils.train_test_scale (df_bus_dens, \n",
    "                                                           'is_open', \n",
    "                                                           random_state=None)\n",
    "\n",
    "#apply oversampling\n",
    "X_over_dens, y_over = utils.oversample(X_train_dens, y_train)"
   ]
  },
  {
   "cell_type": "code",
   "execution_count": 16,
   "metadata": {},
   "outputs": [
    {
     "data": {
      "text/plain": [
       "XGBClassifier(base_score=0.5, booster='gbtree', colsample_bylevel=1,\n",
       "              colsample_bynode=1, colsample_bytree=0.9, eta=0.9, gamma=0,\n",
       "              learning_rate=0.1, max_delta_step=0, max_depth=6,\n",
       "              min_child_weight=1, missing=None, n_estimators=300, n_jobs=-1,\n",
       "              nthread=None, num_boost_round=100, objective='binary:logistic',\n",
       "              random_state=0, reg_alpha=0, reg_lambda=1, scale_pos_weight=1,\n",
       "              seed=None, silent=None, subsample=0.9, verbosity=1)"
      ]
     },
     "execution_count": 16,
     "metadata": {},
     "output_type": "execute_result"
    }
   ],
   "source": [
    "#reassign new classifier\n",
    "xgb_over_dens = xgb.XGBClassifier(n_estimators=300,\n",
    "                              colsample_bytree=0.9, \n",
    "                              eta=0.9, \n",
    "                              max_depth=6, \n",
    "                              num_boost_round=100,\n",
    "                              subsample=0.9, \n",
    "                              n_jobs=-1)\n",
    "\n",
    "xgb_over_dens.fit(X_over_dens, y_over)"
   ]
  },
  {
   "cell_type": "code",
   "execution_count": 17,
   "metadata": {},
   "outputs": [
    {
     "name": "stdout",
     "output_type": "stream",
     "text": [
      "              precision    recall  f1-score   support\n",
      "\n",
      "           0       0.41      0.74      0.53      6072\n",
      "           1       0.93      0.75      0.83     26160\n",
      "\n",
      "    accuracy                           0.75     32232\n",
      "   macro avg       0.67      0.75      0.68     32232\n",
      "weighted avg       0.83      0.75      0.77     32232\n",
      "\n",
      "----------\n",
      "Normalized confusion matrix\n"
     ]
    },
    {
     "name": "stderr",
     "output_type": "stream",
     "text": [
      "/Users/nadimkawwa/anaconda3/lib/python3.7/site-packages/matplotlib/figure.py:445: UserWarning: Matplotlib is currently using module://ipykernel.pylab.backend_inline, which is a non-GUI backend, so cannot show the figure.\n",
      "  % get_backend())\n"
     ]
    },
    {
     "data": {
      "image/png": "[encoded data removed]",
      "text/plain": [
       "<Figure size 432x288 with 2 Axes>"
      ]
     },
     "metadata": {
      "needs_background": "light"
     },
     "output_type": "display_data"
    },
    {
     "name": "stdout",
     "output_type": "stream",
     "text": [
      "----------\n"
     ]
    },
    {
     "data": {
      "image/png": "[encoded data removed]",
      "text/plain": [
       "<Figure size 432x288 with 1 Axes>"
      ]
     },
     "metadata": {
      "needs_background": "light"
     },
     "output_type": "display_data"
    },
    {
     "name": "stdout",
     "output_type": "stream",
     "text": [
      "Area Under Curve = 0.7472\n",
      "----------\n"
     ]
    },
    {
     "data": {
      "image/png": "[encoded data removed]",
      "text/plain": [
       "<Figure size 432x288 with 1 Axes>"
      ]
     },
     "metadata": {
      "needs_background": "light"
     },
     "output_type": "display_data"
    }
   ],
   "source": [
    "#make pred with undersampling\n",
    "y_pred_over_dens = xgb_over_dens.predict(X_test_dens)\n",
    "\n",
    "print(classification_report(y_test, y_pred_over_dens))\n",
    "print(10*'-')\n",
    "plot_help.plot_confusion_matrix(y_test, \n",
    "                                y_pred_over_dens, \n",
    "                                ['closed', 'open'], normalize=True,\n",
    "                                title='XGB Oversampling')\n",
    "print(10*'-')\n",
    "plot_help.plot_roc_curve(y_test, \n",
    "                         y_pred_over_dens, \n",
    "                         'XGB Oversampling')\n",
    "print(10*'-')\n",
    "plot_help.plot_prc_curve(y_test, \n",
    "                         xgb_over_dens.predict_proba(X_test_dens)[:, 1], \n",
    "                         'XGB Oversampling')"
   ]
  },
  {
   "cell_type": "code",
   "execution_count": 18,
   "metadata": {},
   "outputs": [
    {
     "data": {
      "text/html": [
       "<div>\n",
       "<style scoped>\n",
       "    .dataframe tbody tr th:only-of-type {\n",
       "        vertical-align: middle;\n",
       "    }\n",
       "\n",
       "    .dataframe tbody tr th {\n",
       "        vertical-align: top;\n",
       "    }\n",
       "\n",
       "    .dataframe thead th {\n",
       "        text-align: right;\n",
       "    }\n",
       "</style>\n",
       "<table border=\"1\" class=\"dataframe\">\n",
       "  <thead>\n",
       "    <tr style=\"text-align: right;\">\n",
       "      <th></th>\n",
       "      <th>xgb_oversample_dens</th>\n",
       "    </tr>\n",
       "  </thead>\n",
       "  <tbody>\n",
       "    <tr>\n",
       "      <th>Restaurants</th>\n",
       "      <td>0.108288</td>\n",
       "    </tr>\n",
       "    <tr>\n",
       "      <th>lunch</th>\n",
       "      <td>0.089659</td>\n",
       "    </tr>\n",
       "    <tr>\n",
       "      <th>dinner</th>\n",
       "      <td>0.056048</td>\n",
       "    </tr>\n",
       "    <tr>\n",
       "      <th>RestaurantsPriceRange2</th>\n",
       "      <td>0.053290</td>\n",
       "    </tr>\n",
       "    <tr>\n",
       "      <th>chain</th>\n",
       "      <td>0.046459</td>\n",
       "    </tr>\n",
       "  </tbody>\n",
       "</table>\n",
       "</div>"
      ],
      "text/plain": [
       "                        xgb_oversample_dens\n",
       "Restaurants                        0.108288\n",
       "lunch                              0.089659\n",
       "dinner                             0.056048\n",
       "RestaurantsPriceRange2             0.053290\n",
       "chain                              0.046459"
      ]
     },
     "execution_count": 18,
     "metadata": {},
     "output_type": "execute_result"
    }
   ],
   "source": [
    "#get top coefficinets\n",
    "feats_df_dens = utils.get_top_feat_df(xgb_over_dens.feature_importances_, \n",
    "                                      df_bus_dens, \n",
    "                                      'xgb_oversample_dens')\n",
    "feats_df_dens.head()"
   ]
  },
  {
   "cell_type": "code",
   "execution_count": 48,
   "metadata": {},
   "outputs": [
    {
     "name": "stdout",
     "output_type": "stream",
     "text": [
      "model saved to: models/xgb_over.pickle\n"
     ]
    }
   ],
   "source": [
    "#save the work\n",
    "utils.pickle_save(xgb_over_dens, 'models/xgb_over.pickle')"
   ]
  },
  {
   "cell_type": "code",
   "execution_count": null,
   "metadata": {},
   "outputs": [],
   "source": []
  },
  {
   "cell_type": "code",
   "execution_count": null,
   "metadata": {},
   "outputs": [],
   "source": []
  }
 ],
 "metadata": {
  "kernelspec": {
   "display_name": "Python 3",
   "language": "python",
   "name": "python3"
  },
  "language_info": {
   "codemirror_mode": {
    "name": "ipython",
    "version": 3
   },
   "file_extension": ".py",
   "mimetype": "text/x-python",
   "name": "python",
   "nbconvert_exporter": "python",
   "pygments_lexer": "ipython3",
   "version": "3.7.3"
  }
 },
 "nbformat": 4,
 "nbformat_minor": 2
}
