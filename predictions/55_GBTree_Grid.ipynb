{
 "cells": [
  {
   "cell_type": "code",
   "execution_count": 1,
   "metadata": {},
   "outputs": [],
   "source": [
    "import pandas as pd\n",
    "import numpy as np\n",
    "import matplotlib.pyplot as plt\n",
    "import utils, plot_help\n",
    "\n",
    "\n",
    "from sklearn.preprocessing import MinMaxScaler\n",
    "from sklearn.model_selection import GridSearchCV, train_test_split\n",
    "from sklearn.ensemble import GradientBoostingClassifier\n",
    "from sklearn.metrics import classification_report, confusion_matrix, \\\n",
    "                            roc_curve, roc_auc_score, precision_recall_curve\n",
    "\n",
    "from joblib import dump, load\n",
    "\n",
    "%matplotlib inline"
   ]
  },
  {
   "cell_type": "code",
   "execution_count": 2,
   "metadata": {},
   "outputs": [],
   "source": [
    "#change read limit to -1 to load entire dataframe\n",
    "df_bus = utils.chunk_loader('data/cleaned/business_merge_feats.csv', read_limit=100_000)\n",
    "\n",
    "df_bus = df_bus.drop(columns=['latitude', 'longitude', 'postal_code'])\n",
    "\n",
    "\n",
    "\n",
    "#make dataframe of numeric types\n",
    "df_num = df_bus.select_dtypes(include=[np.float64, np.int64]).copy()\n",
    "\n",
    "#copy over from notebook\n",
    "drop_col_loc = [25, 26, 27, 50, 62, 69, 70, 72, 73, 74, 75, 76, 88, 98]\n",
    "\n",
    "df_num = df_num.drop(df_num.columns[drop_col_loc], axis=1)"
   ]
  },
  {
   "cell_type": "code",
   "execution_count": 3,
   "metadata": {},
   "outputs": [
    {
     "name": "stderr",
     "output_type": "stream",
     "text": [
      "/Users/nadimkawwa/anaconda3/lib/python3.7/site-packages/sklearn/preprocessing/data.py:334: DataConversionWarning: Data with input dtype int64, float64 were all converted to float64 by MinMaxScaler.\n",
      "  return self.partial_fit(X, y)\n"
     ]
    }
   ],
   "source": [
    "X_train, X_test, y_train, y_test = utils.train_test_scale (df_num, \n",
    "                                                           'is_open', \n",
    "                                                           random_state=None)"
   ]
  },
  {
   "cell_type": "code",
   "execution_count": 4,
   "metadata": {},
   "outputs": [
    {
     "name": "stdout",
     "output_type": "stream",
     "text": [
      "Fitting 5 folds for each of 81 candidates, totalling 405 fits\n"
     ]
    },
    {
     "name": "stderr",
     "output_type": "stream",
     "text": [
      "[Parallel(n_jobs=-1)]: Using backend LokyBackend with 4 concurrent workers.\n",
      "[Parallel(n_jobs=-1)]: Done   5 tasks      | elapsed:  2.4min\n",
      "[Parallel(n_jobs=-1)]: Done  10 tasks      | elapsed:  3.6min\n",
      "[Parallel(n_jobs=-1)]: Done  17 tasks      | elapsed:  5.9min\n",
      "[Parallel(n_jobs=-1)]: Done  24 tasks      | elapsed:  7.1min\n",
      "[Parallel(n_jobs=-1)]: Done  33 tasks      | elapsed: 10.5min\n",
      "[Parallel(n_jobs=-1)]: Done  42 tasks      | elapsed: 14.5min\n",
      "[Parallel(n_jobs=-1)]: Done  53 tasks      | elapsed: 15.6min\n",
      "[Parallel(n_jobs=-1)]: Done  64 tasks      | elapsed: 16.9min\n",
      "[Parallel(n_jobs=-1)]: Done  77 tasks      | elapsed: 18.2min\n",
      "[Parallel(n_jobs=-1)]: Done  90 tasks      | elapsed: 19.1min\n",
      "[Parallel(n_jobs=-1)]: Done 105 tasks      | elapsed: 20.4min\n",
      "[Parallel(n_jobs=-1)]: Done 120 tasks      | elapsed: 22.2min\n",
      "[Parallel(n_jobs=-1)]: Done 137 tasks      | elapsed: 26.1min\n",
      "[Parallel(n_jobs=-1)]: Done 154 tasks      | elapsed: 33.1min\n",
      "[Parallel(n_jobs=-1)]: Done 173 tasks      | elapsed: 42.6min\n",
      "[Parallel(n_jobs=-1)]: Done 192 tasks      | elapsed: 46.2min\n",
      "[Parallel(n_jobs=-1)]: Done 213 tasks      | elapsed: 47.8min\n",
      "[Parallel(n_jobs=-1)]: Done 234 tasks      | elapsed: 49.7min\n",
      "[Parallel(n_jobs=-1)]: Done 257 tasks      | elapsed: 51.7min\n",
      "[Parallel(n_jobs=-1)]: Done 280 tasks      | elapsed: 58.5min\n",
      "[Parallel(n_jobs=-1)]: Done 305 tasks      | elapsed: 69.6min\n",
      "[Parallel(n_jobs=-1)]: Done 330 tasks      | elapsed: 73.9min\n",
      "[Parallel(n_jobs=-1)]: Done 357 tasks      | elapsed: 75.6min\n",
      "[Parallel(n_jobs=-1)]: Done 384 tasks      | elapsed: 577.6min\n",
      "[Parallel(n_jobs=-1)]: Done 405 out of 405 | elapsed: 579.1min finished\n"
     ]
    },
    {
     "data": {
      "text/plain": [
       "GridSearchCV(cv=5, error_score='raise-deprecating',\n",
       "       estimator=GradientBoostingClassifier(criterion='friedman_mse', init=None,\n",
       "              learning_rate=0.1, loss='deviance', max_depth=3,\n",
       "              max_features=None, max_leaf_nodes=None,\n",
       "              min_impurity_decrease=0.0, min_impurity_split=None,\n",
       "              min_samples_leaf=1, min_sampl...      subsample=1.0, tol=0.0001, validation_fraction=0.1,\n",
       "              verbose=0, warm_start=False),\n",
       "       fit_params=None, iid='warn', n_jobs=-1,\n",
       "       param_grid={'loss': ['deviance'], 'learning_rate': [0.01, 0.1, 0.2], 'n_estimators': [300], 'subsample': [0.1], 'min_samples_split': [2, 4, 8], 'min_samples_leaf': [8, 16, 32], 'max_features': [None, 'log2', 'sqrt']},\n",
       "       pre_dispatch='2*n_jobs', refit=True, return_train_score='warn',\n",
       "       scoring='roc_auc', verbose=10)"
      ]
     },
     "execution_count": 4,
     "metadata": {},
     "output_type": "execute_result"
    }
   ],
   "source": [
    "param_grid = {'loss': ['deviance'], \n",
    "              'learning_rate': [0.01, 0.1, 0.2], \n",
    "              'n_estimators': [500], \n",
    "              'subsample': [0.1, 0.2],\n",
    "              'min_samples_split': [2, 4, 8], \n",
    "              'min_samples_leaf': [32, 64, 128], \n",
    "              'max_features': [None, 'sqrt']\n",
    "             }\n",
    "\n",
    "#instantiate logistic regression\n",
    "gbt = GradientBoostingClassifier()\n",
    "\n",
    "#instantite grid search\n",
    "gbt_cv = GridSearchCV(gbt, param_grid, cv=5, n_jobs=-1, scoring='roc_auc', verbose=10)\n",
    "#fit to training data\n",
    "gbt_cv.fit(X_train, y_train)"
   ]
  },
  {
   "cell_type": "code",
   "execution_count": 5,
   "metadata": {},
   "outputs": [
    {
     "name": "stdout",
     "output_type": "stream",
     "text": [
      "{'learning_rate': 0.1, 'loss': 'deviance', 'max_features': None, 'min_samples_leaf': 32, 'min_samples_split': 4, 'n_estimators': 300, 'subsample': 0.1}\n",
      "0.7881997012865567\n"
     ]
    }
   ],
   "source": [
    "#see best combo\n",
    "print(gbt_cv.best_params_ )\n",
    "\n",
    "print(gbt_cv.best_score_)"
   ]
  },
  {
   "cell_type": "code",
   "execution_count": 6,
   "metadata": {},
   "outputs": [
    {
     "name": "stdout",
     "output_type": "stream",
     "text": [
      "              precision    recall  f1-score   support\n",
      "\n",
      "           0       0.74      0.28      0.41      3767\n",
      "           1       0.85      0.98      0.91     16233\n",
      "\n",
      "   micro avg       0.85      0.85      0.85     20000\n",
      "   macro avg       0.80      0.63      0.66     20000\n",
      "weighted avg       0.83      0.85      0.82     20000\n",
      "\n",
      "--------------------------------------------------\n",
      "Normalized confusion matrix\n"
     ]
    },
    {
     "name": "stderr",
     "output_type": "stream",
     "text": [
      "/Users/nadimkawwa/anaconda3/lib/python3.7/site-packages/matplotlib/figure.py:445: UserWarning: Matplotlib is currently using module://ipykernel.pylab.backend_inline, which is a non-GUI backend, so cannot show the figure.\n",
      "  % get_backend())\n"
     ]
    },
    {
     "data": {
      "image/png": "[encoded data removed]",
      "text/plain": [
       "<Figure size 432x288 with 2 Axes>"
      ]
     },
     "metadata": {
      "needs_background": "light"
     },
     "output_type": "display_data"
    },
    {
     "name": "stdout",
     "output_type": "stream",
     "text": [
      "--------------------------------------------------\n"
     ]
    },
    {
     "data": {
      "image/png": "[encoded data removed]",
      "text/plain": [
       "<Figure size 432x288 with 1 Axes>"
      ]
     },
     "metadata": {
      "needs_background": "light"
     },
     "output_type": "display_data"
    },
    {
     "name": "stdout",
     "output_type": "stream",
     "text": [
      "Area Under Curve = 0.6307\n",
      "--------------------------------------------------\n"
     ]
    },
    {
     "data": {
      "image/png": "[encoded data removed]",
      "text/plain": [
       "<Figure size 432x288 with 1 Axes>"
      ]
     },
     "metadata": {
      "needs_background": "light"
     },
     "output_type": "display_data"
    }
   ],
   "source": [
    "#make pred\n",
    "y_pred = gbt_cv.predict(X_test)\n",
    "\n",
    "print(classification_report(y_test, y_pred))\n",
    "print(50*'-')\n",
    "plot_help.plot_confusion_matrix(y_test, y_pred, ['closed', 'open'], normalize=True,\n",
    "                                title='GB Tree GridCV')\n",
    "print(50*'-')\n",
    "plot_help.plot_roc_curve(y_test, y_pred, 'GB Tree GridCV')\n",
    "print(50*'-')\n",
    "plot_help.plot_prc_curve(y_test, gbt_cv.predict_proba(X_test)[:, 1], 'GB Tree GridCV')"
   ]
  }
 ],
 "metadata": {
  "kernelspec": {
   "display_name": "Python 3",
   "language": "python",
   "name": "python3"
  },
  "language_info": {
   "codemirror_mode": {
    "name": "ipython",
    "version": 3
   },
   "file_extension": ".py",
   "mimetype": "text/x-python",
   "name": "python",
   "nbconvert_exporter": "python",
   "pygments_lexer": "ipython3",
   "version": "3.7.3"
  }
 },
 "nbformat": 4,
 "nbformat_minor": 2
}
