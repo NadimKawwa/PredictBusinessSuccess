{
 "cells": [
  {
   "cell_type": "markdown",
   "metadata": {},
   "source": [
    "# Adressing Imbalanced Datasets"
   ]
  },
  {
   "cell_type": "markdown",
   "metadata": {},
   "source": [
    "In the eary stages of EDA we identified an uneven distribution of the values in the binary target column. This means that our algorithms might be underperforming for two reasons:\n",
    "- Not enough information from minority class to train properly\n",
    "- Too much information from majority class, overwhelms the algorithm output\n",
    "\n",
    "In both cases there is an underrepresentation of the minority class. For this notebook we develop functions that will be added to the `utils.py` file.\n",
    "\n",
    "In order to avoid data leakage, the sampling techniques may only be applied on the training data. If we sample the testing data, it counts as data leakage since in real business settings the data will be heavily imbalanced."
   ]
  },
  {
   "cell_type": "code",
   "execution_count": 1,
   "metadata": {},
   "outputs": [],
   "source": [
    "import pandas as pd\n",
    "import numpy as np\n",
    "import utils, plot_help\n",
    "import matplotlib.pyplot as plt\n",
    "\n",
    "#avoid warning popping up\n",
    "from pandas.plotting import register_matplotlib_converters\n",
    "register_matplotlib_converters()\n",
    "\n",
    "%matplotlib inline"
   ]
  },
  {
   "cell_type": "code",
   "execution_count": 2,
   "metadata": {},
   "outputs": [],
   "source": [
    "def make_num_df (df, drop_cols=['latitude', 'longitude', 'postal_code']):\n",
    "    \"\"\"\n",
    "    Drops columns and returns numerical entries from pandas dataframe\n",
    "    df(pandas): dataframe\n",
    "    drop_cols(list): array of columns to drop, deemed noisy and/or of little use\n",
    "    \"\"\"\n",
    "    \n",
    "    df_drop = df.drop(columns=drop_cols)\n",
    "    \n",
    "    #make dataframe of numeric types\n",
    "    df_num = df_drop.select_dtypes(include=[np.float64, np.int64]).copy()\n",
    "    \n",
    "    return df_num"
   ]
  },
  {
   "cell_type": "code",
   "execution_count": 3,
   "metadata": {},
   "outputs": [
    {
     "data": {
      "text/html": [
       "<div>\n",
       "<style scoped>\n",
       "    .dataframe tbody tr th:only-of-type {\n",
       "        vertical-align: middle;\n",
       "    }\n",
       "\n",
       "    .dataframe tbody tr th {\n",
       "        vertical-align: top;\n",
       "    }\n",
       "\n",
       "    .dataframe thead th {\n",
       "        text-align: right;\n",
       "    }\n",
       "</style>\n",
       "<table border=\"1\" class=\"dataframe\">\n",
       "  <thead>\n",
       "    <tr style=\"text-align: right;\">\n",
       "      <th></th>\n",
       "      <th>review_count</th>\n",
       "      <th>stars</th>\n",
       "      <th>road_type</th>\n",
       "      <th>GoodForKids</th>\n",
       "      <th>RestaurantsReservations</th>\n",
       "      <th>Caters</th>\n",
       "      <th>RestaurantsTableService</th>\n",
       "      <th>RestaurantsTakeOut</th>\n",
       "      <th>RestaurantsPriceRange2</th>\n",
       "      <th>OutdoorSeating</th>\n",
       "      <th>...</th>\n",
       "      <th>Health</th>\n",
       "      <th>Hair</th>\n",
       "      <th>cool_change</th>\n",
       "      <th>funny_change</th>\n",
       "      <th>stars_change</th>\n",
       "      <th>useful</th>\n",
       "      <th>avg_month_checkin</th>\n",
       "      <th>span_checkin</th>\n",
       "      <th>median_income</th>\n",
       "      <th>is_open</th>\n",
       "    </tr>\n",
       "  </thead>\n",
       "  <tbody>\n",
       "    <tr>\n",
       "      <th>0</th>\n",
       "      <td>5</td>\n",
       "      <td>3.0</td>\n",
       "      <td>1.0</td>\n",
       "      <td>0</td>\n",
       "      <td>0</td>\n",
       "      <td>0</td>\n",
       "      <td>0</td>\n",
       "      <td>0</td>\n",
       "      <td>0</td>\n",
       "      <td>0</td>\n",
       "      <td>...</td>\n",
       "      <td>0</td>\n",
       "      <td>0</td>\n",
       "      <td>0.000000</td>\n",
       "      <td>0.00000</td>\n",
       "      <td>0.000000</td>\n",
       "      <td>0.000000</td>\n",
       "      <td>1.777778</td>\n",
       "      <td>5323</td>\n",
       "      <td>3.5</td>\n",
       "      <td>0</td>\n",
       "    </tr>\n",
       "    <tr>\n",
       "      <th>1</th>\n",
       "      <td>128</td>\n",
       "      <td>2.5</td>\n",
       "      <td>8.0</td>\n",
       "      <td>1</td>\n",
       "      <td>1</td>\n",
       "      <td>1</td>\n",
       "      <td>1</td>\n",
       "      <td>1</td>\n",
       "      <td>2</td>\n",
       "      <td>0</td>\n",
       "      <td>...</td>\n",
       "      <td>0</td>\n",
       "      <td>0</td>\n",
       "      <td>-0.042484</td>\n",
       "      <td>-0.04902</td>\n",
       "      <td>-0.075163</td>\n",
       "      <td>-0.156863</td>\n",
       "      <td>36.083333</td>\n",
       "      <td>15143</td>\n",
       "      <td>3.0</td>\n",
       "      <td>1</td>\n",
       "    </tr>\n",
       "    <tr>\n",
       "      <th>2</th>\n",
       "      <td>170</td>\n",
       "      <td>4.0</td>\n",
       "      <td>6.0</td>\n",
       "      <td>1</td>\n",
       "      <td>1</td>\n",
       "      <td>0</td>\n",
       "      <td>1</td>\n",
       "      <td>1</td>\n",
       "      <td>2</td>\n",
       "      <td>0</td>\n",
       "      <td>...</td>\n",
       "      <td>0</td>\n",
       "      <td>0</td>\n",
       "      <td>-0.110000</td>\n",
       "      <td>-0.19000</td>\n",
       "      <td>0.055000</td>\n",
       "      <td>-0.215000</td>\n",
       "      <td>57.083333</td>\n",
       "      <td>58518</td>\n",
       "      <td>3.5</td>\n",
       "      <td>1</td>\n",
       "    </tr>\n",
       "    <tr>\n",
       "      <th>3</th>\n",
       "      <td>3</td>\n",
       "      <td>5.0</td>\n",
       "      <td>1.0</td>\n",
       "      <td>0</td>\n",
       "      <td>0</td>\n",
       "      <td>0</td>\n",
       "      <td>0</td>\n",
       "      <td>0</td>\n",
       "      <td>0</td>\n",
       "      <td>0</td>\n",
       "      <td>...</td>\n",
       "      <td>0</td>\n",
       "      <td>0</td>\n",
       "      <td>0.000000</td>\n",
       "      <td>0.00000</td>\n",
       "      <td>0.000000</td>\n",
       "      <td>-0.500000</td>\n",
       "      <td>1.222222</td>\n",
       "      <td>8464</td>\n",
       "      <td>3.5</td>\n",
       "      <td>1</td>\n",
       "    </tr>\n",
       "    <tr>\n",
       "      <th>4</th>\n",
       "      <td>3</td>\n",
       "      <td>2.5</td>\n",
       "      <td>6.0</td>\n",
       "      <td>0</td>\n",
       "      <td>0</td>\n",
       "      <td>0</td>\n",
       "      <td>0</td>\n",
       "      <td>0</td>\n",
       "      <td>2</td>\n",
       "      <td>0</td>\n",
       "      <td>...</td>\n",
       "      <td>0</td>\n",
       "      <td>0</td>\n",
       "      <td>0.000000</td>\n",
       "      <td>0.00000</td>\n",
       "      <td>0.000000</td>\n",
       "      <td>0.000000</td>\n",
       "      <td>1.000000</td>\n",
       "      <td>2971</td>\n",
       "      <td>3.0</td>\n",
       "      <td>1</td>\n",
       "    </tr>\n",
       "  </tbody>\n",
       "</table>\n",
       "<p>5 rows × 102 columns</p>\n",
       "</div>"
      ],
      "text/plain": [
       "   review_count  stars  road_type  GoodForKids  RestaurantsReservations  \\\n",
       "0             5    3.0        1.0            0                        0   \n",
       "1           128    2.5        8.0            1                        1   \n",
       "2           170    4.0        6.0            1                        1   \n",
       "3             3    5.0        1.0            0                        0   \n",
       "4             3    2.5        6.0            0                        0   \n",
       "\n",
       "   Caters  RestaurantsTableService  RestaurantsTakeOut  \\\n",
       "0       0                        0                   0   \n",
       "1       1                        1                   1   \n",
       "2       0                        1                   1   \n",
       "3       0                        0                   0   \n",
       "4       0                        0                   0   \n",
       "\n",
       "   RestaurantsPriceRange2  OutdoorSeating   ...     Health  Hair  cool_change  \\\n",
       "0                       0               0   ...          0     0     0.000000   \n",
       "1                       2               0   ...          0     0    -0.042484   \n",
       "2                       2               0   ...          0     0    -0.110000   \n",
       "3                       0               0   ...          0     0     0.000000   \n",
       "4                       2               0   ...          0     0     0.000000   \n",
       "\n",
       "   funny_change  stars_change    useful  avg_month_checkin  span_checkin  \\\n",
       "0       0.00000      0.000000  0.000000           1.777778          5323   \n",
       "1      -0.04902     -0.075163 -0.156863          36.083333         15143   \n",
       "2      -0.19000      0.055000 -0.215000          57.083333         58518   \n",
       "3       0.00000      0.000000 -0.500000           1.222222          8464   \n",
       "4       0.00000      0.000000  0.000000           1.000000          2971   \n",
       "\n",
       "   median_income  is_open  \n",
       "0            3.5        0  \n",
       "1            3.0        1  \n",
       "2            3.5        1  \n",
       "3            3.5        1  \n",
       "4            3.0        1  \n",
       "\n",
       "[5 rows x 102 columns]"
      ]
     },
     "execution_count": 3,
     "metadata": {},
     "output_type": "execute_result"
    }
   ],
   "source": [
    "#change read limit to -1 to load entire dataframe\n",
    "df_bus = utils.chunk_loader('data/cleaned/business_merge_feats.csv', read_limit=-1)\n",
    "\n",
    "df_num = make_num_df(df_bus)\n",
    "\n",
    "df_num.head()"
   ]
  },
  {
   "cell_type": "code",
   "execution_count": 4,
   "metadata": {},
   "outputs": [
    {
     "data": {
      "text/plain": [
       "(161160, 102)"
      ]
     },
     "execution_count": 4,
     "metadata": {},
     "output_type": "execute_result"
    }
   ],
   "source": [
    "df_num.shape"
   ]
  },
  {
   "cell_type": "markdown",
   "metadata": {},
   "source": [
    "# Identify Minority Class"
   ]
  },
  {
   "cell_type": "code",
   "execution_count": 5,
   "metadata": {},
   "outputs": [],
   "source": [
    "#split data\n",
    "X_train, X_test, y_train, y_test = utils.train_test_scale (df_num, \n",
    "                                                           'is_open', \n",
    "                                                           random_state=None)"
   ]
  },
  {
   "cell_type": "code",
   "execution_count": 6,
   "metadata": {},
   "outputs": [],
   "source": [
    "def binary_get_minority(y):\n",
    "    \"\"\"\n",
    "    Identify the minority and majority class in a 1-dimensional array\n",
    "    y(array): array containing target\n",
    "    \n",
    "    \"\"\"\n",
    "    #return the sorted unique elements of an array\n",
    "    unique, counts = np.unique(y, return_counts=True)\n",
    "    \n",
    "    #check target is binary and 1-D\n",
    "    if (len(unique) != 2) or (np.ndim(y)!= 1):\n",
    "        print(\"Target must be binary and 1-dimensional... Returning None\")\n",
    "        return None\n",
    "    \n",
    "    if counts[0]<counts[1]:\n",
    "        minority, majority = unique[0], unique[1]\n",
    "    elif counts[0]==counts[1]:\n",
    "        print(\"array is balanced... Returning classes as is\")\n",
    "        return unique[0], unique[1]\n",
    "    else:\n",
    "        minority, majority = unique[1], unique[0]\n",
    "        \n",
    "    return minority, majority"
   ]
  },
  {
   "cell_type": "code",
   "execution_count": 7,
   "metadata": {},
   "outputs": [
    {
     "name": "stdout",
     "output_type": "stream",
     "text": [
      "Minority class: 0\n",
      "Majority class: 1\n"
     ]
    }
   ],
   "source": [
    "#assign minority class\n",
    "minority, majority = binary_get_minority(y_train)\n",
    "print(\"Minority class: {}\\nMajority class: {}\".format(minority, majority))"
   ]
  },
  {
   "cell_type": "markdown",
   "metadata": {},
   "source": [
    "# Undersample"
   ]
  },
  {
   "cell_type": "code",
   "execution_count": 8,
   "metadata": {},
   "outputs": [],
   "source": [
    "def split_major_minor(X, y):\n",
    "    \"\"\"\n",
    "    Split feature and target arrays into majority and minority\n",
    "    X(numpy): feature space\n",
    "    y(numpy): targets\n",
    "    \"\"\"\n",
    "    \n",
    "    #identify minorit and majority\n",
    "    minority, majority = binary_get_minority(y)\n",
    "    \n",
    "    #get indeces of minority\n",
    "    minority_index = np.where(y==minority)\n",
    "    #indeces of majority\n",
    "    majority_index = np.where(y==majority)\n",
    "\n",
    "    #get minority and majority features and targets\n",
    "    y_minority, y_majority = y[minority_index].copy(), y[majority_index].copy()\n",
    "\n",
    "    X_minority, X_majority = X[minority_index].copy(), X[majority_index].copy()\n",
    "    \n",
    "    return X_minority, X_majority, y_minority, y_majority\n"
   ]
  },
  {
   "cell_type": "code",
   "execution_count": 9,
   "metadata": {},
   "outputs": [],
   "source": [
    "def parallel_permute(X, y):\n",
    "    \"\"\"\n",
    "    Permute two arrays X and y in unision along first dimension\n",
    "    X(array): n-dimensional array\n",
    "    y(array): n-dimensional array\n",
    "    \"\"\"\n",
    "    #check lengths are same\n",
    "    assert len(X)== len(y)\n",
    "    \n",
    "    #create permuted index\n",
    "    perm = np.random.permutation(len(y))\n",
    "\n",
    "    #return permuted array to maintain randomness\n",
    "    X_perm = X[perm]\n",
    "    y_perm = y[perm]\n",
    "    \n",
    "    return X_perm, y_perm"
   ]
  },
  {
   "cell_type": "code",
   "execution_count": 10,
   "metadata": {},
   "outputs": [],
   "source": [
    "#apply the split\n",
    "X_minority, X_majority, y_minority, y_majority = split_major_minor(X_train, y_train)"
   ]
  },
  {
   "cell_type": "code",
   "execution_count": 11,
   "metadata": {},
   "outputs": [],
   "source": [
    "def undersample(X, y):\n",
    "    \"\"\"\n",
    "    Return balanced features and targets by undersampling\n",
    "    X(numpy): feature array\n",
    "    y(numpy): targets array\n",
    "    \"\"\"\n",
    "    X_minority, X_majority, y_minority, y_majority = split_major_minor(X, y)\n",
    "    \n",
    "    #draw random indeces from majority and limit by number of entries in minority\n",
    "    rand_idx = np.random.choice(len(y_majority), \n",
    "                                len(y_minority))\n",
    "\n",
    "    #apply undersampling\n",
    "    X_majority_under = X_majority[rand_idx]\n",
    "    y_majority_under = y_majority[rand_idx]\n",
    "\n",
    "    #check lengths\n",
    "    assert len(X_majority_under) == len(X_minority)\n",
    "    assert len(y_majority_under) == len(y_minority)\n",
    "\n",
    "\n",
    "    #vertically stack\n",
    "    X_under = np.concatenate((X_majority_under, X_minority), axis=0)\n",
    "    y_under = np.concatenate((y_majority_under, y_minority), axis=0)\n",
    "\n",
    "    X_under, y_under = parallel_permute(X_under, y_under)\n",
    "    \n",
    "    return X_under, y_under"
   ]
  },
  {
   "cell_type": "code",
   "execution_count": 12,
   "metadata": {},
   "outputs": [],
   "source": [
    "#apply undersampling\n",
    "X_under, y_under = undersample(X_train, y_train)"
   ]
  },
  {
   "cell_type": "code",
   "execution_count": 13,
   "metadata": {},
   "outputs": [],
   "source": [
    "#get major and minor\n",
    "X_minority, X_majority, y_minority, y_majority = split_major_minor(X_train, y_train)"
   ]
  },
  {
   "cell_type": "code",
   "execution_count": 14,
   "metadata": {},
   "outputs": [],
   "source": [
    "#check balances\n",
    "assert len (X_under) == 2* len(X_minority)\n",
    "assert np.mean(y_under) == 0.5"
   ]
  },
  {
   "cell_type": "markdown",
   "metadata": {},
   "source": [
    "# Oversample"
   ]
  },
  {
   "cell_type": "code",
   "execution_count": 15,
   "metadata": {},
   "outputs": [],
   "source": [
    "n_copy = len(X_majority) / len(X_minority)\n",
    "n_copy_int = int(n_copy)\n",
    "n_copy_frac = n_copy % 1"
   ]
  },
  {
   "cell_type": "code",
   "execution_count": 16,
   "metadata": {},
   "outputs": [
    {
     "data": {
      "text/plain": [
       "4"
      ]
     },
     "execution_count": 16,
     "metadata": {},
     "output_type": "execute_result"
    }
   ],
   "source": [
    "n_copy_int"
   ]
  },
  {
   "cell_type": "code",
   "execution_count": 17,
   "metadata": {},
   "outputs": [
    {
     "data": {
      "text/plain": [
       "0.307863318237958"
      ]
     },
     "execution_count": 17,
     "metadata": {},
     "output_type": "execute_result"
    }
   ],
   "source": [
    "n_copy_frac"
   ]
  },
  {
   "cell_type": "code",
   "execution_count": 18,
   "metadata": {},
   "outputs": [
    {
     "data": {
      "text/plain": [
       "4.0"
      ]
     },
     "execution_count": 18,
     "metadata": {},
     "output_type": "execute_result"
    }
   ],
   "source": [
    "X_oversample = np.repeat(X_minority, n_copy_int, axis=0)\n",
    "len(X_oversample)/ len(X_minority)"
   ]
  },
  {
   "cell_type": "code",
   "execution_count": 19,
   "metadata": {},
   "outputs": [
    {
     "data": {
      "text/plain": [
       "(97160, 101)"
      ]
     },
     "execution_count": 19,
     "metadata": {},
     "output_type": "execute_result"
    }
   ],
   "source": [
    "np.shape(X_oversample)"
   ]
  },
  {
   "cell_type": "code",
   "execution_count": 20,
   "metadata": {},
   "outputs": [
    {
     "data": {
      "text/plain": [
       "(24290, 101)"
      ]
     },
     "execution_count": 20,
     "metadata": {},
     "output_type": "execute_result"
    }
   ],
   "source": [
    "np.shape(X_minority)"
   ]
  },
  {
   "cell_type": "code",
   "execution_count": 21,
   "metadata": {},
   "outputs": [],
   "source": [
    "rand_idx = np.random.choice(len(y_minority), int(n_copy_frac*len(y_minority)))"
   ]
  },
  {
   "cell_type": "code",
   "execution_count": 22,
   "metadata": {},
   "outputs": [
    {
     "data": {
      "text/plain": [
       "array([ 1493,  2538,   860, ...,  5953,  5463, 20429])"
      ]
     },
     "execution_count": 22,
     "metadata": {},
     "output_type": "execute_result"
    }
   ],
   "source": [
    "rand_idx"
   ]
  },
  {
   "cell_type": "code",
   "execution_count": 28,
   "metadata": {},
   "outputs": [],
   "source": [
    "def oversample(X, y):\n",
    "    #get major and minor\n",
    "    X_minority, X_majority, y_minority, y_majority = split_major_minor(X, y)\n",
    "    \n",
    "    #get sizing different\n",
    "    n_copy = len(X_majority) / len(X_minority)\n",
    "    #get integer portion\n",
    "    n_copy_int = int(n_copy)\n",
    "    #get fraction portion\n",
    "    n_copy_frac = n_copy % 1\n",
    "    \n",
    "    #replicate minority by integer portion\n",
    "    X_minority_over = np.repeat(X_minority, n_copy_int, axis=0)\n",
    "    y_minority_over = np.repeat(y_minority, n_copy_int, axis=0)\n",
    "\n",
    "    #replicate minority by fraction\n",
    "    rand_idx = np.random.choice(len(y_minority), int(n_copy_frac*len(y_majority)))\n",
    "    X_over_frac = X_minority[rand_idx]\n",
    "    y_over_frac = y_under[rand_idx]\n",
    "    \n",
    "    #concatenate to create oversampled minority\n",
    "    X_minority_over = np.concatenate((X_minority_over, X_over_frac), axis=0)\n",
    "    y_minority_over = np.concatenate((y_minority_over, y_over_frac), axis=0)\n",
    "    \n",
    "    #concatenate with majority class\n",
    "    X_over = np.concatenate((X_minority_over, X_majority), axis=0)\n",
    "    y_over = np.concatenate((y_minority_over, y_majority), axis=0)\n",
    "    \n",
    "    #shuffle\n",
    "    X_over, y_over = parallel_permute(X_over, y_over)\n",
    "    \n",
    "    return X_over, y_over"
   ]
  },
  {
   "cell_type": "code",
   "execution_count": 29,
   "metadata": {},
   "outputs": [],
   "source": [
    "X_over, y_over = oversample(X_train, y_train)"
   ]
  },
  {
   "cell_type": "code",
   "execution_count": 30,
   "metadata": {},
   "outputs": [
    {
     "data": {
      "text/plain": [
       "0.515747055706545"
      ]
     },
     "execution_count": 30,
     "metadata": {},
     "output_type": "execute_result"
    }
   ],
   "source": [
    "np.mean(y_over)"
   ]
  },
  {
   "cell_type": "code",
   "execution_count": 31,
   "metadata": {},
   "outputs": [
    {
     "data": {
      "text/plain": [
       "(128928, 101)"
      ]
     },
     "execution_count": 31,
     "metadata": {},
     "output_type": "execute_result"
    }
   ],
   "source": [
    "np.shape(X_train)"
   ]
  },
  {
   "cell_type": "code",
   "execution_count": 32,
   "metadata": {},
   "outputs": [
    {
     "data": {
      "text/plain": [
       "(234012, 101)"
      ]
     },
     "execution_count": 32,
     "metadata": {},
     "output_type": "execute_result"
    }
   ],
   "source": [
    "np.shape(X_over)"
   ]
  },
  {
   "cell_type": "code",
   "execution_count": null,
   "metadata": {},
   "outputs": [],
   "source": []
  }
 ],
 "metadata": {
  "kernelspec": {
   "display_name": "Python 3",
   "language": "python",
   "name": "python3"
  },
  "language_info": {
   "codemirror_mode": {
    "name": "ipython",
    "version": 3
   },
   "file_extension": ".py",
   "mimetype": "text/x-python",
   "name": "python",
   "nbconvert_exporter": "python",
   "pygments_lexer": "ipython3",
   "version": "3.7.3"
  }
 },
 "nbformat": 4,
 "nbformat_minor": 2
}
