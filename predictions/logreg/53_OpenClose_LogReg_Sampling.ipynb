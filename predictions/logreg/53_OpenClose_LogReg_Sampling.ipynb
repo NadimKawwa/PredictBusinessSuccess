{
 "cells": [
  {
   "cell_type": "markdown",
   "metadata": {},
   "source": [
    "# Logistic Regression Grid Search"
   ]
  },
  {
   "cell_type": "code",
   "execution_count": 1,
   "metadata": {},
   "outputs": [],
   "source": [
    "import pandas as pd\n",
    "import numpy as np\n",
    "import matplotlib.pyplot as plt\n",
    "import utils, plot_help\n",
    "\n",
    "\n",
    "from sklearn.preprocessing import MinMaxScaler\n",
    "from sklearn.model_selection import GridSearchCV, train_test_split\n",
    "from sklearn.linear_model import LogisticRegression\n",
    "from sklearn.metrics import classification_report, confusion_matrix, \\\n",
    "                            roc_curve, roc_auc_score, precision_recall_curve\n",
    "\n",
    "from joblib import dump, load\n",
    "\n",
    "%matplotlib inline"
   ]
  },
  {
   "cell_type": "code",
   "execution_count": 2,
   "metadata": {},
   "outputs": [
    {
     "data": {
      "text/html": [
       "<div>\n",
       "<style scoped>\n",
       "    .dataframe tbody tr th:only-of-type {\n",
       "        vertical-align: middle;\n",
       "    }\n",
       "\n",
       "    .dataframe tbody tr th {\n",
       "        vertical-align: top;\n",
       "    }\n",
       "\n",
       "    .dataframe thead th {\n",
       "        text-align: right;\n",
       "    }\n",
       "</style>\n",
       "<table border=\"1\" class=\"dataframe\">\n",
       "  <thead>\n",
       "    <tr style=\"text-align: right;\">\n",
       "      <th></th>\n",
       "      <th>review_count</th>\n",
       "      <th>stars</th>\n",
       "      <th>road_type</th>\n",
       "      <th>GoodForKids</th>\n",
       "      <th>RestaurantsReservations</th>\n",
       "      <th>Caters</th>\n",
       "      <th>RestaurantsTableService</th>\n",
       "      <th>RestaurantsTakeOut</th>\n",
       "      <th>RestaurantsPriceRange2</th>\n",
       "      <th>OutdoorSeating</th>\n",
       "      <th>...</th>\n",
       "      <th>Health</th>\n",
       "      <th>Hair</th>\n",
       "      <th>cool_change</th>\n",
       "      <th>funny_change</th>\n",
       "      <th>stars_change</th>\n",
       "      <th>useful</th>\n",
       "      <th>avg_month_checkin</th>\n",
       "      <th>span_checkin</th>\n",
       "      <th>median_income</th>\n",
       "      <th>is_open</th>\n",
       "    </tr>\n",
       "  </thead>\n",
       "  <tbody>\n",
       "    <tr>\n",
       "      <th>0</th>\n",
       "      <td>5</td>\n",
       "      <td>3.0</td>\n",
       "      <td>1.0</td>\n",
       "      <td>0</td>\n",
       "      <td>0</td>\n",
       "      <td>0</td>\n",
       "      <td>0</td>\n",
       "      <td>0</td>\n",
       "      <td>0</td>\n",
       "      <td>0</td>\n",
       "      <td>...</td>\n",
       "      <td>0</td>\n",
       "      <td>0</td>\n",
       "      <td>0.000000</td>\n",
       "      <td>0.00000</td>\n",
       "      <td>0.000000</td>\n",
       "      <td>0.000000</td>\n",
       "      <td>1.777778</td>\n",
       "      <td>5323</td>\n",
       "      <td>3.5</td>\n",
       "      <td>0</td>\n",
       "    </tr>\n",
       "    <tr>\n",
       "      <th>1</th>\n",
       "      <td>128</td>\n",
       "      <td>2.5</td>\n",
       "      <td>8.0</td>\n",
       "      <td>1</td>\n",
       "      <td>1</td>\n",
       "      <td>1</td>\n",
       "      <td>1</td>\n",
       "      <td>1</td>\n",
       "      <td>2</td>\n",
       "      <td>0</td>\n",
       "      <td>...</td>\n",
       "      <td>0</td>\n",
       "      <td>0</td>\n",
       "      <td>-0.042484</td>\n",
       "      <td>-0.04902</td>\n",
       "      <td>-0.075163</td>\n",
       "      <td>-0.156863</td>\n",
       "      <td>36.083333</td>\n",
       "      <td>15143</td>\n",
       "      <td>3.0</td>\n",
       "      <td>1</td>\n",
       "    </tr>\n",
       "    <tr>\n",
       "      <th>2</th>\n",
       "      <td>170</td>\n",
       "      <td>4.0</td>\n",
       "      <td>6.0</td>\n",
       "      <td>1</td>\n",
       "      <td>1</td>\n",
       "      <td>0</td>\n",
       "      <td>1</td>\n",
       "      <td>1</td>\n",
       "      <td>2</td>\n",
       "      <td>0</td>\n",
       "      <td>...</td>\n",
       "      <td>0</td>\n",
       "      <td>0</td>\n",
       "      <td>-0.110000</td>\n",
       "      <td>-0.19000</td>\n",
       "      <td>0.055000</td>\n",
       "      <td>-0.215000</td>\n",
       "      <td>57.083333</td>\n",
       "      <td>58518</td>\n",
       "      <td>3.5</td>\n",
       "      <td>1</td>\n",
       "    </tr>\n",
       "    <tr>\n",
       "      <th>3</th>\n",
       "      <td>3</td>\n",
       "      <td>5.0</td>\n",
       "      <td>1.0</td>\n",
       "      <td>0</td>\n",
       "      <td>0</td>\n",
       "      <td>0</td>\n",
       "      <td>0</td>\n",
       "      <td>0</td>\n",
       "      <td>0</td>\n",
       "      <td>0</td>\n",
       "      <td>...</td>\n",
       "      <td>0</td>\n",
       "      <td>0</td>\n",
       "      <td>0.000000</td>\n",
       "      <td>0.00000</td>\n",
       "      <td>0.000000</td>\n",
       "      <td>-0.500000</td>\n",
       "      <td>1.222222</td>\n",
       "      <td>8464</td>\n",
       "      <td>3.5</td>\n",
       "      <td>1</td>\n",
       "    </tr>\n",
       "    <tr>\n",
       "      <th>4</th>\n",
       "      <td>3</td>\n",
       "      <td>2.5</td>\n",
       "      <td>6.0</td>\n",
       "      <td>0</td>\n",
       "      <td>0</td>\n",
       "      <td>0</td>\n",
       "      <td>0</td>\n",
       "      <td>0</td>\n",
       "      <td>2</td>\n",
       "      <td>0</td>\n",
       "      <td>...</td>\n",
       "      <td>0</td>\n",
       "      <td>0</td>\n",
       "      <td>0.000000</td>\n",
       "      <td>0.00000</td>\n",
       "      <td>0.000000</td>\n",
       "      <td>0.000000</td>\n",
       "      <td>1.000000</td>\n",
       "      <td>2971</td>\n",
       "      <td>3.0</td>\n",
       "      <td>1</td>\n",
       "    </tr>\n",
       "  </tbody>\n",
       "</table>\n",
       "<p>5 rows × 102 columns</p>\n",
       "</div>"
      ],
      "text/plain": [
       "   review_count  stars  road_type  GoodForKids  RestaurantsReservations  \\\n",
       "0             5    3.0        1.0            0                        0   \n",
       "1           128    2.5        8.0            1                        1   \n",
       "2           170    4.0        6.0            1                        1   \n",
       "3             3    5.0        1.0            0                        0   \n",
       "4             3    2.5        6.0            0                        0   \n",
       "\n",
       "   Caters  RestaurantsTableService  RestaurantsTakeOut  \\\n",
       "0       0                        0                   0   \n",
       "1       1                        1                   1   \n",
       "2       0                        1                   1   \n",
       "3       0                        0                   0   \n",
       "4       0                        0                   0   \n",
       "\n",
       "   RestaurantsPriceRange2  OutdoorSeating   ...     Health  Hair  cool_change  \\\n",
       "0                       0               0   ...          0     0     0.000000   \n",
       "1                       2               0   ...          0     0    -0.042484   \n",
       "2                       2               0   ...          0     0    -0.110000   \n",
       "3                       0               0   ...          0     0     0.000000   \n",
       "4                       2               0   ...          0     0     0.000000   \n",
       "\n",
       "   funny_change  stars_change    useful  avg_month_checkin  span_checkin  \\\n",
       "0       0.00000      0.000000  0.000000           1.777778          5323   \n",
       "1      -0.04902     -0.075163 -0.156863          36.083333         15143   \n",
       "2      -0.19000      0.055000 -0.215000          57.083333         58518   \n",
       "3       0.00000      0.000000 -0.500000           1.222222          8464   \n",
       "4       0.00000      0.000000  0.000000           1.000000          2971   \n",
       "\n",
       "   median_income  is_open  \n",
       "0            3.5        0  \n",
       "1            3.0        1  \n",
       "2            3.5        1  \n",
       "3            3.5        1  \n",
       "4            3.0        1  \n",
       "\n",
       "[5 rows x 102 columns]"
      ]
     },
     "execution_count": 2,
     "metadata": {},
     "output_type": "execute_result"
    }
   ],
   "source": [
    "#change read limit to -1 to load entire dataframe\n",
    "df_bus = utils.chunk_loader('data/cleaned/business_merge_feats.csv', read_limit=-1)\n",
    "\n",
    "df_num = utils.make_num_df(df_bus)\n",
    "\n",
    "df_num.head()"
   ]
  },
  {
   "cell_type": "code",
   "execution_count": 3,
   "metadata": {},
   "outputs": [
    {
     "data": {
      "text/plain": [
       "(161160, 102)"
      ]
     },
     "execution_count": 3,
     "metadata": {},
     "output_type": "execute_result"
    }
   ],
   "source": [
    "df_num.shape"
   ]
  },
  {
   "cell_type": "code",
   "execution_count": 4,
   "metadata": {},
   "outputs": [],
   "source": [
    "X_train, X_test, y_train, y_test = utils.train_test_scale (df_num, \n",
    "                                                           'is_open', \n",
    "                                                           random_state=None)"
   ]
  },
  {
   "cell_type": "markdown",
   "metadata": {},
   "source": [
    "## Logistic Regression Params Obtained from GridSearch"
   ]
  },
  {
   "cell_type": "code",
   "execution_count": 5,
   "metadata": {},
   "outputs": [
    {
     "name": "stdout",
     "output_type": "stream",
     "text": [
      "{'C': 100, 'class_weight': 'balanced', 'penalty': 'l1', 'solver': 'liblinear'}\n"
     ]
    }
   ],
   "source": [
    "best_params = {'C': 100, 'class_weight': 'balanced', 'penalty': 'l1', 'solver': 'liblinear'}\n",
    "\n",
    "print(best_params)"
   ]
  },
  {
   "cell_type": "markdown",
   "metadata": {},
   "source": [
    "## Undersampling"
   ]
  },
  {
   "cell_type": "code",
   "execution_count": 6,
   "metadata": {},
   "outputs": [
    {
     "data": {
      "text/plain": [
       "0.5"
      ]
     },
     "execution_count": 6,
     "metadata": {},
     "output_type": "execute_result"
    }
   ],
   "source": [
    "#apply undersampling\n",
    "X_under, y_under = utils.undersample(X_train, y_train)\n",
    "\n",
    "#check mean dist\n",
    "y_under.mean()"
   ]
  },
  {
   "cell_type": "code",
   "execution_count": 7,
   "metadata": {},
   "outputs": [
    {
     "name": "stderr",
     "output_type": "stream",
     "text": [
      "/Users/nadimkawwa/anaconda3/lib/python3.7/site-packages/sklearn/linear_model/logistic.py:1544: UserWarning: 'n_jobs' > 1 does not have any effect when 'solver' is set to 'liblinear'. Got 'n_jobs' = 4.\n",
      "  \" = {}.\".format(effective_n_jobs(self.n_jobs)))\n"
     ]
    },
    {
     "data": {
      "text/plain": [
       "LogisticRegression(C=100, class_weight='balanced', dual=False,\n",
       "                   fit_intercept=True, intercept_scaling=1, l1_ratio=None,\n",
       "                   max_iter=400, multi_class='warn', n_jobs=-1, penalty='l1',\n",
       "                   random_state=None, solver='liblinear', tol=0.0001, verbose=0,\n",
       "                   warm_start=False)"
      ]
     },
     "execution_count": 7,
     "metadata": {},
     "output_type": "execute_result"
    }
   ],
   "source": [
    "#instantiate logistic regression\n",
    "lr_under = LogisticRegression(C=100, \n",
    "                              class_weight='balanced', \n",
    "                              penalty='l1', \n",
    "                              solver='liblinear', \n",
    "                              max_iter=400, \n",
    "                              n_jobs=-1)\n",
    "\n",
    "#fit to training data\n",
    "lr_under.fit(X_under, y_under)"
   ]
  },
  {
   "cell_type": "code",
   "execution_count": 8,
   "metadata": {},
   "outputs": [
    {
     "name": "stdout",
     "output_type": "stream",
     "text": [
      "              precision    recall  f1-score   support\n",
      "\n",
      "           0       0.36      0.63      0.46      6072\n",
      "           1       0.90      0.74      0.81     26160\n",
      "\n",
      "    accuracy                           0.72     32232\n",
      "   macro avg       0.63      0.68      0.63     32232\n",
      "weighted avg       0.79      0.72      0.74     32232\n",
      "\n",
      "----------\n",
      "Normalized confusion matrix\n"
     ]
    },
    {
     "name": "stderr",
     "output_type": "stream",
     "text": [
      "/Users/nadimkawwa/anaconda3/lib/python3.7/site-packages/matplotlib/figure.py:445: UserWarning: Matplotlib is currently using module://ipykernel.pylab.backend_inline, which is a non-GUI backend, so cannot show the figure.\n",
      "  % get_backend())\n"
     ]
    },
    {
     "data": {
      "image/png": "[encoded data removed]",
      "text/plain": [
       "<Figure size 432x288 with 2 Axes>"
      ]
     },
     "metadata": {
      "needs_background": "light"
     },
     "output_type": "display_data"
    },
    {
     "name": "stdout",
     "output_type": "stream",
     "text": [
      "----------\n"
     ]
    },
    {
     "data": {
      "image/png": "[encoded data removed]",
      "text/plain": [
       "<Figure size 432x288 with 1 Axes>"
      ]
     },
     "metadata": {
      "needs_background": "light"
     },
     "output_type": "display_data"
    },
    {
     "name": "stdout",
     "output_type": "stream",
     "text": [
      "Area Under Curve = 0.6844\n",
      "----------\n"
     ]
    },
    {
     "data": {
      "image/png": "[encoded data removed]",
      "text/plain": [
       "<Figure size 432x288 with 1 Axes>"
      ]
     },
     "metadata": {
      "needs_background": "light"
     },
     "output_type": "display_data"
    }
   ],
   "source": [
    "#make pred with undersampling\n",
    "y_pred_under = lr_under.predict(X_test)\n",
    "\n",
    "print(classification_report(y_test, y_pred_under))\n",
    "print(10*'-')\n",
    "plot_help.plot_confusion_matrix(y_test, y_pred_under, ['closed', 'open'], normalize=True,\n",
    "                                title='Logistic Regression Undersampling')\n",
    "print(10*'-')\n",
    "plot_help.plot_roc_curve(y_test, y_pred_under, 'Logistic Regression Undersampling')\n",
    "print(10*'-')\n",
    "plot_help.plot_prc_curve(y_test, lr_under.predict_proba(X_test)[:, 1], 'Logistic Regression Undersampling')"
   ]
  },
  {
   "cell_type": "markdown",
   "metadata": {},
   "source": [
    "## Oversample"
   ]
  },
  {
   "cell_type": "code",
   "execution_count": 9,
   "metadata": {},
   "outputs": [
    {
     "data": {
      "text/plain": [
       "0.44714800950378614"
      ]
     },
     "execution_count": 9,
     "metadata": {},
     "output_type": "execute_result"
    }
   ],
   "source": [
    "#apply undersampling\n",
    "X_over, y_over = utils.oversample(X_train, y_train)\n",
    "\n",
    "#check mean \n",
    "y_over.mean()"
   ]
  },
  {
   "cell_type": "code",
   "execution_count": 10,
   "metadata": {},
   "outputs": [
    {
     "name": "stderr",
     "output_type": "stream",
     "text": [
      "/Users/nadimkawwa/anaconda3/lib/python3.7/site-packages/sklearn/linear_model/logistic.py:1544: UserWarning: 'n_jobs' > 1 does not have any effect when 'solver' is set to 'liblinear'. Got 'n_jobs' = 4.\n",
      "  \" = {}.\".format(effective_n_jobs(self.n_jobs)))\n"
     ]
    },
    {
     "data": {
      "text/plain": [
       "LogisticRegression(C=100, class_weight='balanced', dual=False,\n",
       "                   fit_intercept=True, intercept_scaling=1, l1_ratio=None,\n",
       "                   max_iter=400, multi_class='warn', n_jobs=-1, penalty='l1',\n",
       "                   random_state=None, solver='liblinear', tol=0.0001, verbose=0,\n",
       "                   warm_start=False)"
      ]
     },
     "execution_count": 10,
     "metadata": {},
     "output_type": "execute_result"
    }
   ],
   "source": [
    "#instantiate logistic regression\n",
    "lr_over = LogisticRegression(C=100, \n",
    "                              class_weight='balanced', \n",
    "                              penalty='l1', \n",
    "                              solver='liblinear', \n",
    "                              max_iter=400,\n",
    "                              n_jobs=-1)\n",
    "\n",
    "#fit to training data\n",
    "lr_over.fit(X_over, y_over)"
   ]
  },
  {
   "cell_type": "code",
   "execution_count": 11,
   "metadata": {},
   "outputs": [
    {
     "name": "stdout",
     "output_type": "stream",
     "text": [
      "              precision    recall  f1-score   support\n",
      "\n",
      "           0       0.36      0.63      0.46      6072\n",
      "           1       0.90      0.74      0.81     26160\n",
      "\n",
      "    accuracy                           0.72     32232\n",
      "   macro avg       0.63      0.68      0.63     32232\n",
      "weighted avg       0.79      0.72      0.74     32232\n",
      "\n",
      "----------\n",
      "Normalized confusion matrix\n"
     ]
    },
    {
     "name": "stderr",
     "output_type": "stream",
     "text": [
      "/Users/nadimkawwa/anaconda3/lib/python3.7/site-packages/matplotlib/figure.py:445: UserWarning: Matplotlib is currently using module://ipykernel.pylab.backend_inline, which is a non-GUI backend, so cannot show the figure.\n",
      "  % get_backend())\n"
     ]
    },
    {
     "data": {
      "image/png": "[encoded data removed]",
      "text/plain": [
       "<Figure size 432x288 with 2 Axes>"
      ]
     },
     "metadata": {
      "needs_background": "light"
     },
     "output_type": "display_data"
    },
    {
     "name": "stdout",
     "output_type": "stream",
     "text": [
      "----------\n"
     ]
    },
    {
     "data": {
      "image/png": "[encoded data removed]",
      "text/plain": [
       "<Figure size 432x288 with 1 Axes>"
      ]
     },
     "metadata": {
      "needs_background": "light"
     },
     "output_type": "display_data"
    },
    {
     "name": "stdout",
     "output_type": "stream",
     "text": [
      "Area Under Curve = 0.6844\n",
      "----------\n"
     ]
    },
    {
     "data": {
      "image/png": "[encoded data removed]",
      "text/plain": [
       "<Figure size 432x288 with 1 Axes>"
      ]
     },
     "metadata": {
      "needs_background": "light"
     },
     "output_type": "display_data"
    }
   ],
   "source": [
    "#make pred with oversampling\n",
    "y_pred_over = lr_over.predict(X_test)\n",
    "\n",
    "print(classification_report(y_test, y_pred_over))\n",
    "print(10*'-')\n",
    "plot_help.plot_confusion_matrix(y_test, y_pred_over, ['closed', 'open'], normalize=True,\n",
    "                                title='Logistic Regression Oversampling')\n",
    "print(10*'-')\n",
    "plot_help.plot_roc_curve(y_test, y_pred_over, 'Logistic Regression Oversampling')\n",
    "print(10*'-')\n",
    "plot_help.plot_prc_curve(y_test, lr_over.predict_proba(X_test)[:, 1], 'Logistic Regression Oversampling')"
   ]
  },
  {
   "cell_type": "code",
   "execution_count": null,
   "metadata": {},
   "outputs": [],
   "source": []
  },
  {
   "cell_type": "code",
   "execution_count": null,
   "metadata": {},
   "outputs": [],
   "source": []
  },
  {
   "cell_type": "code",
   "execution_count": null,
   "metadata": {},
   "outputs": [],
   "source": []
  }
 ],
 "metadata": {
  "kernelspec": {
   "display_name": "Python 3",
   "language": "python",
   "name": "python3"
  },
  "language_info": {
   "codemirror_mode": {
    "name": "ipython",
    "version": 3
   },
   "file_extension": ".py",
   "mimetype": "text/x-python",
   "name": "python",
   "nbconvert_exporter": "python",
   "pygments_lexer": "ipython3",
   "version": "3.7.3"
  }
 },
 "nbformat": 4,
 "nbformat_minor": 2
}
