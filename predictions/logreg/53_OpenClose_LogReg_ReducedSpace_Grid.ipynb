{
 "cells": [
  {
   "cell_type": "code",
   "execution_count": 1,
   "metadata": {},
   "outputs": [],
   "source": [
    "import pandas as pd\n",
    "import numpy as np\n",
    "import matplotlib.pyplot as plt\n",
    "import utils, plot_help\n",
    "\n",
    "\n",
    "from sklearn.preprocessing import MinMaxScaler\n",
    "from sklearn.model_selection import GridSearchCV, train_test_split\n",
    "from sklearn.linear_model import LogisticRegression\n",
    "from sklearn.metrics import classification_report, confusion_matrix, \\\n",
    "                            roc_curve, roc_auc_score, precision_recall_curve\n",
    "\n",
    "from joblib import dump, load\n",
    "\n",
    "%matplotlib inline"
   ]
  },
  {
   "cell_type": "code",
   "execution_count": 2,
   "metadata": {},
   "outputs": [
    {
     "data": {
      "text/html": [
       "<div>\n",
       "<style scoped>\n",
       "    .dataframe tbody tr th:only-of-type {\n",
       "        vertical-align: middle;\n",
       "    }\n",
       "\n",
       "    .dataframe tbody tr th {\n",
       "        vertical-align: top;\n",
       "    }\n",
       "\n",
       "    .dataframe thead th {\n",
       "        text-align: right;\n",
       "    }\n",
       "</style>\n",
       "<table border=\"1\" class=\"dataframe\">\n",
       "  <thead>\n",
       "    <tr style=\"text-align: right;\">\n",
       "      <th></th>\n",
       "      <th>review_count</th>\n",
       "      <th>stars</th>\n",
       "      <th>road_type</th>\n",
       "      <th>GoodForKids</th>\n",
       "      <th>RestaurantsReservations</th>\n",
       "      <th>Caters</th>\n",
       "      <th>RestaurantsTableService</th>\n",
       "      <th>RestaurantsTakeOut</th>\n",
       "      <th>RestaurantsPriceRange2</th>\n",
       "      <th>OutdoorSeating</th>\n",
       "      <th>...</th>\n",
       "      <th>Health</th>\n",
       "      <th>Hair</th>\n",
       "      <th>cool_change</th>\n",
       "      <th>funny_change</th>\n",
       "      <th>stars_change</th>\n",
       "      <th>useful</th>\n",
       "      <th>avg_month_checkin</th>\n",
       "      <th>span_checkin</th>\n",
       "      <th>median_income</th>\n",
       "      <th>is_open</th>\n",
       "    </tr>\n",
       "  </thead>\n",
       "  <tbody>\n",
       "    <tr>\n",
       "      <th>0</th>\n",
       "      <td>5</td>\n",
       "      <td>3.0</td>\n",
       "      <td>1.0</td>\n",
       "      <td>0</td>\n",
       "      <td>0</td>\n",
       "      <td>0</td>\n",
       "      <td>0</td>\n",
       "      <td>0</td>\n",
       "      <td>0</td>\n",
       "      <td>0</td>\n",
       "      <td>...</td>\n",
       "      <td>0</td>\n",
       "      <td>0</td>\n",
       "      <td>0.000000</td>\n",
       "      <td>0.00000</td>\n",
       "      <td>0.000000</td>\n",
       "      <td>0.000000</td>\n",
       "      <td>1.777778</td>\n",
       "      <td>5323</td>\n",
       "      <td>3.5</td>\n",
       "      <td>0</td>\n",
       "    </tr>\n",
       "    <tr>\n",
       "      <th>1</th>\n",
       "      <td>128</td>\n",
       "      <td>2.5</td>\n",
       "      <td>8.0</td>\n",
       "      <td>1</td>\n",
       "      <td>1</td>\n",
       "      <td>1</td>\n",
       "      <td>1</td>\n",
       "      <td>1</td>\n",
       "      <td>2</td>\n",
       "      <td>0</td>\n",
       "      <td>...</td>\n",
       "      <td>0</td>\n",
       "      <td>0</td>\n",
       "      <td>-0.042484</td>\n",
       "      <td>-0.04902</td>\n",
       "      <td>-0.075163</td>\n",
       "      <td>-0.156863</td>\n",
       "      <td>36.083333</td>\n",
       "      <td>15143</td>\n",
       "      <td>3.0</td>\n",
       "      <td>1</td>\n",
       "    </tr>\n",
       "    <tr>\n",
       "      <th>2</th>\n",
       "      <td>170</td>\n",
       "      <td>4.0</td>\n",
       "      <td>6.0</td>\n",
       "      <td>1</td>\n",
       "      <td>1</td>\n",
       "      <td>0</td>\n",
       "      <td>1</td>\n",
       "      <td>1</td>\n",
       "      <td>2</td>\n",
       "      <td>0</td>\n",
       "      <td>...</td>\n",
       "      <td>0</td>\n",
       "      <td>0</td>\n",
       "      <td>-0.110000</td>\n",
       "      <td>-0.19000</td>\n",
       "      <td>0.055000</td>\n",
       "      <td>-0.215000</td>\n",
       "      <td>57.083333</td>\n",
       "      <td>58518</td>\n",
       "      <td>3.5</td>\n",
       "      <td>1</td>\n",
       "    </tr>\n",
       "    <tr>\n",
       "      <th>3</th>\n",
       "      <td>3</td>\n",
       "      <td>5.0</td>\n",
       "      <td>1.0</td>\n",
       "      <td>0</td>\n",
       "      <td>0</td>\n",
       "      <td>0</td>\n",
       "      <td>0</td>\n",
       "      <td>0</td>\n",
       "      <td>0</td>\n",
       "      <td>0</td>\n",
       "      <td>...</td>\n",
       "      <td>0</td>\n",
       "      <td>0</td>\n",
       "      <td>0.000000</td>\n",
       "      <td>0.00000</td>\n",
       "      <td>0.000000</td>\n",
       "      <td>-0.500000</td>\n",
       "      <td>1.222222</td>\n",
       "      <td>8464</td>\n",
       "      <td>3.5</td>\n",
       "      <td>1</td>\n",
       "    </tr>\n",
       "    <tr>\n",
       "      <th>4</th>\n",
       "      <td>3</td>\n",
       "      <td>2.5</td>\n",
       "      <td>6.0</td>\n",
       "      <td>0</td>\n",
       "      <td>0</td>\n",
       "      <td>0</td>\n",
       "      <td>0</td>\n",
       "      <td>0</td>\n",
       "      <td>2</td>\n",
       "      <td>0</td>\n",
       "      <td>...</td>\n",
       "      <td>0</td>\n",
       "      <td>0</td>\n",
       "      <td>0.000000</td>\n",
       "      <td>0.00000</td>\n",
       "      <td>0.000000</td>\n",
       "      <td>0.000000</td>\n",
       "      <td>1.000000</td>\n",
       "      <td>2971</td>\n",
       "      <td>3.0</td>\n",
       "      <td>1</td>\n",
       "    </tr>\n",
       "  </tbody>\n",
       "</table>\n",
       "<p>5 rows × 102 columns</p>\n",
       "</div>"
      ],
      "text/plain": [
       "   review_count  stars  road_type  GoodForKids  RestaurantsReservations  \\\n",
       "0             5    3.0        1.0            0                        0   \n",
       "1           128    2.5        8.0            1                        1   \n",
       "2           170    4.0        6.0            1                        1   \n",
       "3             3    5.0        1.0            0                        0   \n",
       "4             3    2.5        6.0            0                        0   \n",
       "\n",
       "   Caters  RestaurantsTableService  RestaurantsTakeOut  \\\n",
       "0       0                        0                   0   \n",
       "1       1                        1                   1   \n",
       "2       0                        1                   1   \n",
       "3       0                        0                   0   \n",
       "4       0                        0                   0   \n",
       "\n",
       "   RestaurantsPriceRange2  OutdoorSeating   ...     Health  Hair  cool_change  \\\n",
       "0                       0               0   ...          0     0     0.000000   \n",
       "1                       2               0   ...          0     0    -0.042484   \n",
       "2                       2               0   ...          0     0    -0.110000   \n",
       "3                       0               0   ...          0     0     0.000000   \n",
       "4                       2               0   ...          0     0     0.000000   \n",
       "\n",
       "   funny_change  stars_change    useful  avg_month_checkin  span_checkin  \\\n",
       "0       0.00000      0.000000  0.000000           1.777778          5323   \n",
       "1      -0.04902     -0.075163 -0.156863          36.083333         15143   \n",
       "2      -0.19000      0.055000 -0.215000          57.083333         58518   \n",
       "3       0.00000      0.000000 -0.500000           1.222222          8464   \n",
       "4       0.00000      0.000000  0.000000           1.000000          2971   \n",
       "\n",
       "   median_income  is_open  \n",
       "0            3.5        0  \n",
       "1            3.0        1  \n",
       "2            3.5        1  \n",
       "3            3.5        1  \n",
       "4            3.0        1  \n",
       "\n",
       "[5 rows x 102 columns]"
      ]
     },
     "execution_count": 2,
     "metadata": {},
     "output_type": "execute_result"
    }
   ],
   "source": [
    "df = utils.chunk_loader('data/cleaned/business_merge_feats.csv', read_limit=-1)\n",
    "\n",
    "\n",
    "df = df.drop(columns=['latitude', 'longitude', 'postal_code'])\n",
    "\n",
    "#select only numerical columns\n",
    "df_num = df.select_dtypes(include=['int', 'float64'])\n",
    "df_num.shape\n",
    "\n",
    "df_num.head()"
   ]
  },
  {
   "cell_type": "markdown",
   "metadata": {},
   "source": [
    "## From L1 penalty drop columns that had 0 coefficients\n",
    "\n",
    "#### Note: We moved is_open feature to last position in dataframe to be able to copy column indeces as is"
   ]
  },
  {
   "cell_type": "code",
   "execution_count": 3,
   "metadata": {},
   "outputs": [],
   "source": [
    "drop_col_loc = [25, 26, 27, 50, 62, 69, 70, 72, 73, 74, 75, 76, 88, 98]\n",
    "\n",
    "df_num = df_num.drop(df_num.columns[drop_col_loc], axis=1)"
   ]
  },
  {
   "cell_type": "code",
   "execution_count": 4,
   "metadata": {},
   "outputs": [
    {
     "data": {
      "text/plain": [
       "(161160, 88)"
      ]
     },
     "execution_count": 4,
     "metadata": {},
     "output_type": "execute_result"
    }
   ],
   "source": [
    "df_num.shape"
   ]
  },
  {
   "cell_type": "code",
   "execution_count": 5,
   "metadata": {},
   "outputs": [
    {
     "name": "stderr",
     "output_type": "stream",
     "text": [
      "/Users/nadimkawwa/anaconda3/lib/python3.7/site-packages/sklearn/preprocessing/data.py:334: DataConversionWarning: Data with input dtype int64, float64 were all converted to float64 by MinMaxScaler.\n",
      "  return self.partial_fit(X, y)\n"
     ]
    }
   ],
   "source": [
    "X_train, X_test, y_train, y_test = utils.train_test_scale (df_num, \n",
    "                                                           'is_open', \n",
    "                                                           random_state=None)"
   ]
  },
  {
   "cell_type": "code",
   "execution_count": 6,
   "metadata": {},
   "outputs": [
    {
     "name": "stdout",
     "output_type": "stream",
     "text": [
      "Fitting 5 folds for each of 32 candidates, totalling 160 fits\n"
     ]
    },
    {
     "name": "stderr",
     "output_type": "stream",
     "text": [
      "[Parallel(n_jobs=-1)]: Using backend LokyBackend with 4 concurrent workers.\n",
      "[Parallel(n_jobs=-1)]: Done   5 tasks      | elapsed:    5.1s\n",
      "[Parallel(n_jobs=-1)]: Done  10 tasks      | elapsed:    6.7s\n",
      "[Parallel(n_jobs=-1)]: Done  17 tasks      | elapsed:    8.3s\n",
      "[Parallel(n_jobs=-1)]: Done  24 tasks      | elapsed:   10.3s\n",
      "[Parallel(n_jobs=-1)]: Done  33 tasks      | elapsed:   14.0s\n",
      "[Parallel(n_jobs=-1)]: Done  42 tasks      | elapsed:   22.6s\n",
      "[Parallel(n_jobs=-1)]: Done  53 tasks      | elapsed:   52.2s\n",
      "[Parallel(n_jobs=-1)]: Done  64 tasks      | elapsed:  1.2min\n",
      "[Parallel(n_jobs=-1)]: Done  77 tasks      | elapsed:  2.4min\n",
      "[Parallel(n_jobs=-1)]: Done  90 tasks      | elapsed: 60.8min\n",
      "[Parallel(n_jobs=-1)]: Done 105 tasks      | elapsed: 139.2min\n",
      "[Parallel(n_jobs=-1)]: Done 120 tasks      | elapsed: 213.4min\n",
      "[Parallel(n_jobs=-1)]: Done 137 tasks      | elapsed: 270.8min\n",
      "[Parallel(n_jobs=-1)]: Done 160 out of 160 | elapsed: 855.6min finished\n"
     ]
    },
    {
     "data": {
      "text/plain": [
       "GridSearchCV(cv=5, error_score='raise-deprecating',\n",
       "       estimator=LogisticRegression(C=1.0, class_weight=None, dual=False, fit_intercept=True,\n",
       "          intercept_scaling=1, max_iter=200, multi_class='warn',\n",
       "          n_jobs=None, penalty='l2', random_state=None, solver='warn',\n",
       "          tol=0.0001, verbose=0, warm_start=False),\n",
       "       fit_params=None, iid='warn', n_jobs=-1,\n",
       "       param_grid={'penalty': ['l1', 'l2'], 'C': array([1.e-04, 1.e-03, 1.e-02, 1.e-01, 1.e+00, 1.e+01, 1.e+02, 1.e+03]), 'solver': ['liblinear'], 'class_weight': ['balanced', None]},\n",
       "       pre_dispatch='2*n_jobs', refit=True, return_train_score='warn',\n",
       "       scoring='roc_auc', verbose=10)"
      ]
     },
     "execution_count": 6,
     "metadata": {},
     "output_type": "execute_result"
    }
   ],
   "source": [
    "#instantiate logistic regression\n",
    "lr = LogisticRegression(max_iter=200)\n",
    "\n",
    "#param grid\n",
    "lr_param = {'penalty': ['l1', 'l2'], \n",
    "            'C': np.power(10.0, np.arange(-4, 4)), \n",
    "            'solver': ['liblinear'], \n",
    "            'class_weight' :['balanced', None]}\n",
    "\n",
    "#instantite grid search\n",
    "lr_cv = GridSearchCV(lr, lr_param, cv=5, n_jobs=-1, scoring='roc_auc', verbose=10)\n",
    "#fit to training data\n",
    "lr_cv.fit(X_train, y_train)"
   ]
  },
  {
   "cell_type": "code",
   "execution_count": 7,
   "metadata": {},
   "outputs": [
    {
     "name": "stdout",
     "output_type": "stream",
     "text": [
      "{'C': 1000.0, 'class_weight': 'balanced', 'penalty': 'l2', 'solver': 'liblinear'}\n",
      "0.7422376918392182\n"
     ]
    }
   ],
   "source": [
    "#see best combo\n",
    "print(lr_cv.best_params_ )\n",
    "\n",
    "print(lr_cv.best_score_)"
   ]
  },
  {
   "cell_type": "code",
   "execution_count": 8,
   "metadata": {},
   "outputs": [
    {
     "name": "stdout",
     "output_type": "stream",
     "text": [
      "              precision    recall  f1-score   support\n",
      "\n",
      "           0       0.36      0.63      0.45      6072\n",
      "           1       0.90      0.74      0.81     26160\n",
      "\n",
      "   micro avg       0.72      0.72      0.72     32232\n",
      "   macro avg       0.63      0.68      0.63     32232\n",
      "weighted avg       0.79      0.72      0.74     32232\n",
      "\n",
      "--------------------------------------------------\n",
      "Normalized confusion matrix\n"
     ]
    },
    {
     "name": "stderr",
     "output_type": "stream",
     "text": [
      "/Users/nadimkawwa/anaconda3/lib/python3.7/site-packages/matplotlib/figure.py:445: UserWarning: Matplotlib is currently using module://ipykernel.pylab.backend_inline, which is a non-GUI backend, so cannot show the figure.\n",
      "  % get_backend())\n"
     ]
    },
    {
     "data": {
      "image/png": "[encoded data removed]",
      "text/plain": [
       "<Figure size 432x288 with 2 Axes>"
      ]
     },
     "metadata": {
      "needs_background": "light"
     },
     "output_type": "display_data"
    },
    {
     "name": "stdout",
     "output_type": "stream",
     "text": [
      "--------------------------------------------------\n"
     ]
    },
    {
     "data": {
      "image/png": "[encoded data removed]",
      "text/plain": [
       "<Figure size 432x288 with 1 Axes>"
      ]
     },
     "metadata": {
      "needs_background": "light"
     },
     "output_type": "display_data"
    },
    {
     "name": "stdout",
     "output_type": "stream",
     "text": [
      "Area Under Curve = 0.6827\n",
      "--------------------------------------------------\n"
     ]
    },
    {
     "data": {
      "image/png": "[encoded data removed]",
      "text/plain": [
       "<Figure size 432x288 with 1 Axes>"
      ]
     },
     "metadata": {
      "needs_background": "light"
     },
     "output_type": "display_data"
    }
   ],
   "source": [
    "#make pred\n",
    "y_lr = lr_cv.predict(X_test)\n",
    "\n",
    "print(classification_report(y_test, y_lr))\n",
    "print(50*'-')\n",
    "plot_help.plot_confusion_matrix(y_test, y_lr, ['closed', 'open'], normalize=True,\n",
    "                                title='Logistic Regression GridCV')\n",
    "print(50*'-')\n",
    "plot_help.plot_roc_curve(y_test, y_lr, 'Logistic Regression GridCV')\n",
    "print(50*'-')\n",
    "plot_help.plot_prc_curve(y_test, lr_cv.predict_proba(X_test)[:, 1], 'Logistic Regression GridCV')"
   ]
  },
  {
   "cell_type": "code",
   "execution_count": null,
   "metadata": {},
   "outputs": [],
   "source": []
  }
 ],
 "metadata": {
  "kernelspec": {
   "display_name": "Python 3",
   "language": "python",
   "name": "python3"
  },
  "language_info": {
   "codemirror_mode": {
    "name": "ipython",
    "version": 3
   },
   "file_extension": ".py",
   "mimetype": "text/x-python",
   "name": "python",
   "nbconvert_exporter": "python",
   "pygments_lexer": "ipython3",
   "version": "3.7.3"
  }
 },
 "nbformat": 4,
 "nbformat_minor": 2
}
