{
 "cells": [
  {
   "cell_type": "markdown",
   "metadata": {},
   "source": [
    "# Logistic Regression Grid Search"
   ]
  },
  {
   "cell_type": "code",
   "execution_count": 10,
   "metadata": {},
   "outputs": [],
   "source": [
    "import pandas as pd\n",
    "import numpy as np\n",
    "import matplotlib.pyplot as plt\n",
    "import utils, plot_help\n",
    "\n",
    "\n",
    "from sklearn.preprocessing import MinMaxScaler\n",
    "from sklearn.model_selection import GridSearchCV, train_test_split\n",
    "from sklearn.linear_model import LogisticRegression\n",
    "from sklearn.metrics import classification_report, confusion_matrix, \\\n",
    "                            roc_curve, roc_auc_score, precision_recall_curve\n",
    "\n",
    "from joblib import dump, load\n",
    "\n",
    "%matplotlib inline"
   ]
  },
  {
   "cell_type": "code",
   "execution_count": 2,
   "metadata": {},
   "outputs": [],
   "source": [
    "#change read limit to -1 to load entire dataframe\n",
    "df_bus = utils.chunk_loader('data/cleaned/business_merge_feats.csv', read_limit=100_000)"
   ]
  },
  {
   "cell_type": "code",
   "execution_count": 3,
   "metadata": {},
   "outputs": [
    {
     "data": {
      "text/plain": [
       "(100000, 104)"
      ]
     },
     "execution_count": 3,
     "metadata": {},
     "output_type": "execute_result"
    }
   ],
   "source": [
    "#make dataframe of numeric types\n",
    "df_bus_numeric = df_bus.select_dtypes(include=[np.float64, np.int64]).copy()\n",
    "df_bus_numeric.shape"
   ]
  },
  {
   "cell_type": "code",
   "execution_count": 4,
   "metadata": {},
   "outputs": [
    {
     "name": "stderr",
     "output_type": "stream",
     "text": [
      "/Users/nadimkawwa/anaconda3/lib/python3.7/site-packages/sklearn/preprocessing/data.py:334: DataConversionWarning: Data with input dtype int64, float64 were all converted to float64 by MinMaxScaler.\n",
      "  return self.partial_fit(X, y)\n"
     ]
    }
   ],
   "source": [
    "X_train, X_test, y_train, y_test = utils.train_test_scale (df_bus_numeric, \n",
    "                                                           'is_open', \n",
    "                                                           random_state=None)"
   ]
  },
  {
   "cell_type": "markdown",
   "metadata": {},
   "source": [
    "### Logistic Regression with GridSearchCV"
   ]
  },
  {
   "cell_type": "code",
   "execution_count": 5,
   "metadata": {},
   "outputs": [
    {
     "name": "stdout",
     "output_type": "stream",
     "text": [
      "Fitting 5 folds for each of 16 candidates, totalling 80 fits\n"
     ]
    },
    {
     "name": "stderr",
     "output_type": "stream",
     "text": [
      "[Parallel(n_jobs=-1)]: Using backend LokyBackend with 4 concurrent workers.\n",
      "[Parallel(n_jobs=-1)]: Done   5 tasks      | elapsed:   23.5s\n",
      "[Parallel(n_jobs=-1)]: Done  10 tasks      | elapsed:   26.2s\n",
      "[Parallel(n_jobs=-1)]: Done  17 tasks      | elapsed:  1.2min\n",
      "[Parallel(n_jobs=-1)]: Done  24 tasks      | elapsed: 15.1min\n",
      "[Parallel(n_jobs=-1)]: Done  33 tasks      | elapsed: 18.2min\n",
      "[Parallel(n_jobs=-1)]: Done  42 tasks      | elapsed: 36.1min\n",
      "[Parallel(n_jobs=-1)]: Done  53 tasks      | elapsed: 46.0min\n",
      "[Parallel(n_jobs=-1)]: Done  64 tasks      | elapsed: 62.9min\n",
      "[Parallel(n_jobs=-1)]: Done  80 out of  80 | elapsed: 74.8min finished\n"
     ]
    },
    {
     "data": {
      "text/plain": [
       "GridSearchCV(cv=5, error_score='raise-deprecating',\n",
       "       estimator=LogisticRegression(C=1.0, class_weight=None, dual=False, fit_intercept=True,\n",
       "          intercept_scaling=1, max_iter=200, multi_class='warn',\n",
       "          n_jobs=None, penalty='l2', random_state=None, solver='warn',\n",
       "          tol=0.0001, verbose=0, warm_start=False),\n",
       "       fit_params=None, iid='warn', n_jobs=-1,\n",
       "       param_grid={'penalty': ['l1', 'l2'], 'C': [0.1, 1, 10, 100], 'solver': ['liblinear'], 'class_weight': ['balanced', None]},\n",
       "       pre_dispatch='2*n_jobs', refit=True, return_train_score='warn',\n",
       "       scoring='roc_auc', verbose=10)"
      ]
     },
     "execution_count": 5,
     "metadata": {},
     "output_type": "execute_result"
    }
   ],
   "source": [
    "#instantiate logistic regression\n",
    "lr = LogisticRegression(max_iter=200)\n",
    "#param grid\n",
    "lr_param = {'penalty': ['l1', 'l2'], \n",
    "            'C': [0.1, 1, 10, 100], \n",
    "            'solver': ['liblinear'], \n",
    "            'class_weight' :['balanced', None]}\n",
    "#instantite grid search\n",
    "lr_cv = GridSearchCV(lr, lr_param, cv=5, n_jobs=-1, scoring='roc_auc', verbose=10)\n",
    "#fit to training data\n",
    "lr_cv.fit(X_train, y_train)"
   ]
  },
  {
   "cell_type": "code",
   "execution_count": 6,
   "metadata": {},
   "outputs": [
    {
     "name": "stdout",
     "output_type": "stream",
     "text": [
      "{'C': 100, 'class_weight': 'balanced', 'penalty': 'l1', 'solver': 'liblinear'}\n",
      "0.7528036781679931\n"
     ]
    }
   ],
   "source": [
    "#see best combo\n",
    "print(lr_cv.best_params_ )\n",
    "\n",
    "print(lr_cv.best_score_)"
   ]
  },
  {
   "cell_type": "code",
   "execution_count": 7,
   "metadata": {},
   "outputs": [
    {
     "name": "stdout",
     "output_type": "stream",
     "text": [
      "              precision    recall  f1-score   support\n",
      "\n",
      "           0       0.35      0.65      0.45      3767\n",
      "           1       0.90      0.72      0.80     16233\n",
      "\n",
      "   micro avg       0.71      0.71      0.71     20000\n",
      "   macro avg       0.62      0.68      0.63     20000\n",
      "weighted avg       0.79      0.71      0.73     20000\n",
      "\n",
      "----------\n",
      "Normalized confusion matrix\n"
     ]
    },
    {
     "name": "stderr",
     "output_type": "stream",
     "text": [
      "/Users/nadimkawwa/anaconda3/lib/python3.7/site-packages/matplotlib/figure.py:445: UserWarning: Matplotlib is currently using module://ipykernel.pylab.backend_inline, which is a non-GUI backend, so cannot show the figure.\n",
      "  % get_backend())\n"
     ]
    },
    {
     "data": {
      "image/png": "[encoded data removed]",
      "text/plain": [
       "<Figure size 432x288 with 2 Axes>"
      ]
     },
     "metadata": {
      "needs_background": "light"
     },
     "output_type": "display_data"
    },
    {
     "name": "stdout",
     "output_type": "stream",
     "text": [
      "----------\n"
     ]
    },
    {
     "data": {
      "image/png": "[encoded data removed]",
      "text/plain": [
       "<Figure size 432x288 with 1 Axes>"
      ]
     },
     "metadata": {
      "needs_background": "light"
     },
     "output_type": "display_data"
    },
    {
     "name": "stdout",
     "output_type": "stream",
     "text": [
      "Area Under Curve = 0.6837\n",
      "----------\n"
     ]
    },
    {
     "data": {
      "image/png": "[encoded data removed]",
      "text/plain": [
       "<Figure size 432x288 with 1 Axes>"
      ]
     },
     "metadata": {
      "needs_background": "light"
     },
     "output_type": "display_data"
    }
   ],
   "source": [
    "#make pred\n",
    "y_lr = lr_cv.predict(X_test)\n",
    "\n",
    "print(classification_report(y_test, y_lr))\n",
    "print(10*'-')\n",
    "plot_help.plot_confusion_matrix(y_test, y_lr, ['closed', 'open'], normalize=True,\n",
    "                                title='Logistic Regression GridCV')\n",
    "print(10*'-')\n",
    "plot_help.plot_roc_curve(y_test, y_lr, 'Logistic Regression GridCV')\n",
    "print(10*'-')\n",
    "plot_help.plot_prc_curve(y_test, lr_cv.predict_proba(X_test)[:, 1], 'Logistic Regression GridCV')"
   ]
  },
  {
   "cell_type": "code",
   "execution_count": 12,
   "metadata": {
    "scrolled": true
   },
   "outputs": [
    {
     "data": {
      "text/plain": [
       "['classifiers/logreg_cv.joblib']"
      ]
     },
     "execution_count": 12,
     "metadata": {},
     "output_type": "execute_result"
    }
   ],
   "source": [
    "#save the work\n",
    "dump(lr_cv, 'classifiers/logreg_cv.joblib') "
   ]
  }
 ],
 "metadata": {
  "kernelspec": {
   "display_name": "Python 3",
   "language": "python",
   "name": "python3"
  },
  "language_info": {
   "codemirror_mode": {
    "name": "ipython",
    "version": 3
   },
   "file_extension": ".py",
   "mimetype": "text/x-python",
   "name": "python",
   "nbconvert_exporter": "python",
   "pygments_lexer": "ipython3",
   "version": "3.7.3"
  }
 },
 "nbformat": 4,
 "nbformat_minor": 2
}
