{
 "cells": [
  {
   "cell_type": "code",
   "execution_count": 6,
   "metadata": {},
   "outputs": [],
   "source": [
    "import pandas as pd\n",
    "import numpy as np\n",
    "import matplotlib.pyplot as plt\n",
    "import utils, plot_help\n",
    "\n",
    "from sklearn.preprocessing import MinMaxScaler\n",
    "from sklearn.model_selection import GridSearchCV, train_test_split\n",
    "from sklearn.metrics import classification_report, confusion_matrix, \\\n",
    "                            roc_curve, roc_auc_score, precision_recall_curve\n",
    "from joblib import dump, load\n",
    "\n",
    "import xgboost as xgb\n",
    "\n",
    "\n",
    "\n",
    "%matplotlib inline"
   ]
  },
  {
   "cell_type": "code",
   "execution_count": 2,
   "metadata": {},
   "outputs": [
    {
     "name": "stdout",
     "output_type": "stream",
     "text": [
      "(100000, 104)\n"
     ]
    },
    {
     "name": "stderr",
     "output_type": "stream",
     "text": [
      "/Users/nadimkawwa/anaconda3/lib/python3.7/site-packages/sklearn/preprocessing/data.py:334: DataConversionWarning: Data with input dtype int64, float64 were all converted to float64 by MinMaxScaler.\n",
      "  return self.partial_fit(X, y)\n"
     ]
    }
   ],
   "source": [
    "#change read limit to -1 to load entire dataframe\n",
    "df_bus = utils.chunk_loader('data/cleaned/business_merge_feats.csv', read_limit=100_000)\n",
    "\n",
    "#make dataframe of numeric types\n",
    "df_bus_numeric = df_bus.select_dtypes(include=[np.float64, np.int64]).copy()\n",
    "print(df_bus_numeric.shape)\n",
    "\n",
    "X_train, X_test, y_train, y_test = utils.train_test_scale(df_bus_numeric, \n",
    "                                                           'is_open', \n",
    "                                                           random_state=None)"
   ]
  },
  {
   "cell_type": "code",
   "execution_count": 3,
   "metadata": {
    "scrolled": false
   },
   "outputs": [
    {
     "name": "stdout",
     "output_type": "stream",
     "text": [
      "Fitting 5 folds for each of 108 candidates, totalling 540 fits\n"
     ]
    },
    {
     "name": "stderr",
     "output_type": "stream",
     "text": [
      "[Parallel(n_jobs=-1)]: Using backend LokyBackend with 4 concurrent workers.\n",
      "[Parallel(n_jobs=-1)]: Done   5 tasks      | elapsed: 12.6min\n",
      "[Parallel(n_jobs=-1)]: Done  10 tasks      | elapsed: 17.4min\n",
      "[Parallel(n_jobs=-1)]: Done  17 tasks      | elapsed: 26.2min\n",
      "[Parallel(n_jobs=-1)]: Done  24 tasks      | elapsed: 30.8min\n",
      "[Parallel(n_jobs=-1)]: Done  33 tasks      | elapsed: 46.4min\n",
      "[Parallel(n_jobs=-1)]: Done  42 tasks      | elapsed: 61.8min\n",
      "[Parallel(n_jobs=-1)]: Done  53 tasks      | elapsed: 1207.3min\n",
      "[Parallel(n_jobs=-1)]: Done  64 tasks      | elapsed: 1231.6min\n",
      "[Parallel(n_jobs=-1)]: Done  77 tasks      | elapsed: 1264.6min\n",
      "[Parallel(n_jobs=-1)]: Done  90 tasks      | elapsed: 1291.8min\n",
      "[Parallel(n_jobs=-1)]: Done 105 tasks      | elapsed: 1309.0min\n",
      "[Parallel(n_jobs=-1)]: Done 120 tasks      | elapsed: 1324.2min\n",
      "[Parallel(n_jobs=-1)]: Done 137 tasks      | elapsed: 1353.1min\n",
      "[Parallel(n_jobs=-1)]: Done 154 tasks      | elapsed: 1379.8min\n",
      "[Parallel(n_jobs=-1)]: Done 173 tasks      | elapsed: 1419.7min\n",
      "[Parallel(n_jobs=-1)]: Done 192 tasks      | elapsed: 1444.7min\n",
      "[Parallel(n_jobs=-1)]: Done 213 tasks      | elapsed: 1468.2min\n",
      "[Parallel(n_jobs=-1)]: Done 234 tasks      | elapsed: 1499.0min\n",
      "[Parallel(n_jobs=-1)]: Done 257 tasks      | elapsed: 2018.3min\n",
      "[Parallel(n_jobs=-1)]: Done 280 tasks      | elapsed: 2055.2min\n",
      "[Parallel(n_jobs=-1)]: Done 305 tasks      | elapsed: 2089.6min\n",
      "[Parallel(n_jobs=-1)]: Done 330 tasks      | elapsed: 2937.2min\n",
      "[Parallel(n_jobs=-1)]: Done 357 tasks      | elapsed: 2998.3min\n",
      "[Parallel(n_jobs=-1)]: Done 384 tasks      | elapsed: 3030.8min\n",
      "[Parallel(n_jobs=-1)]: Done 413 tasks      | elapsed: 3075.9min\n",
      "[Parallel(n_jobs=-1)]: Done 442 tasks      | elapsed: 3522.6min\n",
      "[Parallel(n_jobs=-1)]: Done 473 tasks      | elapsed: 4372.3min\n",
      "[Parallel(n_jobs=-1)]: Done 504 tasks      | elapsed: 4971.7min\n",
      "[Parallel(n_jobs=-1)]: Done 540 out of 540 | elapsed: 6678.0min finished\n"
     ]
    },
    {
     "data": {
      "text/plain": [
       "GridSearchCV(cv=5, error_score='raise-deprecating',\n",
       "       estimator=XGBClassifier(base_score=0.5, booster='gbtree', colsample_bylevel=1,\n",
       "       colsample_bynode=1, colsample_bytree=1, gamma=0, learning_rate=0.1,\n",
       "       max_delta_step=0, max_depth=3, min_child_weight=1, missing=None,\n",
       "       n_estimators=300, n_jobs=-1, nthread=None,\n",
       "       objective='binary:logistic', random_state=0, reg_alpha=0,\n",
       "       reg_lambda=1, scale_pos_weight=1, seed=None, silent=None,\n",
       "       subsample=0.9, verbosity=1),\n",
       "       fit_params=None, iid='warn', n_jobs=-1,\n",
       "       param_grid={'num_boost_round': [100, 250, 500], 'eta': [0.05, 0.1, 0.3], 'max_depth': [6, 9, 12], 'subsample': [0.9, 1.0], 'colsample_bytree': [0.9, 1.0]},\n",
       "       pre_dispatch='2*n_jobs', refit=True, return_train_score='warn',\n",
       "       scoring='roc_auc', verbose=10)"
      ]
     },
     "execution_count": 3,
     "metadata": {},
     "output_type": "execute_result"
    }
   ],
   "source": [
    "xgb_model = xgb.XGBClassifier(n_estimators=300,subsample=0.9, n_jobs=-1)\n",
    "\n",
    "xgb_grid = {\n",
    "    'num_boost_round': [100, 250, 500],\n",
    "    'eta': [0.05, 0.1, 0.3],\n",
    "    'max_depth': [6, 9, 12],\n",
    "    'subsample': [0.9, 1.0],\n",
    "    'colsample_bytree': [0.9, 1.0],\n",
    "    }\n",
    "\n",
    "clf = GridSearchCV(xgb_model, xgb_grid, n_jobs=-1, cv=5, verbose=10, scoring='roc_auc')\n",
    "\n",
    "#fit to training data\n",
    "clf.fit(X_train, y_train)"
   ]
  },
  {
   "cell_type": "code",
   "execution_count": 8,
   "metadata": {},
   "outputs": [
    {
     "name": "stdout",
     "output_type": "stream",
     "text": [
      "{'colsample_bytree': 0.9, 'eta': 0.05, 'max_depth': 6, 'num_boost_round': 100, 'subsample': 0.9}\n",
      "0.8238012723980093\n"
     ]
    }
   ],
   "source": [
    "print(clf.best_params_ )\n",
    "\n",
    "print(clf.best_score_)"
   ]
  },
  {
   "cell_type": "code",
   "execution_count": 7,
   "metadata": {},
   "outputs": [
    {
     "data": {
      "text/plain": [
       "['classifiers/xgb_cv.joblib']"
      ]
     },
     "execution_count": 7,
     "metadata": {},
     "output_type": "execute_result"
    }
   ],
   "source": [
    "#save the work\n",
    "dump(clf, 'classifiers/xgb_cv.joblib') "
   ]
  },
  {
   "cell_type": "code",
   "execution_count": 9,
   "metadata": {},
   "outputs": [
    {
     "name": "stdout",
     "output_type": "stream",
     "text": [
      "              precision    recall  f1-score   support\n",
      "\n",
      "           0       0.74      0.36      0.48      3767\n",
      "           1       0.87      0.97      0.92     16233\n",
      "\n",
      "   micro avg       0.86      0.86      0.86     20000\n",
      "   macro avg       0.81      0.66      0.70     20000\n",
      "weighted avg       0.84      0.86      0.83     20000\n",
      "\n",
      "----------\n",
      "Normalized confusion matrix\n"
     ]
    },
    {
     "name": "stderr",
     "output_type": "stream",
     "text": [
      "/Users/nadimkawwa/anaconda3/lib/python3.7/site-packages/matplotlib/figure.py:445: UserWarning: Matplotlib is currently using module://ipykernel.pylab.backend_inline, which is a non-GUI backend, so cannot show the figure.\n",
      "  % get_backend())\n"
     ]
    },
    {
     "data": {
      "image/png": "[encoded data removed]",
      "text/plain": [
       "<Figure size 432x288 with 2 Axes>"
      ]
     },
     "metadata": {
      "needs_background": "light"
     },
     "output_type": "display_data"
    },
    {
     "name": "stdout",
     "output_type": "stream",
     "text": [
      "----------\n"
     ]
    },
    {
     "data": {
      "image/png": "[encoded data removed]",
      "text/plain": [
       "<Figure size 432x288 with 1 Axes>"
      ]
     },
     "metadata": {
      "needs_background": "light"
     },
     "output_type": "display_data"
    },
    {
     "name": "stdout",
     "output_type": "stream",
     "text": [
      "Area Under Curve = 0.6643\n",
      "----------\n"
     ]
    },
    {
     "data": {
      "image/png": "[encoded data removed]",
      "text/plain": [
       "<Figure size 432x288 with 1 Axes>"
      ]
     },
     "metadata": {
      "needs_background": "light"
     },
     "output_type": "display_data"
    }
   ],
   "source": [
    "#make pred\n",
    "y_xgb = clf.predict(X_test)\n",
    "\n",
    "print(classification_report(y_test, y_xgb))\n",
    "print(10*'-')\n",
    "plot_help.plot_confusion_matrix(y_test, y_xgb, ['closed', 'open'], normalize=True,\n",
    "                                title='XGB GridCV')\n",
    "print(10*'-')\n",
    "plot_help.plot_roc_curve(y_test, y_xgb, 'XGB GridCV')\n",
    "print(10*'-')\n",
    "plot_help.plot_prc_curve(y_test, clf.predict_proba(X_test)[:, 1], 'XGB GridCV')"
   ]
  },
  {
   "cell_type": "code",
   "execution_count": null,
   "metadata": {},
   "outputs": [],
   "source": []
  }
 ],
 "metadata": {
  "kernelspec": {
   "display_name": "Python 3",
   "language": "python",
   "name": "python3"
  },
  "language_info": {
   "codemirror_mode": {
    "name": "ipython",
    "version": 3
   },
   "file_extension": ".py",
   "mimetype": "text/x-python",
   "name": "python",
   "nbconvert_exporter": "python",
   "pygments_lexer": "ipython3",
   "version": "3.7.3"
  }
 },
 "nbformat": 4,
 "nbformat_minor": 2
}
